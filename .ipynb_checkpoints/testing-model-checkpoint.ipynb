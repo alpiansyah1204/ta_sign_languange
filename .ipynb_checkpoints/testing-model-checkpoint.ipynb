{
 "cells": [
  {
   "cell_type": "markdown",
   "metadata": {
    "id": "6trd5WRsSAwN"
   },
   "source": [
    "# Install and Import property"
   ]
  },
  {
   "cell_type": "code",
   "execution_count": 86,
   "metadata": {
    "colab": {
     "base_uri": "https://localhost:8080/"
    },
    "id": "F28o2iV6PzcT",
    "outputId": "6de42c22-f9e8-4917-9f8a-12ff4fda9d07"
   },
   "outputs": [
    {
     "name": "stdout",
     "output_type": "stream",
     "text": [
      "Requirement already satisfied: tensorflow in c:\\users\\alpian\\anaconda3\\lib\\site-packages (2.9.1)\n",
      "Requirement already satisfied: opencv-python in c:\\users\\alpian\\anaconda3\\lib\\site-packages (4.6.0.66)\n",
      "Requirement already satisfied: mediapipe in c:\\users\\alpian\\anaconda3\\lib\\site-packages (0.8.11)\n",
      "Requirement already satisfied: sklearn in c:\\users\\alpian\\anaconda3\\lib\\site-packages (0.0)\n",
      "Requirement already satisfied: matplotlib in c:\\users\\alpian\\anaconda3\\lib\\site-packages (3.5.1)\n",
      "Requirement already satisfied: absl-py>=1.0.0 in c:\\users\\alpian\\anaconda3\\lib\\site-packages (from tensorflow) (1.0.0)\n",
      "Requirement already satisfied: opt-einsum>=2.3.2 in c:\\users\\alpian\\anaconda3\\lib\\site-packages (from tensorflow) (3.3.0)\n",
      "Requirement already satisfied: gast<=0.4.0,>=0.2.1 in c:\\users\\alpian\\anaconda3\\lib\\site-packages (from tensorflow) (0.4.0)\n",
      "Requirement already satisfied: flatbuffers<2,>=1.12 in c:\\users\\alpian\\anaconda3\\lib\\site-packages (from tensorflow) (1.12)\n",
      "Requirement already satisfied: numpy>=1.20 in c:\\users\\alpian\\anaconda3\\lib\\site-packages (from tensorflow) (1.21.5)\n",
      "Requirement already satisfied: packaging in c:\\users\\alpian\\anaconda3\\lib\\site-packages (from tensorflow) (21.3)\n",
      "Requirement already satisfied: wrapt>=1.11.0 in c:\\users\\alpian\\anaconda3\\lib\\site-packages (from tensorflow) (1.12.1)\n",
      "Requirement already satisfied: libclang>=13.0.0 in c:\\users\\alpian\\anaconda3\\lib\\site-packages (from tensorflow) (14.0.1)\n",
      "Requirement already satisfied: setuptools in c:\\users\\alpian\\anaconda3\\lib\\site-packages (from tensorflow) (61.2.0)\n",
      "Requirement already satisfied: tensorflow-io-gcs-filesystem>=0.23.1 in c:\\users\\alpian\\anaconda3\\lib\\site-packages (from tensorflow) (0.26.0)\n",
      "Requirement already satisfied: protobuf<3.20,>=3.9.2 in c:\\users\\alpian\\anaconda3\\lib\\site-packages (from tensorflow) (3.19.1)\n",
      "Requirement already satisfied: grpcio<2.0,>=1.24.3 in c:\\users\\alpian\\anaconda3\\lib\\site-packages (from tensorflow) (1.42.0)\n",
      "Requirement already satisfied: keras<2.10.0,>=2.9.0rc0 in c:\\users\\alpian\\anaconda3\\lib\\site-packages (from tensorflow) (2.9.0)\n",
      "Requirement already satisfied: typing-extensions>=3.6.6 in c:\\users\\alpian\\anaconda3\\lib\\site-packages (from tensorflow) (4.1.1)\n",
      "Requirement already satisfied: six>=1.12.0 in c:\\users\\alpian\\anaconda3\\lib\\site-packages (from tensorflow) (1.16.0)\n",
      "Requirement already satisfied: tensorboard<2.10,>=2.9 in c:\\users\\alpian\\anaconda3\\lib\\site-packages (from tensorflow) (2.9.0)\n",
      "Requirement already satisfied: astunparse>=1.6.0 in c:\\users\\alpian\\anaconda3\\lib\\site-packages (from tensorflow) (1.6.3)\n",
      "Requirement already satisfied: tensorflow-estimator<2.10.0,>=2.9.0rc0 in c:\\users\\alpian\\anaconda3\\lib\\site-packages (from tensorflow) (2.9.0)\n",
      "Requirement already satisfied: h5py>=2.9.0 in c:\\users\\alpian\\anaconda3\\lib\\site-packages (from tensorflow) (3.6.0)\n",
      "Requirement already satisfied: keras-preprocessing>=1.1.1 in c:\\users\\alpian\\anaconda3\\lib\\site-packages (from tensorflow) (1.1.2)\n",
      "Requirement already satisfied: termcolor>=1.1.0 in c:\\users\\alpian\\anaconda3\\lib\\site-packages (from tensorflow) (1.1.0)\n",
      "Requirement already satisfied: google-pasta>=0.1.1 in c:\\users\\alpian\\anaconda3\\lib\\site-packages (from tensorflow) (0.2.0)\n",
      "Requirement already satisfied: opencv-contrib-python in c:\\users\\alpian\\anaconda3\\lib\\site-packages (from mediapipe) (4.6.0.66)\n",
      "Requirement already satisfied: attrs>=19.1.0 in c:\\users\\alpian\\anaconda3\\lib\\site-packages (from mediapipe) (21.4.0)\n",
      "Requirement already satisfied: scikit-learn in c:\\users\\alpian\\anaconda3\\lib\\site-packages (from sklearn) (1.0.2)\n",
      "Requirement already satisfied: fonttools>=4.22.0 in c:\\users\\alpian\\anaconda3\\lib\\site-packages (from matplotlib) (4.25.0)\n",
      "Requirement already satisfied: pillow>=6.2.0 in c:\\users\\alpian\\anaconda3\\lib\\site-packages (from matplotlib) (9.0.1)\n",
      "Requirement already satisfied: pyparsing>=2.2.1 in c:\\users\\alpian\\anaconda3\\lib\\site-packages (from matplotlib) (3.0.4)\n",
      "Requirement already satisfied: python-dateutil>=2.7 in c:\\users\\alpian\\anaconda3\\lib\\site-packages (from matplotlib) (2.8.2)\n",
      "Requirement already satisfied: cycler>=0.10 in c:\\users\\alpian\\anaconda3\\lib\\site-packages (from matplotlib) (0.11.0)\n",
      "Requirement already satisfied: kiwisolver>=1.0.1 in c:\\users\\alpian\\anaconda3\\lib\\site-packages (from matplotlib) (1.3.2)\n",
      "Requirement already satisfied: wheel<1.0,>=0.23.0 in c:\\users\\alpian\\anaconda3\\lib\\site-packages (from astunparse>=1.6.0->tensorflow) (0.37.1)\n",
      "Requirement already satisfied: requests<3,>=2.21.0 in c:\\users\\alpian\\anaconda3\\lib\\site-packages (from tensorboard<2.10,>=2.9->tensorflow) (2.27.1)\n",
      "Requirement already satisfied: markdown>=2.6.8 in c:\\users\\alpian\\anaconda3\\lib\\site-packages (from tensorboard<2.10,>=2.9->tensorflow) (3.3.4)\n",
      "Requirement already satisfied: werkzeug>=1.0.1 in c:\\users\\alpian\\anaconda3\\lib\\site-packages (from tensorboard<2.10,>=2.9->tensorflow) (2.0.3)\n",
      "Requirement already satisfied: tensorboard-data-server<0.7.0,>=0.6.0 in c:\\users\\alpian\\anaconda3\\lib\\site-packages (from tensorboard<2.10,>=2.9->tensorflow) (0.6.1)\n",
      "Requirement already satisfied: google-auth-oauthlib<0.5,>=0.4.1 in c:\\users\\alpian\\anaconda3\\lib\\site-packages (from tensorboard<2.10,>=2.9->tensorflow) (0.4.6)\n",
      "Requirement already satisfied: tensorboard-plugin-wit>=1.6.0 in c:\\users\\alpian\\anaconda3\\lib\\site-packages (from tensorboard<2.10,>=2.9->tensorflow) (1.8.1)\n",
      "Requirement already satisfied: google-auth<3,>=1.6.3 in c:\\users\\alpian\\anaconda3\\lib\\site-packages (from tensorboard<2.10,>=2.9->tensorflow) (1.33.0)\n",
      "Requirement already satisfied: pyasn1-modules>=0.2.1 in c:\\users\\alpian\\anaconda3\\lib\\site-packages (from google-auth<3,>=1.6.3->tensorboard<2.10,>=2.9->tensorflow) (0.2.8)\n",
      "Requirement already satisfied: cachetools<5.0,>=2.0.0 in c:\\users\\alpian\\anaconda3\\lib\\site-packages (from google-auth<3,>=1.6.3->tensorboard<2.10,>=2.9->tensorflow) (4.2.2)\n",
      "Requirement already satisfied: rsa<5,>=3.1.4 in c:\\users\\alpian\\anaconda3\\lib\\site-packages (from google-auth<3,>=1.6.3->tensorboard<2.10,>=2.9->tensorflow) (4.7.2)\n",
      "Requirement already satisfied: requests-oauthlib>=0.7.0 in c:\\users\\alpian\\anaconda3\\lib\\site-packages (from google-auth-oauthlib<0.5,>=0.4.1->tensorboard<2.10,>=2.9->tensorflow) (1.3.1)\n",
      "Requirement already satisfied: pyasn1<0.5.0,>=0.4.6 in c:\\users\\alpian\\anaconda3\\lib\\site-packages (from pyasn1-modules>=0.2.1->google-auth<3,>=1.6.3->tensorboard<2.10,>=2.9->tensorflow) (0.4.8)\n",
      "Requirement already satisfied: certifi>=2017.4.17 in c:\\users\\alpian\\anaconda3\\lib\\site-packages (from requests<3,>=2.21.0->tensorboard<2.10,>=2.9->tensorflow) (2021.10.8)\n",
      "Requirement already satisfied: urllib3<1.27,>=1.21.1 in c:\\users\\alpian\\anaconda3\\lib\\site-packages (from requests<3,>=2.21.0->tensorboard<2.10,>=2.9->tensorflow) (1.26.9)\n",
      "Requirement already satisfied: idna<4,>=2.5 in c:\\users\\alpian\\anaconda3\\lib\\site-packages (from requests<3,>=2.21.0->tensorboard<2.10,>=2.9->tensorflow) (3.3)\n",
      "Requirement already satisfied: charset-normalizer~=2.0.0 in c:\\users\\alpian\\anaconda3\\lib\\site-packages (from requests<3,>=2.21.0->tensorboard<2.10,>=2.9->tensorflow) (2.0.4)\n",
      "Requirement already satisfied: oauthlib>=3.0.0 in c:\\users\\alpian\\anaconda3\\lib\\site-packages (from requests-oauthlib>=0.7.0->google-auth-oauthlib<0.5,>=0.4.1->tensorboard<2.10,>=2.9->tensorflow) (3.2.0)\n",
      "Requirement already satisfied: joblib>=0.11 in c:\\users\\alpian\\anaconda3\\lib\\site-packages (from scikit-learn->sklearn) (1.1.0)\n",
      "Requirement already satisfied: scipy>=1.1.0 in c:\\users\\alpian\\anaconda3\\lib\\site-packages (from scikit-learn->sklearn) (1.7.3)\n",
      "Requirement already satisfied: threadpoolctl>=2.0.0 in c:\\users\\alpian\\anaconda3\\lib\\site-packages (from scikit-learn->sklearn) (2.2.0)\n"
     ]
    },
    {
     "name": "stderr",
     "output_type": "stream",
     "text": [
      "WARNING: Ignoring invalid distribution -pencv-python (c:\\users\\alpian\\anaconda3\\lib\\site-packages)\n",
      "WARNING: Ignoring invalid distribution -pencv-python (c:\\users\\alpian\\anaconda3\\lib\\site-packages)\n",
      "WARNING: Ignoring invalid distribution -pencv-python (c:\\users\\alpian\\anaconda3\\lib\\site-packages)\n",
      "WARNING: Ignoring invalid distribution -pencv-python (c:\\users\\alpian\\anaconda3\\lib\\site-packages)\n",
      "WARNING: Ignoring invalid distribution -pencv-python (c:\\users\\alpian\\anaconda3\\lib\\site-packages)\n",
      "WARNING: Ignoring invalid distribution -pencv-python (c:\\users\\alpian\\anaconda3\\lib\\site-packages)\n"
     ]
    }
   ],
   "source": [
    "!pip install tensorflow opencv-python mediapipe sklearn matplotlib"
   ]
  },
  {
   "cell_type": "code",
   "execution_count": 87,
   "metadata": {
    "id": "ZY9hTiMNP3Rm"
   },
   "outputs": [],
   "source": [
    "import cv2\n",
    "import numpy as np\n",
    "import os\n",
    "from matplotlib import pyplot as plt\n",
    "import time\n",
    "import mediapipe as mp"
   ]
  },
  {
   "cell_type": "markdown",
   "metadata": {
    "id": "ea0g5g2XSN44"
   },
   "source": [
    "# Making key point using Open CV"
   ]
  },
  {
   "cell_type": "code",
   "execution_count": 88,
   "metadata": {},
   "outputs": [],
   "source": [
    "mp_holistic = mp.solutions.holistic # Holistic model\n",
    "mp_drawing = mp.solutions.drawing_utils # Drawing utilities"
   ]
  },
  {
   "cell_type": "code",
   "execution_count": 89,
   "metadata": {},
   "outputs": [],
   "source": [
    "def mediapipe_detection(image, model):\n",
    "    image = cv2.cvtColor(image,cv2.COLOR_BGR2RGB) # COLOR CONVERSION BGR 2 RGB\n",
    "    image.flags.writeable = False                  # Image is no longer writeable\n",
    "    results = model.process(image)                 # Make prediction\n",
    "    image.flags.writeable = True                   # Image is now writeable \n",
    "    image = cv2.cvtColor(image, cv2.COLOR_RGB2BGR) # COLOR COVERSION RGB 2 BGR\n",
    "    return image, results"
   ]
  },
  {
   "cell_type": "code",
   "execution_count": 90,
   "metadata": {},
   "outputs": [],
   "source": [
    "def draw_landmarks(image, results):\n",
    "    mp_drawing.draw_landmarks(image, results.face_landmarks, mp_holistic.FACEMESH_CONTOURS) # Draw face connections\n",
    "    mp_drawing.draw_landmarks(image, results.pose_landmarks, mp_holistic.POSE_CONNECTIONS) # Draw pose connections\n",
    "    mp_drawing.draw_landmarks(image, results.left_hand_landmarks, mp_holistic.HAND_CONNECTIONS) # Draw left hand connections\n",
    "    mp_drawing.draw_landmarks(image, results.right_hand_landmarks, mp_holistic.HAND_CONNECTIONS) # Draw right hand connections"
   ]
  },
  {
   "cell_type": "code",
   "execution_count": 91,
   "metadata": {},
   "outputs": [],
   "source": [
    "#mp_holistic??"
   ]
  },
  {
   "cell_type": "code",
   "execution_count": 92,
   "metadata": {},
   "outputs": [],
   "source": [
    "def draw_styled_landmarks(image, results):\n",
    "    # Draw face connections\n",
    "    mp_drawing.draw_landmarks(image, results.face_landmarks, mp_holistic.FACEMESH_CONTOURS, \n",
    "                             mp_drawing.DrawingSpec(color=(80,110,10), thickness=1, circle_radius=1), \n",
    "                             mp_drawing.DrawingSpec(color=(80,256,121), thickness=1, circle_radius=1)\n",
    "                             ) \n",
    "    # Draw pose connections\n",
    "    mp_drawing.draw_landmarks(image, results.pose_landmarks, mp_holistic.POSE_CONNECTIONS,\n",
    "                             mp_drawing.DrawingSpec(color=(80,22,10), thickness=2, circle_radius=4), \n",
    "                             mp_drawing.DrawingSpec(color=(80,44,121), thickness=2, circle_radius=2)\n",
    "                             ) \n",
    "    # Draw left hand connections\n",
    "    mp_drawing.draw_landmarks(image, results.left_hand_landmarks, mp_holistic.HAND_CONNECTIONS, \n",
    "                             mp_drawing.DrawingSpec(color=(121,22,76), thickness=2, circle_radius=4), \n",
    "                             mp_drawing.DrawingSpec(color=(121,44,250), thickness=2, circle_radius=2)\n",
    "                             ) \n",
    "    # Draw right hand connections  \n",
    "    mp_drawing.draw_landmarks(image, results.right_hand_landmarks, mp_holistic.HAND_CONNECTIONS, \n",
    "                             mp_drawing.DrawingSpec(color=(245,117,66), thickness=2, circle_radius=4), \n",
    "                             mp_drawing.DrawingSpec(color=(245,66,230), thickness=2, circle_radius=2)\n",
    "                             ) "
   ]
  },
  {
   "cell_type": "code",
   "execution_count": null,
   "metadata": {
    "id": "uMNKXX9SR-8R"
   },
   "outputs": [],
   "source": [
    "cap = cv2.VideoCapture(0)\n",
    "# Set mediapipe model \n",
    "with mp_holistic.Holistic(min_detection_confidence=0.5, min_tracking_confidence=0.5) as holistic:\n",
    "    while cap.isOpened():\n",
    "\n",
    "        # Read feed\n",
    "        ret, frame = cap.read()\n",
    "\n",
    "        # Make detections\n",
    "        image, results = mediapipe_detection(frame, holistic)\n",
    "        print(results)\n",
    "        \n",
    "        # Draw landmarks\n",
    "        draw_styled_landmarks(image, results)\n",
    "\n",
    "        # Show to screen\n",
    "        cv2.imshow('OpenCV Feed', image)\n",
    "\n",
    "        # Break gracefully\n",
    "        if cv2.waitKey(10) & 0xFF == ord('q'):\n",
    "            break\n",
    "    cap.release()\n",
    "    cv2.destroyAllWindows()"
   ]
  },
  {
   "cell_type": "code",
   "execution_count": null,
   "metadata": {},
   "outputs": [],
   "source": [
    "cv2.cvtColor??"
   ]
  },
  {
   "cell_type": "code",
   "execution_count": null,
   "metadata": {
    "id": "0CCPzcJ2TsW9"
   },
   "outputs": [],
   "source": [
    "draw_landmarks(frame, results)"
   ]
  },
  {
   "cell_type": "code",
   "execution_count": null,
   "metadata": {},
   "outputs": [],
   "source": [
    "mp.python.solutions.holistic?"
   ]
  },
  {
   "cell_type": "code",
   "execution_count": null,
   "metadata": {
    "scrolled": true
   },
   "outputs": [],
   "source": [
    "plt.imshow(cv2.cvtColor(frame, cv2.COLOR_BGR2RGB))"
   ]
  },
  {
   "cell_type": "markdown",
   "metadata": {},
   "source": [
    "# Extract keypoint"
   ]
  },
  {
   "cell_type": "code",
   "execution_count": 20,
   "metadata": {},
   "outputs": [
    {
     "ename": "NameError",
     "evalue": "name 'results' is not defined",
     "output_type": "error",
     "traceback": [
      "\u001b[1;31m---------------------------------------------------------------------------\u001b[0m",
      "\u001b[1;31mNameError\u001b[0m                                 Traceback (most recent call last)",
      "Input \u001b[1;32mIn [20]\u001b[0m, in \u001b[0;36m<cell line: 1>\u001b[1;34m()\u001b[0m\n\u001b[1;32m----> 1\u001b[0m \u001b[38;5;28mlen\u001b[39m(\u001b[43mresults\u001b[49m\u001b[38;5;241m.\u001b[39mleft_hand_landmarks\u001b[38;5;241m.\u001b[39mlandmark)\n",
      "\u001b[1;31mNameError\u001b[0m: name 'results' is not defined"
     ]
    }
   ],
   "source": [
    "len(results.left_hand_landmarks.landmark)"
   ]
  },
  {
   "cell_type": "code",
   "execution_count": 21,
   "metadata": {},
   "outputs": [
    {
     "ename": "NameError",
     "evalue": "name 'results' is not defined",
     "output_type": "error",
     "traceback": [
      "\u001b[1;31m---------------------------------------------------------------------------\u001b[0m",
      "\u001b[1;31mNameError\u001b[0m                                 Traceback (most recent call last)",
      "Input \u001b[1;32mIn [21]\u001b[0m, in \u001b[0;36m<cell line: 1>\u001b[1;34m()\u001b[0m\n\u001b[1;32m----> 1\u001b[0m \u001b[43mresults\u001b[49m\u001b[38;5;241m.\u001b[39mleft_hand_landmarks\u001b[38;5;241m.\u001b[39mlandmark[\u001b[38;5;241m0\u001b[39m]\n",
      "\u001b[1;31mNameError\u001b[0m: name 'results' is not defined"
     ]
    }
   ],
   "source": [
    "results.left_hand_landmarks.landmark[0]"
   ]
  },
  {
   "cell_type": "code",
   "execution_count": 22,
   "metadata": {},
   "outputs": [
    {
     "ename": "NameError",
     "evalue": "name 'results' is not defined",
     "output_type": "error",
     "traceback": [
      "\u001b[1;31m---------------------------------------------------------------------------\u001b[0m",
      "\u001b[1;31mNameError\u001b[0m                                 Traceback (most recent call last)",
      "Input \u001b[1;32mIn [22]\u001b[0m, in \u001b[0;36m<cell line: 1>\u001b[1;34m()\u001b[0m\n\u001b[1;32m----> 1\u001b[0m \u001b[38;5;28mlen\u001b[39m(\u001b[43mresults\u001b[49m\u001b[38;5;241m.\u001b[39mface_landmarks\u001b[38;5;241m.\u001b[39mlandmark)\n",
      "\u001b[1;31mNameError\u001b[0m: name 'results' is not defined"
     ]
    }
   ],
   "source": [
    "len(results.face_landmarks.landmark)"
   ]
  },
  {
   "cell_type": "code",
   "execution_count": 23,
   "metadata": {},
   "outputs": [
    {
     "ename": "NameError",
     "evalue": "name 'results' is not defined",
     "output_type": "error",
     "traceback": [
      "\u001b[1;31m---------------------------------------------------------------------------\u001b[0m",
      "\u001b[1;31mNameError\u001b[0m                                 Traceback (most recent call last)",
      "Input \u001b[1;32mIn [23]\u001b[0m, in \u001b[0;36m<cell line: 1>\u001b[1;34m()\u001b[0m\n\u001b[1;32m----> 1\u001b[0m \u001b[43mresults\u001b[49m\u001b[38;5;241m.\u001b[39mface_landmarks\u001b[38;5;241m.\u001b[39mlandmark[\u001b[38;5;241m0\u001b[39m]\n",
      "\u001b[1;31mNameError\u001b[0m: name 'results' is not defined"
     ]
    }
   ],
   "source": [
    "results.face_landmarks.landmark[0]"
   ]
  },
  {
   "cell_type": "code",
   "execution_count": 24,
   "metadata": {},
   "outputs": [
    {
     "ename": "NameError",
     "evalue": "name 'results' is not defined",
     "output_type": "error",
     "traceback": [
      "\u001b[1;31m---------------------------------------------------------------------------\u001b[0m",
      "\u001b[1;31mNameError\u001b[0m                                 Traceback (most recent call last)",
      "Input \u001b[1;32mIn [24]\u001b[0m, in \u001b[0;36m<cell line: 1>\u001b[1;34m()\u001b[0m\n\u001b[1;32m----> 1\u001b[0m pose \u001b[38;5;241m=\u001b[39m np\u001b[38;5;241m.\u001b[39marray([[res\u001b[38;5;241m.\u001b[39mx, res\u001b[38;5;241m.\u001b[39my, res\u001b[38;5;241m.\u001b[39mz, res\u001b[38;5;241m.\u001b[39mvisibility] \u001b[38;5;28;01mfor\u001b[39;00m res \u001b[38;5;129;01min\u001b[39;00m results\u001b[38;5;241m.\u001b[39mpose_landmarks\u001b[38;5;241m.\u001b[39mlandmark])\u001b[38;5;241m.\u001b[39mflatten() \u001b[38;5;28;01mif\u001b[39;00m \u001b[43mresults\u001b[49m\u001b[38;5;241m.\u001b[39mpose_landmarks \u001b[38;5;28;01melse\u001b[39;00m np\u001b[38;5;241m.\u001b[39mzeros(\u001b[38;5;241m132\u001b[39m)\n\u001b[0;32m      2\u001b[0m face \u001b[38;5;241m=\u001b[39m np\u001b[38;5;241m.\u001b[39marray([[res\u001b[38;5;241m.\u001b[39mx, res\u001b[38;5;241m.\u001b[39my, res\u001b[38;5;241m.\u001b[39mz] \u001b[38;5;28;01mfor\u001b[39;00m res \u001b[38;5;129;01min\u001b[39;00m results\u001b[38;5;241m.\u001b[39mface_landmarks\u001b[38;5;241m.\u001b[39mlandmark])\u001b[38;5;241m.\u001b[39mflatten() \u001b[38;5;28;01mif\u001b[39;00m results\u001b[38;5;241m.\u001b[39mface_landmarks \u001b[38;5;28;01melse\u001b[39;00m np\u001b[38;5;241m.\u001b[39mzeros(\u001b[38;5;241m1404\u001b[39m)\n\u001b[0;32m      3\u001b[0m lh \u001b[38;5;241m=\u001b[39m np\u001b[38;5;241m.\u001b[39marray([[res\u001b[38;5;241m.\u001b[39mx, res\u001b[38;5;241m.\u001b[39my, res\u001b[38;5;241m.\u001b[39mz] \u001b[38;5;28;01mfor\u001b[39;00m res \u001b[38;5;129;01min\u001b[39;00m results\u001b[38;5;241m.\u001b[39mleft_hand_landmarks\u001b[38;5;241m.\u001b[39mlandmark])\u001b[38;5;241m.\u001b[39mflatten() \u001b[38;5;28;01mif\u001b[39;00m results\u001b[38;5;241m.\u001b[39mleft_hand_landmarks \u001b[38;5;28;01melse\u001b[39;00m np\u001b[38;5;241m.\u001b[39mzeros(\u001b[38;5;241m21\u001b[39m\u001b[38;5;241m*\u001b[39m\u001b[38;5;241m3\u001b[39m)\n",
      "\u001b[1;31mNameError\u001b[0m: name 'results' is not defined"
     ]
    }
   ],
   "source": [
    "pose = np.array([[res.x, res.y, res.z, res.visibility] for res in results.pose_landmarks.landmark]).flatten() if results.pose_landmarks else np.zeros(132)\n",
    "face = np.array([[res.x, res.y, res.z] for res in results.face_landmarks.landmark]).flatten() if results.face_landmarks else np.zeros(1404)\n",
    "lh = np.array([[res.x, res.y, res.z] for res in results.left_hand_landmarks.landmark]).flatten() if results.left_hand_landmarks else np.zeros(21*3)\n",
    "rh = np.array([[res.x, res.y, res.z] for res in results.right_hand_landmarks.landmark]).flatten() if results.right_hand_landmarks else np.zeros(21*3)"
   ]
  },
  {
   "cell_type": "code",
   "execution_count": 93,
   "metadata": {},
   "outputs": [],
   "source": [
    "def extract_keypoints(results):\n",
    "    pose = np.array([[res.x, res.y, res.z, res.visibility] for res in results.pose_landmarks.landmark]).flatten() if results.pose_landmarks else np.zeros(33*4)\n",
    "    face = np.array([[res.x, res.y, res.z] for res in results.face_landmarks.landmark]).flatten() if results.face_landmarks else np.zeros(468*3)\n",
    "    lh = np.array([[res.x, res.y, res.z] for res in results.left_hand_landmarks.landmark]).flatten() if results.left_hand_landmarks else np.zeros(21*3)\n",
    "    rh = np.array([[res.x, res.y, res.z] for res in results.right_hand_landmarks.landmark]).flatten() if results.right_hand_landmarks else np.zeros(21*3)\n",
    "    return np.concatenate([pose, face, lh, rh])"
   ]
  },
  {
   "cell_type": "code",
   "execution_count": 26,
   "metadata": {},
   "outputs": [
    {
     "ename": "NameError",
     "evalue": "name 'results' is not defined",
     "output_type": "error",
     "traceback": [
      "\u001b[1;31m---------------------------------------------------------------------------\u001b[0m",
      "\u001b[1;31mNameError\u001b[0m                                 Traceback (most recent call last)",
      "Input \u001b[1;32mIn [26]\u001b[0m, in \u001b[0;36m<cell line: 1>\u001b[1;34m()\u001b[0m\n\u001b[1;32m----> 1\u001b[0m result_test \u001b[38;5;241m=\u001b[39m extract_keypoints(\u001b[43mresults\u001b[49m)\n",
      "\u001b[1;31mNameError\u001b[0m: name 'results' is not defined"
     ]
    }
   ],
   "source": [
    "result_test = extract_keypoints(results)"
   ]
  },
  {
   "cell_type": "code",
   "execution_count": 27,
   "metadata": {},
   "outputs": [
    {
     "ename": "NameError",
     "evalue": "name 'result_test' is not defined",
     "output_type": "error",
     "traceback": [
      "\u001b[1;31m---------------------------------------------------------------------------\u001b[0m",
      "\u001b[1;31mNameError\u001b[0m                                 Traceback (most recent call last)",
      "Input \u001b[1;32mIn [27]\u001b[0m, in \u001b[0;36m<cell line: 1>\u001b[1;34m()\u001b[0m\n\u001b[1;32m----> 1\u001b[0m \u001b[43mresult_test\u001b[49m\n",
      "\u001b[1;31mNameError\u001b[0m: name 'result_test' is not defined"
     ]
    }
   ],
   "source": [
    "result_test"
   ]
  },
  {
   "cell_type": "markdown",
   "metadata": {},
   "source": [
    "# Setup Folders for Collection"
   ]
  },
  {
   "cell_type": "code",
   "execution_count": 94,
   "metadata": {},
   "outputs": [],
   "source": [
    "# Path for exported data, numpy arrays\n",
    "\n",
    "DATA_PATH = os.path.join('C:\\\\Users\\\\alpian\\\\taSignLanguage','MP_Data')\n",
    "\n",
    "# Actions that we try to detect\n",
    "actions = np.array(['apa', 'dimana', 'kapan'])\n",
    "\n",
    "# Thirty videos worth of data\n",
    "no_sequences = 30\n",
    "\n",
    "# Videos are going to be 30 frames in length\n",
    "sequence_length = 30\n",
    "\n",
    "# Folder start\n",
    "start_folder = 30"
   ]
  },
  {
   "cell_type": "code",
   "execution_count": 29,
   "metadata": {},
   "outputs": [],
   "source": [
    "for action in actions: \n",
    "    for sequence in range(no_sequences):\n",
    "        try: \n",
    "            os.makedirs(os.path.join(DATA_PATH, action, str(sequence)))\n",
    "        except:\n",
    "            pass"
   ]
  },
  {
   "cell_type": "code",
   "execution_count": null,
   "metadata": {},
   "outputs": [],
   "source": [
    "pwd"
   ]
  },
  {
   "cell_type": "markdown",
   "metadata": {},
   "source": [
    "# Collect Keypoint Values for Training and Testing"
   ]
  },
  {
   "cell_type": "code",
   "execution_count": 33,
   "metadata": {},
   "outputs": [],
   "source": [
    "cap = cv2.VideoCapture(0)\n",
    "# Set mediapipe model \n",
    "with mp_holistic.Holistic(min_detection_confidence=0.5, min_tracking_confidence=0.5) as holistic:\n",
    "    \n",
    "    # NEW LOOP\n",
    "    # Loop through actions\n",
    "    for action in actions:\n",
    "        # Loop through sequences aka videos\n",
    "        for sequence in range(no_sequences):\n",
    "            # Loop through video length aka sequence length\n",
    "            for frame_num in range(sequence_length):\n",
    "\n",
    "                # Read feed\n",
    "                ret, frame = cap.read()\n",
    "\n",
    "                # Make detections\n",
    "                image, results = mediapipe_detection(frame, holistic)\n",
    "#                 print(results)\n",
    "\n",
    "                # Draw landmarks\n",
    "                draw_styled_landmarks(image, results)\n",
    "                \n",
    "                # NEW Apply wait logic\n",
    "                if frame_num == 0: \n",
    "                    cv2.putText(image, 'STARTING COLLECTION', (120,200), \n",
    "                               cv2.FONT_HERSHEY_SIMPLEX, 1, (0,255, 0), 4, cv2.LINE_AA)\n",
    "                    cv2.putText(image, 'Collecting frames for {} Video Number {}'.format(action, sequence), (15,12), \n",
    "                               cv2.FONT_HERSHEY_SIMPLEX, 0.5, (0, 0, 255), 1, cv2.LINE_AA)\n",
    "                    # Show to screen\n",
    "                    cv2.imshow('OpenCV Feed', image)\n",
    "                    cv2.waitKey(2000)\n",
    "                else: \n",
    "                    cv2.putText(image, 'Collecting frames for {} Video Number {}'.format(action, sequence), (15,12), \n",
    "                               cv2.FONT_HERSHEY_SIMPLEX, 0.5, (0, 0, 255), 1, cv2.LINE_AA)\n",
    "                    # Show to screen\n",
    "                    cv2.imshow('OpenCV Feed', image)\n",
    "                \n",
    "                # NEW Export keypoints\n",
    "                keypoints = extract_keypoints(results)\n",
    "                npy_path = os.path.join(DATA_PATH, action, str(sequence), str(frame_num))\n",
    "                np.save(npy_path, keypoints)\n",
    "\n",
    "                # Break gracefully\n",
    "                if cv2.waitKey(10) & 0xFF == ord('q'):\n",
    "                    break\n",
    "                    \n",
    "    cap.release()\n",
    "    cv2.destroyAllWindows()"
   ]
  },
  {
   "cell_type": "code",
   "execution_count": 34,
   "metadata": {},
   "outputs": [],
   "source": [
    "cap.release()\n",
    "cv2.destroyAllWindows()"
   ]
  },
  {
   "cell_type": "markdown",
   "metadata": {},
   "source": [
    "# Preprocess Data and Create Labels and Features"
   ]
  },
  {
   "cell_type": "code",
   "execution_count": 95,
   "metadata": {},
   "outputs": [],
   "source": [
    "from sklearn.model_selection import train_test_split\n",
    "from tensorflow.keras.utils import to_categorical"
   ]
  },
  {
   "cell_type": "code",
   "execution_count": 96,
   "metadata": {},
   "outputs": [],
   "source": [
    "label_map = {label:num for num, label in enumerate(actions)}"
   ]
  },
  {
   "cell_type": "code",
   "execution_count": 97,
   "metadata": {},
   "outputs": [
    {
     "data": {
      "text/plain": [
       "{'apa': 0, 'dimana': 1, 'kapan': 2}"
      ]
     },
     "execution_count": 97,
     "metadata": {},
     "output_type": "execute_result"
    }
   ],
   "source": [
    "label_map"
   ]
  },
  {
   "cell_type": "code",
   "execution_count": 98,
   "metadata": {},
   "outputs": [],
   "source": [
    "sequences, labels = [], []\n",
    "for action in actions:\n",
    "    for sequence in np.array(os.listdir(os.path.join(DATA_PATH, action))).astype(int):\n",
    "        window = []\n",
    "        for frame_num in range(sequence_length):\n",
    "            res = np.load(os.path.join(DATA_PATH, action, str(sequence), \"{}.npy\".format(frame_num)))\n",
    "            window.append(res)\n",
    "        sequences.append(window)\n",
    "        labels.append(label_map[action])"
   ]
  },
  {
   "cell_type": "code",
   "execution_count": 99,
   "metadata": {},
   "outputs": [
    {
     "data": {
      "text/plain": [
       "(90, 30, 1662)"
      ]
     },
     "execution_count": 99,
     "metadata": {},
     "output_type": "execute_result"
    }
   ],
   "source": [
    "np.array(sequences).shape"
   ]
  },
  {
   "cell_type": "code",
   "execution_count": 100,
   "metadata": {},
   "outputs": [],
   "source": [
    "X = np.array(sequences)"
   ]
  },
  {
   "cell_type": "code",
   "execution_count": 101,
   "metadata": {},
   "outputs": [],
   "source": [
    "y = to_categorical(labels).astype(int)"
   ]
  },
  {
   "cell_type": "code",
   "execution_count": 102,
   "metadata": {},
   "outputs": [
    {
     "data": {
      "text/plain": [
       "array([[1, 0, 0],\n",
       "       [1, 0, 0],\n",
       "       [1, 0, 0],\n",
       "       [1, 0, 0],\n",
       "       [1, 0, 0],\n",
       "       [1, 0, 0],\n",
       "       [1, 0, 0],\n",
       "       [1, 0, 0],\n",
       "       [1, 0, 0],\n",
       "       [1, 0, 0],\n",
       "       [1, 0, 0],\n",
       "       [1, 0, 0],\n",
       "       [1, 0, 0],\n",
       "       [1, 0, 0],\n",
       "       [1, 0, 0],\n",
       "       [1, 0, 0],\n",
       "       [1, 0, 0],\n",
       "       [1, 0, 0],\n",
       "       [1, 0, 0],\n",
       "       [1, 0, 0],\n",
       "       [1, 0, 0],\n",
       "       [1, 0, 0],\n",
       "       [1, 0, 0],\n",
       "       [1, 0, 0],\n",
       "       [1, 0, 0],\n",
       "       [1, 0, 0],\n",
       "       [1, 0, 0],\n",
       "       [1, 0, 0],\n",
       "       [1, 0, 0],\n",
       "       [1, 0, 0],\n",
       "       [0, 1, 0],\n",
       "       [0, 1, 0],\n",
       "       [0, 1, 0],\n",
       "       [0, 1, 0],\n",
       "       [0, 1, 0],\n",
       "       [0, 1, 0],\n",
       "       [0, 1, 0],\n",
       "       [0, 1, 0],\n",
       "       [0, 1, 0],\n",
       "       [0, 1, 0],\n",
       "       [0, 1, 0],\n",
       "       [0, 1, 0],\n",
       "       [0, 1, 0],\n",
       "       [0, 1, 0],\n",
       "       [0, 1, 0],\n",
       "       [0, 1, 0],\n",
       "       [0, 1, 0],\n",
       "       [0, 1, 0],\n",
       "       [0, 1, 0],\n",
       "       [0, 1, 0],\n",
       "       [0, 1, 0],\n",
       "       [0, 1, 0],\n",
       "       [0, 1, 0],\n",
       "       [0, 1, 0],\n",
       "       [0, 1, 0],\n",
       "       [0, 1, 0],\n",
       "       [0, 1, 0],\n",
       "       [0, 1, 0],\n",
       "       [0, 1, 0],\n",
       "       [0, 1, 0],\n",
       "       [0, 0, 1],\n",
       "       [0, 0, 1],\n",
       "       [0, 0, 1],\n",
       "       [0, 0, 1],\n",
       "       [0, 0, 1],\n",
       "       [0, 0, 1],\n",
       "       [0, 0, 1],\n",
       "       [0, 0, 1],\n",
       "       [0, 0, 1],\n",
       "       [0, 0, 1],\n",
       "       [0, 0, 1],\n",
       "       [0, 0, 1],\n",
       "       [0, 0, 1],\n",
       "       [0, 0, 1],\n",
       "       [0, 0, 1],\n",
       "       [0, 0, 1],\n",
       "       [0, 0, 1],\n",
       "       [0, 0, 1],\n",
       "       [0, 0, 1],\n",
       "       [0, 0, 1],\n",
       "       [0, 0, 1],\n",
       "       [0, 0, 1],\n",
       "       [0, 0, 1],\n",
       "       [0, 0, 1],\n",
       "       [0, 0, 1],\n",
       "       [0, 0, 1],\n",
       "       [0, 0, 1],\n",
       "       [0, 0, 1],\n",
       "       [0, 0, 1],\n",
       "       [0, 0, 1]])"
      ]
     },
     "execution_count": 102,
     "metadata": {},
     "output_type": "execute_result"
    }
   ],
   "source": [
    "y"
   ]
  },
  {
   "cell_type": "code",
   "execution_count": 103,
   "metadata": {},
   "outputs": [],
   "source": [
    "X_train, X_test, y_train, y_test = train_test_split(X, y, test_size=0.2)"
   ]
  },
  {
   "cell_type": "markdown",
   "metadata": {},
   "source": [
    "# Build and Train LSTM Neural Network"
   ]
  },
  {
   "cell_type": "code",
   "execution_count": 104,
   "metadata": {},
   "outputs": [],
   "source": [
    "from tensorflow.keras.models import Sequential\n",
    "from tensorflow.keras.layers import LSTM, Dense\n",
    "from tensorflow.keras.callbacks import TensorBoard"
   ]
  },
  {
   "cell_type": "code",
   "execution_count": 105,
   "metadata": {},
   "outputs": [],
   "source": [
    "log_dir = os.path.join('Logs')\n",
    "tb_callback = TensorBoard(log_dir=log_dir)"
   ]
  },
  {
   "cell_type": "code",
   "execution_count": 106,
   "metadata": {},
   "outputs": [],
   "source": [
    "model = Sequential()\n",
    "model.add(LSTM(64, return_sequences=True, activation='relu', input_shape=(30,1662)))\n",
    "model.add(LSTM(128, return_sequences=True, activation='relu'))\n",
    "model.add(LSTM(64, return_sequences=False, activation='relu'))\n",
    "model.add(Dense(64, activation='relu'))\n",
    "model.add(Dense(32, activation='relu'))\n",
    "model.add(Dense(actions.shape[0], activation='softmax'))"
   ]
  },
  {
   "cell_type": "code",
   "execution_count": 107,
   "metadata": {},
   "outputs": [],
   "source": [
    "model.compile(optimizer='Adam', loss='categorical_crossentropy', metrics=['accuracy'])"
   ]
  },
  {
   "cell_type": "code",
   "execution_count": 108,
   "metadata": {},
   "outputs": [
    {
     "name": "stdout",
     "output_type": "stream",
     "text": [
      "Epoch 1/250\n",
      "3/3 [==============================] - 6s 381ms/step - loss: 1.5941 - accuracy: 0.3472 - val_loss: 1.3189 - val_accuracy: 0.2222\n",
      "Epoch 2/250\n",
      "3/3 [==============================] - 0s 72ms/step - loss: 1.9998 - accuracy: 0.4167 - val_loss: 4.2061 - val_accuracy: 0.3333\n",
      "Epoch 3/250\n",
      "3/3 [==============================] - 0s 71ms/step - loss: 5.2385 - accuracy: 0.3472 - val_loss: 12.2254 - val_accuracy: 0.1667\n",
      "Epoch 4/250\n",
      "3/3 [==============================] - 0s 74ms/step - loss: 4.1016 - accuracy: 0.3889 - val_loss: 10.6964 - val_accuracy: 0.7222\n",
      "Epoch 5/250\n",
      "3/3 [==============================] - 0s 73ms/step - loss: 7.7769 - accuracy: 0.4722 - val_loss: 3.0319 - val_accuracy: 0.2778\n",
      "Epoch 6/250\n",
      "3/3 [==============================] - 0s 71ms/step - loss: 6.0569 - accuracy: 0.3472 - val_loss: 2.1498 - val_accuracy: 0.5556\n",
      "Epoch 7/250\n",
      "3/3 [==============================] - 0s 71ms/step - loss: 3.2935 - accuracy: 0.3611 - val_loss: 3.2174 - val_accuracy: 0.3889\n",
      "Epoch 8/250\n",
      "3/3 [==============================] - 0s 77ms/step - loss: 3.1615 - accuracy: 0.2917 - val_loss: 2.5788 - val_accuracy: 0.3333\n",
      "Epoch 9/250\n",
      "3/3 [==============================] - 0s 79ms/step - loss: 23.0634 - accuracy: 0.2917 - val_loss: 9.3788 - val_accuracy: 0.3889\n",
      "Epoch 10/250\n",
      "3/3 [==============================] - 0s 79ms/step - loss: 18.3712 - accuracy: 0.3333 - val_loss: 29.0598 - val_accuracy: 0.3333\n",
      "Epoch 11/250\n",
      "3/3 [==============================] - 0s 75ms/step - loss: 28.1593 - accuracy: 0.3194 - val_loss: 30.2901 - val_accuracy: 0.1667\n",
      "Epoch 12/250\n",
      "3/3 [==============================] - 0s 75ms/step - loss: 74.2747 - accuracy: 0.2222 - val_loss: 21.6968 - val_accuracy: 0.5556\n",
      "Epoch 13/250\n",
      "3/3 [==============================] - 0s 84ms/step - loss: 50.7324 - accuracy: 0.4167 - val_loss: 47.0864 - val_accuracy: 0.2778\n",
      "Epoch 14/250\n",
      "3/3 [==============================] - 0s 76ms/step - loss: 32.6264 - accuracy: 0.2361 - val_loss: 6.5057 - val_accuracy: 0.5000\n",
      "Epoch 15/250\n",
      "3/3 [==============================] - 0s 81ms/step - loss: 15.8550 - accuracy: 0.3750 - val_loss: 22.4108 - val_accuracy: 0.2778\n",
      "Epoch 16/250\n",
      "3/3 [==============================] - 0s 80ms/step - loss: 13.9770 - accuracy: 0.3194 - val_loss: 48.8638 - val_accuracy: 0.2222\n",
      "Epoch 17/250\n",
      "3/3 [==============================] - 0s 75ms/step - loss: 16.9958 - accuracy: 0.3611 - val_loss: 12.2318 - val_accuracy: 0.3333\n",
      "Epoch 18/250\n",
      "3/3 [==============================] - 0s 77ms/step - loss: 16.3731 - accuracy: 0.4167 - val_loss: 25.8628 - val_accuracy: 0.3889\n",
      "Epoch 19/250\n",
      "3/3 [==============================] - 0s 81ms/step - loss: 26.4951 - accuracy: 0.3472 - val_loss: 19.9212 - val_accuracy: 0.4444\n",
      "Epoch 20/250\n",
      "3/3 [==============================] - 0s 77ms/step - loss: 22.6580 - accuracy: 0.3056 - val_loss: 23.2040 - val_accuracy: 0.1667\n",
      "Epoch 21/250\n",
      "3/3 [==============================] - 0s 71ms/step - loss: 15.0418 - accuracy: 0.3333 - val_loss: 10.0814 - val_accuracy: 0.5000\n",
      "Epoch 22/250\n",
      "3/3 [==============================] - 0s 78ms/step - loss: 13.1264 - accuracy: 0.3611 - val_loss: 42.6153 - val_accuracy: 0.1667\n",
      "Epoch 23/250\n",
      "3/3 [==============================] - 0s 77ms/step - loss: 34.7147 - accuracy: 0.3194 - val_loss: 25.2831 - val_accuracy: 0.2222\n",
      "Epoch 24/250\n",
      "3/3 [==============================] - 0s 79ms/step - loss: 21.5619 - accuracy: 0.3194 - val_loss: 19.1181 - val_accuracy: 0.3889\n",
      "Epoch 25/250\n",
      "3/3 [==============================] - 0s 77ms/step - loss: 38.3319 - accuracy: 0.2778 - val_loss: 21.5317 - val_accuracy: 0.4444\n",
      "Epoch 26/250\n",
      "3/3 [==============================] - 0s 78ms/step - loss: 30.0079 - accuracy: 0.4028 - val_loss: 52.8415 - val_accuracy: 0.2778\n",
      "Epoch 27/250\n",
      "3/3 [==============================] - 0s 75ms/step - loss: 51.5817 - accuracy: 0.3056 - val_loss: 48.6256 - val_accuracy: 0.2222\n",
      "Epoch 28/250\n",
      "3/3 [==============================] - 0s 81ms/step - loss: 71.6023 - accuracy: 0.2361 - val_loss: 185.1865 - val_accuracy: 0.1667\n",
      "Epoch 29/250\n",
      "3/3 [==============================] - 0s 79ms/step - loss: 99.9014 - accuracy: 0.4028 - val_loss: 78.2902 - val_accuracy: 0.4444\n",
      "Epoch 30/250\n",
      "3/3 [==============================] - 0s 73ms/step - loss: 130.6707 - accuracy: 0.3056 - val_loss: 169.4205 - val_accuracy: 0.3333\n",
      "Epoch 31/250\n",
      "3/3 [==============================] - 0s 87ms/step - loss: 175.2019 - accuracy: 0.3056 - val_loss: 318.8902 - val_accuracy: 0.2222\n",
      "Epoch 32/250\n",
      "3/3 [==============================] - 0s 83ms/step - loss: 371.3720 - accuracy: 0.2917 - val_loss: 321.9791 - val_accuracy: 0.2778\n",
      "Epoch 33/250\n",
      "3/3 [==============================] - 0s 76ms/step - loss: 531.4026 - accuracy: 0.3194 - val_loss: 814.8625 - val_accuracy: 0.5000\n",
      "Epoch 34/250\n",
      "3/3 [==============================] - 0s 72ms/step - loss: 912.4882 - accuracy: 0.3333 - val_loss: 1014.0239 - val_accuracy: 0.2222\n",
      "Epoch 35/250\n",
      "3/3 [==============================] - 0s 82ms/step - loss: 600.6277 - accuracy: 0.4028 - val_loss: 483.7420 - val_accuracy: 0.1667\n",
      "Epoch 36/250\n",
      "3/3 [==============================] - 0s 90ms/step - loss: 467.6223 - accuracy: 0.3611 - val_loss: 790.4340 - val_accuracy: 0.2222\n",
      "Epoch 37/250\n",
      "3/3 [==============================] - 0s 82ms/step - loss: 557.3830 - accuracy: 0.3611 - val_loss: 1532.6665 - val_accuracy: 0.2778\n",
      "Epoch 38/250\n",
      "3/3 [==============================] - 0s 79ms/step - loss: 1048.0544 - accuracy: 0.3333 - val_loss: 370.8156 - val_accuracy: 0.5000\n",
      "Epoch 39/250\n",
      "3/3 [==============================] - 0s 78ms/step - loss: 372.6070 - accuracy: 0.4028 - val_loss: 819.6743 - val_accuracy: 0.1667\n",
      "Epoch 40/250\n",
      "3/3 [==============================] - 0s 87ms/step - loss: 498.5209 - accuracy: 0.3194 - val_loss: 57.2071 - val_accuracy: 0.6111\n",
      "Epoch 41/250\n",
      "3/3 [==============================] - 0s 86ms/step - loss: 227.6496 - accuracy: 0.4167 - val_loss: 260.5104 - val_accuracy: 0.4444\n",
      "Epoch 42/250\n",
      "3/3 [==============================] - 0s 79ms/step - loss: 380.4695 - accuracy: 0.3194 - val_loss: 512.8875 - val_accuracy: 0.2222\n",
      "Epoch 43/250\n",
      "3/3 [==============================] - 0s 83ms/step - loss: 402.9080 - accuracy: 0.2917 - val_loss: 438.2501 - val_accuracy: 0.2222\n",
      "Epoch 44/250\n",
      "3/3 [==============================] - 0s 77ms/step - loss: 333.7259 - accuracy: 0.3333 - val_loss: 240.0520 - val_accuracy: 0.4444\n",
      "Epoch 45/250\n",
      "3/3 [==============================] - 0s 73ms/step - loss: 360.9187 - accuracy: 0.4028 - val_loss: 284.1909 - val_accuracy: 0.2222\n",
      "Epoch 46/250\n",
      "3/3 [==============================] - 0s 71ms/step - loss: 288.1154 - accuracy: 0.3333 - val_loss: 353.5323 - val_accuracy: 0.2778\n",
      "Epoch 47/250\n",
      "3/3 [==============================] - 0s 75ms/step - loss: 401.4420 - accuracy: 0.3472 - val_loss: 397.4118 - val_accuracy: 0.2778\n",
      "Epoch 48/250\n",
      "3/3 [==============================] - 0s 74ms/step - loss: 325.7892 - accuracy: 0.3750 - val_loss: 138.6529 - val_accuracy: 0.5000\n",
      "Epoch 49/250\n",
      "3/3 [==============================] - 0s 74ms/step - loss: 149.5500 - accuracy: 0.3750 - val_loss: 668.2173 - val_accuracy: 0.2778\n",
      "Epoch 50/250\n",
      "3/3 [==============================] - 0s 73ms/step - loss: 430.9298 - accuracy: 0.3333 - val_loss: 369.0504 - val_accuracy: 0.3889\n",
      "Epoch 51/250\n",
      "3/3 [==============================] - 0s 73ms/step - loss: 802.5844 - accuracy: 0.2639 - val_loss: 213.7345 - val_accuracy: 0.5000\n",
      "Epoch 52/250\n",
      "3/3 [==============================] - 0s 73ms/step - loss: 475.0175 - accuracy: 0.2500 - val_loss: 361.3398 - val_accuracy: 0.1111\n",
      "Epoch 53/250\n",
      "3/3 [==============================] - 0s 81ms/step - loss: 241.7087 - accuracy: 0.3194 - val_loss: 231.6883 - val_accuracy: 0.2778\n",
      "Epoch 54/250\n",
      "3/3 [==============================] - 0s 75ms/step - loss: 266.3596 - accuracy: 0.3472 - val_loss: 354.7516 - val_accuracy: 0.5000\n",
      "Epoch 55/250\n",
      "3/3 [==============================] - 0s 72ms/step - loss: 417.6724 - accuracy: 0.3333 - val_loss: 361.3978 - val_accuracy: 0.2778\n",
      "Epoch 56/250\n",
      "3/3 [==============================] - 0s 71ms/step - loss: 209.8361 - accuracy: 0.3056 - val_loss: 308.2790 - val_accuracy: 0.2222\n",
      "Epoch 57/250\n",
      "3/3 [==============================] - 0s 71ms/step - loss: 163.1656 - accuracy: 0.3750 - val_loss: 201.3667 - val_accuracy: 0.2778\n",
      "Epoch 58/250\n"
     ]
    },
    {
     "name": "stdout",
     "output_type": "stream",
     "text": [
      "3/3 [==============================] - 0s 80ms/step - loss: 119.2457 - accuracy: 0.3611 - val_loss: 151.9912 - val_accuracy: 0.2222\n",
      "Epoch 59/250\n",
      "3/3 [==============================] - 0s 79ms/step - loss: 137.9185 - accuracy: 0.3472 - val_loss: 174.6597 - val_accuracy: 0.2222\n",
      "Epoch 60/250\n",
      "3/3 [==============================] - 0s 75ms/step - loss: 107.3563 - accuracy: 0.2917 - val_loss: 117.0606 - val_accuracy: 0.1667\n",
      "Epoch 61/250\n",
      "3/3 [==============================] - 0s 78ms/step - loss: 95.4671 - accuracy: 0.3333 - val_loss: 70.9332 - val_accuracy: 0.3889\n",
      "Epoch 62/250\n",
      "3/3 [==============================] - 0s 83ms/step - loss: 100.6529 - accuracy: 0.2917 - val_loss: 105.1673 - val_accuracy: 0.3333\n",
      "Epoch 63/250\n",
      "3/3 [==============================] - 0s 75ms/step - loss: 130.1557 - accuracy: 0.2361 - val_loss: 29.1671 - val_accuracy: 0.2222\n",
      "Epoch 64/250\n",
      "3/3 [==============================] - 0s 71ms/step - loss: 68.5264 - accuracy: 0.2917 - val_loss: 98.9387 - val_accuracy: 0.2778\n",
      "Epoch 65/250\n",
      "3/3 [==============================] - 0s 73ms/step - loss: 118.8537 - accuracy: 0.3472 - val_loss: 121.4841 - val_accuracy: 0.5000\n",
      "Epoch 66/250\n",
      "3/3 [==============================] - 0s 72ms/step - loss: 175.8356 - accuracy: 0.2778 - val_loss: 111.3948 - val_accuracy: 0.1111\n",
      "Epoch 67/250\n",
      "3/3 [==============================] - 0s 79ms/step - loss: 70.1743 - accuracy: 0.3889 - val_loss: 98.4812 - val_accuracy: 0.2778\n",
      "Epoch 68/250\n",
      "3/3 [==============================] - 0s 80ms/step - loss: 71.1066 - accuracy: 0.3889 - val_loss: 144.6784 - val_accuracy: 0.2222\n",
      "Epoch 69/250\n",
      "3/3 [==============================] - 0s 72ms/step - loss: 99.4974 - accuracy: 0.3611 - val_loss: 94.3987 - val_accuracy: 0.2222\n",
      "Epoch 70/250\n",
      "3/3 [==============================] - 0s 71ms/step - loss: 47.6711 - accuracy: 0.3611 - val_loss: 54.1013 - val_accuracy: 0.5000\n",
      "Epoch 71/250\n",
      "3/3 [==============================] - 0s 74ms/step - loss: 65.0521 - accuracy: 0.2917 - val_loss: 92.6355 - val_accuracy: 0.2778\n",
      "Epoch 72/250\n",
      "3/3 [==============================] - 0s 80ms/step - loss: 120.5370 - accuracy: 0.4583 - val_loss: 62.2416 - val_accuracy: 0.2222\n",
      "Epoch 73/250\n",
      "3/3 [==============================] - 0s 73ms/step - loss: 74.0484 - accuracy: 0.3472 - val_loss: 112.8444 - val_accuracy: 0.3889\n",
      "Epoch 74/250\n",
      "3/3 [==============================] - 0s 75ms/step - loss: 164.2147 - accuracy: 0.2917 - val_loss: 105.7014 - val_accuracy: 0.5000\n",
      "Epoch 75/250\n",
      "3/3 [==============================] - 0s 72ms/step - loss: 129.0778 - accuracy: 0.2639 - val_loss: 6.4101 - val_accuracy: 0.5000\n",
      "Epoch 76/250\n",
      "3/3 [==============================] - 0s 76ms/step - loss: 56.8394 - accuracy: 0.4583 - val_loss: 151.3928 - val_accuracy: 0.2222\n",
      "Epoch 77/250\n",
      "3/3 [==============================] - 0s 73ms/step - loss: 104.2813 - accuracy: 0.3611 - val_loss: 52.0001 - val_accuracy: 0.2778\n",
      "Epoch 78/250\n",
      "3/3 [==============================] - 0s 72ms/step - loss: 70.9772 - accuracy: 0.3472 - val_loss: 85.1269 - val_accuracy: 0.5000\n",
      "Epoch 79/250\n",
      "3/3 [==============================] - 0s 73ms/step - loss: 122.3021 - accuracy: 0.3333 - val_loss: 98.4182 - val_accuracy: 0.2778\n",
      "Epoch 80/250\n",
      "3/3 [==============================] - 0s 78ms/step - loss: 105.8062 - accuracy: 0.3056 - val_loss: 40.3529 - val_accuracy: 0.5000\n",
      "Epoch 81/250\n",
      "3/3 [==============================] - 0s 79ms/step - loss: 60.0163 - accuracy: 0.2083 - val_loss: 62.6384 - val_accuracy: 0.2222\n",
      "Epoch 82/250\n",
      "3/3 [==============================] - 0s 78ms/step - loss: 55.2311 - accuracy: 0.2639 - val_loss: 37.5733 - val_accuracy: 0.2778\n",
      "Epoch 83/250\n",
      "3/3 [==============================] - 0s 73ms/step - loss: 24.5950 - accuracy: 0.4583 - val_loss: 42.4496 - val_accuracy: 0.5000\n",
      "Epoch 84/250\n",
      "3/3 [==============================] - 0s 71ms/step - loss: 55.3655 - accuracy: 0.3472 - val_loss: 23.9649 - val_accuracy: 0.5000\n",
      "Epoch 85/250\n",
      "3/3 [==============================] - 0s 71ms/step - loss: 17.7335 - accuracy: 0.4167 - val_loss: 21.5364 - val_accuracy: 0.2222\n",
      "Epoch 86/250\n",
      "3/3 [==============================] - 0s 90ms/step - loss: 13.4765 - accuracy: 0.4306 - val_loss: 13.2579 - val_accuracy: 0.5000\n",
      "Epoch 87/250\n",
      "3/3 [==============================] - 0s 81ms/step - loss: 27.5414 - accuracy: 0.2361 - val_loss: 4.9284 - val_accuracy: 0.2778\n",
      "Epoch 88/250\n",
      "3/3 [==============================] - 0s 76ms/step - loss: 7.3462 - accuracy: 0.4583 - val_loss: 36.4146 - val_accuracy: 0.2778\n",
      "Epoch 89/250\n",
      "3/3 [==============================] - 0s 74ms/step - loss: 24.4025 - accuracy: 0.3194 - val_loss: 27.2354 - val_accuracy: 0.5000\n",
      "Epoch 90/250\n",
      "3/3 [==============================] - 0s 77ms/step - loss: 35.6037 - accuracy: 0.2917 - val_loss: 22.8736 - val_accuracy: 0.3333\n",
      "Epoch 91/250\n",
      "3/3 [==============================] - 0s 77ms/step - loss: 24.2037 - accuracy: 0.4167 - val_loss: 61.2785 - val_accuracy: 0.2222\n",
      "Epoch 92/250\n",
      "3/3 [==============================] - 0s 77ms/step - loss: 38.0954 - accuracy: 0.3889 - val_loss: 33.1436 - val_accuracy: 0.5000\n",
      "Epoch 93/250\n",
      "3/3 [==============================] - 0s 75ms/step - loss: 12.2933 - accuracy: 0.5694 - val_loss: 9.2476 - val_accuracy: 0.2778\n",
      "Epoch 94/250\n",
      "3/3 [==============================] - 0s 72ms/step - loss: 17.0267 - accuracy: 0.3333 - val_loss: 6.0517 - val_accuracy: 0.7222\n",
      "Epoch 95/250\n",
      "3/3 [==============================] - 0s 78ms/step - loss: 13.9764 - accuracy: 0.5278 - val_loss: 33.1083 - val_accuracy: 0.2778\n",
      "Epoch 96/250\n",
      "3/3 [==============================] - 0s 77ms/step - loss: 38.1963 - accuracy: 0.2917 - val_loss: 22.8416 - val_accuracy: 0.5000\n",
      "Epoch 97/250\n",
      "3/3 [==============================] - 0s 73ms/step - loss: 24.4592 - accuracy: 0.3056 - val_loss: 15.6331 - val_accuracy: 0.5000\n",
      "Epoch 98/250\n",
      "3/3 [==============================] - 0s 73ms/step - loss: 8.6797 - accuracy: 0.7083 - val_loss: 18.3786 - val_accuracy: 0.2222\n",
      "Epoch 99/250\n",
      "3/3 [==============================] - 0s 72ms/step - loss: 36.3925 - accuracy: 0.3472 - val_loss: 27.6547 - val_accuracy: 0.5000\n",
      "Epoch 100/250\n",
      "3/3 [==============================] - 0s 81ms/step - loss: 35.6118 - accuracy: 0.3333 - val_loss: 66.3651 - val_accuracy: 0.2778\n",
      "Epoch 101/250\n",
      "3/3 [==============================] - 0s 73ms/step - loss: 55.7168 - accuracy: 0.3472 - val_loss: 55.7542 - val_accuracy: 0.2222\n",
      "Epoch 102/250\n",
      "3/3 [==============================] - 0s 72ms/step - loss: 45.9120 - accuracy: 0.3611 - val_loss: 27.7717 - val_accuracy: 0.5000\n",
      "Epoch 103/250\n",
      "3/3 [==============================] - 0s 73ms/step - loss: 32.1889 - accuracy: 0.3056 - val_loss: 61.9572 - val_accuracy: 0.2778\n",
      "Epoch 104/250\n",
      "3/3 [==============================] - 0s 77ms/step - loss: 39.2666 - accuracy: 0.4028 - val_loss: 85.9723 - val_accuracy: 0.2222\n",
      "Epoch 105/250\n",
      "3/3 [==============================] - 0s 74ms/step - loss: 70.6989 - accuracy: 0.3611 - val_loss: 37.9146 - val_accuracy: 0.5000\n",
      "Epoch 106/250\n",
      "3/3 [==============================] - 0s 73ms/step - loss: 49.3859 - accuracy: 0.2917 - val_loss: 84.2720 - val_accuracy: 0.2778\n",
      "Epoch 107/250\n",
      "3/3 [==============================] - 0s 74ms/step - loss: 99.6150 - accuracy: 0.3472 - val_loss: 84.9688 - val_accuracy: 0.2778\n",
      "Epoch 108/250\n",
      "3/3 [==============================] - 0s 72ms/step - loss: 45.6235 - accuracy: 0.4722 - val_loss: 70.4936 - val_accuracy: 0.2222\n",
      "Epoch 109/250\n",
      "3/3 [==============================] - 0s 84ms/step - loss: 56.8066 - accuracy: 0.3333 - val_loss: 26.8172 - val_accuracy: 0.5000\n",
      "Epoch 110/250\n",
      "3/3 [==============================] - 0s 74ms/step - loss: 32.3917 - accuracy: 0.2917 - val_loss: 19.9304 - val_accuracy: 0.2778\n",
      "Epoch 111/250\n",
      "3/3 [==============================] - 0s 74ms/step - loss: 15.7521 - accuracy: 0.4028 - val_loss: 27.7045 - val_accuracy: 0.5000\n",
      "Epoch 112/250\n",
      "3/3 [==============================] - 0s 76ms/step - loss: 33.2939 - accuracy: 0.2500 - val_loss: 9.1344 - val_accuracy: 0.2222\n",
      "Epoch 113/250\n",
      "3/3 [==============================] - 0s 80ms/step - loss: 8.9496 - accuracy: 0.3333 - val_loss: 7.3862 - val_accuracy: 0.5000\n",
      "Epoch 114/250\n",
      "3/3 [==============================] - 0s 74ms/step - loss: 8.6138 - accuracy: 0.3056 - val_loss: 40.7855 - val_accuracy: 0.2778\n",
      "Epoch 115/250\n"
     ]
    },
    {
     "name": "stdout",
     "output_type": "stream",
     "text": [
      "3/3 [==============================] - 0s 74ms/step - loss: 29.6020 - accuracy: 0.3889 - val_loss: 27.1052 - val_accuracy: 0.2222\n",
      "Epoch 116/250\n",
      "3/3 [==============================] - 0s 71ms/step - loss: 17.8692 - accuracy: 0.3194 - val_loss: 22.2486 - val_accuracy: 0.2778\n",
      "Epoch 117/250\n",
      "3/3 [==============================] - 0s 71ms/step - loss: 18.5901 - accuracy: 0.3333 - val_loss: 44.3695 - val_accuracy: 0.2222\n",
      "Epoch 118/250\n",
      "3/3 [==============================] - 0s 78ms/step - loss: 28.6049 - accuracy: 0.3611 - val_loss: 34.8610 - val_accuracy: 0.2778\n",
      "Epoch 119/250\n",
      "3/3 [==============================] - 0s 74ms/step - loss: 36.4894 - accuracy: 0.3472 - val_loss: 13.0247 - val_accuracy: 0.5000\n",
      "Epoch 120/250\n",
      "3/3 [==============================] - 0s 79ms/step - loss: 14.4054 - accuracy: 0.3611 - val_loss: 42.2314 - val_accuracy: 0.2222\n",
      "Epoch 121/250\n",
      "3/3 [==============================] - 0s 72ms/step - loss: 28.6836 - accuracy: 0.3056 - val_loss: 15.3204 - val_accuracy: 0.2778\n",
      "Epoch 122/250\n",
      "3/3 [==============================] - 0s 72ms/step - loss: 15.5384 - accuracy: 0.3750 - val_loss: 14.1355 - val_accuracy: 0.5000\n",
      "Epoch 123/250\n",
      "3/3 [==============================] - 0s 83ms/step - loss: 19.1842 - accuracy: 0.4306 - val_loss: 39.2299 - val_accuracy: 0.2778\n",
      "Epoch 124/250\n",
      "3/3 [==============================] - 0s 75ms/step - loss: 23.6912 - accuracy: 0.3611 - val_loss: 15.3838 - val_accuracy: 0.5000\n",
      "Epoch 125/250\n",
      "3/3 [==============================] - 0s 72ms/step - loss: 19.3942 - accuracy: 0.3194 - val_loss: 33.7572 - val_accuracy: 0.2778\n",
      "Epoch 126/250\n",
      "3/3 [==============================] - 0s 70ms/step - loss: 26.3566 - accuracy: 0.4028 - val_loss: 83.2745 - val_accuracy: 0.2222\n",
      "Epoch 127/250\n",
      "3/3 [==============================] - 0s 72ms/step - loss: 51.9957 - accuracy: 0.3472 - val_loss: 41.5456 - val_accuracy: 0.2778\n",
      "Epoch 128/250\n",
      "3/3 [==============================] - 0s 78ms/step - loss: 22.9280 - accuracy: 0.3333 - val_loss: 20.1764 - val_accuracy: 0.5000\n",
      "Epoch 129/250\n",
      "3/3 [==============================] - 0s 72ms/step - loss: 29.0707 - accuracy: 0.3333 - val_loss: 30.2507 - val_accuracy: 0.2778\n",
      "Epoch 130/250\n",
      "3/3 [==============================] - 0s 71ms/step - loss: 25.3258 - accuracy: 0.3750 - val_loss: 25.3582 - val_accuracy: 0.2222\n",
      "Epoch 131/250\n",
      "3/3 [==============================] - 0s 74ms/step - loss: 32.2115 - accuracy: 0.3611 - val_loss: 6.4358 - val_accuracy: 0.5000\n",
      "Epoch 132/250\n",
      "3/3 [==============================] - 0s 78ms/step - loss: 11.3429 - accuracy: 0.3056 - val_loss: 19.8065 - val_accuracy: 0.2222\n",
      "Epoch 133/250\n",
      "3/3 [==============================] - 0s 75ms/step - loss: 16.8016 - accuracy: 0.3750 - val_loss: 13.2220 - val_accuracy: 0.5000\n",
      "Epoch 134/250\n",
      "3/3 [==============================] - 0s 71ms/step - loss: 19.6936 - accuracy: 0.3750 - val_loss: 14.7290 - val_accuracy: 0.2222\n",
      "Epoch 135/250\n",
      "3/3 [==============================] - 0s 75ms/step - loss: 13.4863 - accuracy: 0.3056 - val_loss: 3.3555 - val_accuracy: 0.2778\n",
      "Epoch 136/250\n",
      "3/3 [==============================] - 0s 72ms/step - loss: 3.7942 - accuracy: 0.3750 - val_loss: 8.6461 - val_accuracy: 0.5000\n",
      "Epoch 137/250\n",
      "3/3 [==============================] - 0s 87ms/step - loss: 14.9688 - accuracy: 0.3750 - val_loss: 4.6730 - val_accuracy: 0.7222\n",
      "Epoch 138/250\n",
      "3/3 [==============================] - 0s 78ms/step - loss: 12.0247 - accuracy: 0.4306 - val_loss: 10.0364 - val_accuracy: 0.2222\n",
      "Epoch 139/250\n",
      "3/3 [==============================] - 0s 77ms/step - loss: 13.4037 - accuracy: 0.4167 - val_loss: 17.2410 - val_accuracy: 0.2222\n",
      "Epoch 140/250\n",
      "3/3 [==============================] - 0s 72ms/step - loss: 12.0762 - accuracy: 0.3333 - val_loss: 5.0042 - val_accuracy: 0.5000\n",
      "Epoch 141/250\n",
      "3/3 [==============================] - 0s 71ms/step - loss: 2.4312 - accuracy: 0.5694 - val_loss: 5.0831 - val_accuracy: 0.2222\n",
      "Epoch 142/250\n",
      "3/3 [==============================] - 0s 76ms/step - loss: 6.5043 - accuracy: 0.3889 - val_loss: 7.6308 - val_accuracy: 0.2778\n",
      "Epoch 143/250\n",
      "3/3 [==============================] - 0s 72ms/step - loss: 20.6182 - accuracy: 0.2361 - val_loss: 22.7817 - val_accuracy: 0.2222\n",
      "Epoch 144/250\n",
      "3/3 [==============================] - 0s 73ms/step - loss: 18.7597 - accuracy: 0.4444 - val_loss: 42.1978 - val_accuracy: 0.2778\n",
      "Epoch 145/250\n",
      "3/3 [==============================] - 0s 72ms/step - loss: 29.5395 - accuracy: 0.3194 - val_loss: 16.0290 - val_accuracy: 0.5000\n",
      "Epoch 146/250\n",
      "3/3 [==============================] - 0s 77ms/step - loss: 20.5923 - accuracy: 0.3056 - val_loss: 9.1134 - val_accuracy: 0.2222\n",
      "Epoch 147/250\n",
      "3/3 [==============================] - 0s 75ms/step - loss: 20.4187 - accuracy: 0.3333 - val_loss: 12.8542 - val_accuracy: 0.5000\n",
      "Epoch 148/250\n",
      "3/3 [==============================] - 0s 75ms/step - loss: 18.2682 - accuracy: 0.2917 - val_loss: 25.7393 - val_accuracy: 0.2222\n",
      "Epoch 149/250\n",
      "3/3 [==============================] - 0s 72ms/step - loss: 25.4616 - accuracy: 0.3611 - val_loss: 3.4096 - val_accuracy: 0.5000\n",
      "Epoch 150/250\n",
      "3/3 [==============================] - 0s 71ms/step - loss: 14.0185 - accuracy: 0.3333 - val_loss: 18.5199 - val_accuracy: 0.5000\n",
      "Epoch 151/250\n",
      "3/3 [==============================] - 0s 79ms/step - loss: 27.2630 - accuracy: 0.2639 - val_loss: 28.9059 - val_accuracy: 0.2222\n",
      "Epoch 152/250\n",
      "3/3 [==============================] - 0s 74ms/step - loss: 17.3902 - accuracy: 0.4583 - val_loss: 6.8524 - val_accuracy: 0.5000\n",
      "Epoch 153/250\n",
      "3/3 [==============================] - 0s 76ms/step - loss: 11.3618 - accuracy: 0.2500 - val_loss: 17.0050 - val_accuracy: 0.2778\n",
      "Epoch 154/250\n",
      "3/3 [==============================] - 0s 73ms/step - loss: 11.1248 - accuracy: 0.3472 - val_loss: 9.8028 - val_accuracy: 0.5000\n",
      "Epoch 155/250\n",
      "3/3 [==============================] - 0s 72ms/step - loss: 10.1033 - accuracy: 0.2500 - val_loss: 17.1731 - val_accuracy: 0.5000\n",
      "Epoch 156/250\n",
      "3/3 [==============================] - 0s 77ms/step - loss: 14.2548 - accuracy: 0.4583 - val_loss: 4.1126 - val_accuracy: 0.5000\n",
      "Epoch 157/250\n",
      "3/3 [==============================] - 0s 73ms/step - loss: 11.5929 - accuracy: 0.3056 - val_loss: 4.9264 - val_accuracy: 0.2778\n",
      "Epoch 158/250\n",
      "3/3 [==============================] - 0s 73ms/step - loss: 9.1991 - accuracy: 0.3750 - val_loss: 12.6531 - val_accuracy: 0.5000\n",
      "Epoch 159/250\n",
      "3/3 [==============================] - 0s 77ms/step - loss: 12.3055 - accuracy: 0.2917 - val_loss: 30.4036 - val_accuracy: 0.2778\n",
      "Epoch 160/250\n",
      "3/3 [==============================] - 0s 77ms/step - loss: 25.4441 - accuracy: 0.4444 - val_loss: 35.5636 - val_accuracy: 0.2222\n",
      "Epoch 161/250\n",
      "3/3 [==============================] - 0s 75ms/step - loss: 19.6871 - accuracy: 0.2917 - val_loss: 12.5132 - val_accuracy: 0.5000\n",
      "Epoch 162/250\n",
      "3/3 [==============================] - 0s 76ms/step - loss: 15.3862 - accuracy: 0.3750 - val_loss: 17.0398 - val_accuracy: 0.2222\n",
      "Epoch 163/250\n",
      "3/3 [==============================] - 0s 77ms/step - loss: 15.9387 - accuracy: 0.3611 - val_loss: 11.0699 - val_accuracy: 0.5000\n",
      "Epoch 164/250\n",
      "3/3 [==============================] - 0s 78ms/step - loss: 26.0676 - accuracy: 0.1944 - val_loss: 17.0961 - val_accuracy: 0.5000\n",
      "Epoch 165/250\n",
      "3/3 [==============================] - 0s 83ms/step - loss: 16.5993 - accuracy: 0.3056 - val_loss: 14.5484 - val_accuracy: 0.5000\n",
      "Epoch 166/250\n",
      "3/3 [==============================] - 0s 75ms/step - loss: 27.5119 - accuracy: 0.3472 - val_loss: 24.3143 - val_accuracy: 0.5000\n",
      "Epoch 167/250\n",
      "3/3 [==============================] - 0s 72ms/step - loss: 23.8401 - accuracy: 0.2917 - val_loss: 45.9772 - val_accuracy: 0.2222\n",
      "Epoch 168/250\n",
      "3/3 [==============================] - 0s 73ms/step - loss: 29.4232 - accuracy: 0.3611 - val_loss: 15.8021 - val_accuracy: 0.2222\n",
      "Epoch 169/250\n",
      "3/3 [==============================] - 0s 84ms/step - loss: 26.9468 - accuracy: 0.2778 - val_loss: 14.1017 - val_accuracy: 0.2222\n",
      "Epoch 170/250\n",
      "3/3 [==============================] - 0s 75ms/step - loss: 15.3480 - accuracy: 0.3611 - val_loss: 43.0700 - val_accuracy: 0.2222\n",
      "Epoch 171/250\n",
      "3/3 [==============================] - 0s 72ms/step - loss: 25.0087 - accuracy: 0.3333 - val_loss: 2.5880 - val_accuracy: 0.7222\n",
      "Epoch 172/250\n"
     ]
    },
    {
     "name": "stdout",
     "output_type": "stream",
     "text": [
      "3/3 [==============================] - 0s 72ms/step - loss: 10.0692 - accuracy: 0.4167 - val_loss: 27.0888 - val_accuracy: 0.2222\n",
      "Epoch 173/250\n",
      "3/3 [==============================] - 0s 71ms/step - loss: 19.0048 - accuracy: 0.3333 - val_loss: 7.8390 - val_accuracy: 0.5000\n",
      "Epoch 174/250\n",
      "3/3 [==============================] - 0s 79ms/step - loss: 14.3498 - accuracy: 0.3194 - val_loss: 24.0483 - val_accuracy: 0.2222\n",
      "Epoch 175/250\n",
      "3/3 [==============================] - 0s 73ms/step - loss: 14.4151 - accuracy: 0.3194 - val_loss: 3.3673 - val_accuracy: 0.5000\n",
      "Epoch 176/250\n",
      "3/3 [==============================] - 0s 71ms/step - loss: 17.5225 - accuracy: 0.2917 - val_loss: 35.3314 - val_accuracy: 0.2222\n",
      "Epoch 177/250\n",
      "3/3 [==============================] - 0s 71ms/step - loss: 15.5127 - accuracy: 0.3750 - val_loss: 23.8105 - val_accuracy: 0.5000\n",
      "Epoch 178/250\n",
      "3/3 [==============================] - 0s 72ms/step - loss: 44.8754 - accuracy: 0.3611 - val_loss: 53.8755 - val_accuracy: 0.2778\n",
      "Epoch 179/250\n",
      "3/3 [==============================] - 0s 78ms/step - loss: 35.7257 - accuracy: 0.3472 - val_loss: 21.2714 - val_accuracy: 0.6111\n",
      "Epoch 180/250\n",
      "3/3 [==============================] - 0s 73ms/step - loss: 40.4564 - accuracy: 0.4444 - val_loss: 31.1213 - val_accuracy: 0.2222\n",
      "Epoch 181/250\n",
      "3/3 [==============================] - 0s 70ms/step - loss: 48.6307 - accuracy: 0.3750 - val_loss: 13.6940 - val_accuracy: 0.5000\n",
      "Epoch 182/250\n",
      "3/3 [==============================] - 0s 71ms/step - loss: 19.2995 - accuracy: 0.3750 - val_loss: 94.0505 - val_accuracy: 0.2222\n",
      "Epoch 183/250\n",
      "3/3 [==============================] - 0s 70ms/step - loss: 58.8754 - accuracy: 0.3889 - val_loss: 78.1599 - val_accuracy: 0.2778\n",
      "Epoch 184/250\n",
      "3/3 [==============================] - 0s 79ms/step - loss: 39.2311 - accuracy: 0.2778 - val_loss: 21.7767 - val_accuracy: 0.5000\n",
      "Epoch 185/250\n",
      "3/3 [==============================] - 0s 76ms/step - loss: 33.9404 - accuracy: 0.2639 - val_loss: 12.8329 - val_accuracy: 0.2778\n",
      "Epoch 186/250\n",
      "3/3 [==============================] - 0s 72ms/step - loss: 16.3794 - accuracy: 0.2917 - val_loss: 33.2221 - val_accuracy: 0.2222\n",
      "Epoch 187/250\n",
      "3/3 [==============================] - 0s 73ms/step - loss: 20.3454 - accuracy: 0.3333 - val_loss: 14.4239 - val_accuracy: 0.5000\n",
      "Epoch 188/250\n",
      "3/3 [==============================] - 0s 71ms/step - loss: 34.0424 - accuracy: 0.3333 - val_loss: 30.7833 - val_accuracy: 0.2778\n",
      "Epoch 189/250\n",
      "3/3 [==============================] - 0s 80ms/step - loss: 14.3378 - accuracy: 0.4028 - val_loss: 14.8144 - val_accuracy: 0.6111\n",
      "Epoch 190/250\n",
      "3/3 [==============================] - 0s 80ms/step - loss: 23.4450 - accuracy: 0.4306 - val_loss: 22.2360 - val_accuracy: 0.5000\n",
      "Epoch 191/250\n",
      "3/3 [==============================] - 0s 85ms/step - loss: 26.5037 - accuracy: 0.3194 - val_loss: 73.3744 - val_accuracy: 0.2778\n",
      "Epoch 192/250\n",
      "3/3 [==============================] - 0s 78ms/step - loss: 55.0571 - accuracy: 0.3472 - val_loss: 48.7992 - val_accuracy: 0.2222\n",
      "Epoch 193/250\n",
      "3/3 [==============================] - 0s 86ms/step - loss: 40.1522 - accuracy: 0.3611 - val_loss: 39.2167 - val_accuracy: 0.5000\n",
      "Epoch 194/250\n",
      "3/3 [==============================] - 0s 79ms/step - loss: 52.9152 - accuracy: 0.2917 - val_loss: 26.5725 - val_accuracy: 0.2222\n",
      "Epoch 195/250\n",
      "3/3 [==============================] - 0s 95ms/step - loss: 26.2198 - accuracy: 0.3472 - val_loss: 65.5645 - val_accuracy: 0.2778\n",
      "Epoch 196/250\n",
      "3/3 [==============================] - 0s 85ms/step - loss: 43.4299 - accuracy: 0.3472 - val_loss: 12.7703 - val_accuracy: 0.6111\n",
      "Epoch 197/250\n",
      "3/3 [==============================] - 0s 83ms/step - loss: 23.1394 - accuracy: 0.5139 - val_loss: 35.1082 - val_accuracy: 0.5000\n",
      "Epoch 198/250\n",
      "3/3 [==============================] - 0s 75ms/step - loss: 39.9092 - accuracy: 0.4444 - val_loss: 28.4290 - val_accuracy: 0.2222\n",
      "Epoch 199/250\n",
      "3/3 [==============================] - 0s 77ms/step - loss: 19.6809 - accuracy: 0.3056 - val_loss: 40.2373 - val_accuracy: 0.2778\n",
      "Epoch 200/250\n",
      "3/3 [==============================] - 0s 72ms/step - loss: 30.1180 - accuracy: 0.3472 - val_loss: 26.5334 - val_accuracy: 0.2222\n",
      "Epoch 201/250\n",
      "3/3 [==============================] - 0s 72ms/step - loss: 25.1021 - accuracy: 0.3472 - val_loss: 38.7161 - val_accuracy: 0.5000\n",
      "Epoch 202/250\n",
      "3/3 [==============================] - 0s 83ms/step - loss: 39.0944 - accuracy: 0.2917 - val_loss: 54.8282 - val_accuracy: 0.2222\n",
      "Epoch 203/250\n",
      "3/3 [==============================] - 0s 77ms/step - loss: 31.5905 - accuracy: 0.4167 - val_loss: 59.9255 - val_accuracy: 0.2778\n",
      "Epoch 204/250\n",
      "3/3 [==============================] - 0s 71ms/step - loss: 33.1950 - accuracy: 0.3889 - val_loss: 6.8553 - val_accuracy: 0.5000\n",
      "Epoch 205/250\n",
      "3/3 [==============================] - 0s 73ms/step - loss: 13.4447 - accuracy: 0.2778 - val_loss: 14.2608 - val_accuracy: 0.2222\n",
      "Epoch 206/250\n",
      "3/3 [==============================] - 0s 78ms/step - loss: 10.3500 - accuracy: 0.4028 - val_loss: 27.7919 - val_accuracy: 0.2778\n",
      "Epoch 207/250\n",
      "3/3 [==============================] - 0s 76ms/step - loss: 21.5057 - accuracy: 0.2917 - val_loss: 16.6101 - val_accuracy: 0.2222\n",
      "Epoch 208/250\n",
      "3/3 [==============================] - 0s 73ms/step - loss: 11.0538 - accuracy: 0.3472 - val_loss: 11.6341 - val_accuracy: 0.5000\n",
      "Epoch 209/250\n",
      "3/3 [==============================] - 0s 74ms/step - loss: 17.1792 - accuracy: 0.2500 - val_loss: 18.8623 - val_accuracy: 0.2222\n",
      "Epoch 210/250\n",
      "3/3 [==============================] - 0s 72ms/step - loss: 12.7633 - accuracy: 0.3750 - val_loss: 1.6577 - val_accuracy: 0.5000\n",
      "Epoch 211/250\n",
      "3/3 [==============================] - 0s 79ms/step - loss: 6.3799 - accuracy: 0.2639 - val_loss: 9.3873 - val_accuracy: 0.2222\n",
      "Epoch 212/250\n",
      "3/3 [==============================] - 0s 74ms/step - loss: 12.2223 - accuracy: 0.3333 - val_loss: 12.4638 - val_accuracy: 0.2778\n",
      "Epoch 213/250\n",
      "3/3 [==============================] - 0s 72ms/step - loss: 18.2375 - accuracy: 0.3750 - val_loss: 9.7960 - val_accuracy: 0.5000\n",
      "Epoch 214/250\n",
      "3/3 [==============================] - 0s 77ms/step - loss: 13.8345 - accuracy: 0.5278 - val_loss: 9.4024 - val_accuracy: 0.5000\n",
      "Epoch 215/250\n",
      "3/3 [==============================] - 0s 77ms/step - loss: 16.1034 - accuracy: 0.3056 - val_loss: 19.2934 - val_accuracy: 0.2778\n",
      "Epoch 216/250\n",
      "3/3 [==============================] - 0s 81ms/step - loss: 11.3645 - accuracy: 0.3472 - val_loss: 9.0141 - val_accuracy: 0.5000\n",
      "Epoch 217/250\n",
      "3/3 [==============================] - 0s 74ms/step - loss: 10.3860 - accuracy: 0.3056 - val_loss: 25.7929 - val_accuracy: 0.5000\n",
      "Epoch 218/250\n",
      "3/3 [==============================] - 0s 73ms/step - loss: 16.1261 - accuracy: 0.5139 - val_loss: 11.9738 - val_accuracy: 0.5000\n",
      "Epoch 219/250\n",
      "3/3 [==============================] - 0s 72ms/step - loss: 5.5792 - accuracy: 0.5000 - val_loss: 11.7391 - val_accuracy: 0.2222\n",
      "Epoch 220/250\n",
      "3/3 [==============================] - 0s 76ms/step - loss: 15.5200 - accuracy: 0.2361 - val_loss: 11.5999 - val_accuracy: 0.2222\n",
      "Epoch 221/250\n",
      "3/3 [==============================] - 0s 73ms/step - loss: 7.6202 - accuracy: 0.4722 - val_loss: 16.4539 - val_accuracy: 0.2222\n",
      "Epoch 222/250\n",
      "3/3 [==============================] - 0s 72ms/step - loss: 11.8567 - accuracy: 0.3611 - val_loss: 18.1477 - val_accuracy: 0.2778\n",
      "Epoch 223/250\n",
      "3/3 [==============================] - 0s 71ms/step - loss: 18.3912 - accuracy: 0.3194 - val_loss: 18.1030 - val_accuracy: 0.2778\n",
      "Epoch 224/250\n",
      "3/3 [==============================] - 0s 72ms/step - loss: 18.2619 - accuracy: 0.2222 - val_loss: 27.8003 - val_accuracy: 0.2778\n",
      "Epoch 225/250\n",
      "3/3 [==============================] - 0s 79ms/step - loss: 16.2996 - accuracy: 0.3056 - val_loss: 7.3512 - val_accuracy: 0.2222\n",
      "Epoch 226/250\n",
      "3/3 [==============================] - 0s 74ms/step - loss: 5.6976 - accuracy: 0.4444 - val_loss: 3.0379 - val_accuracy: 0.2222\n",
      "Epoch 227/250\n",
      "3/3 [==============================] - 0s 72ms/step - loss: 4.3460 - accuracy: 0.3194 - val_loss: 10.7288 - val_accuracy: 0.2222\n",
      "Epoch 228/250\n",
      "3/3 [==============================] - 0s 73ms/step - loss: 5.9321 - accuracy: 0.3472 - val_loss: 13.1918 - val_accuracy: 0.2778\n",
      "Epoch 229/250\n"
     ]
    },
    {
     "name": "stdout",
     "output_type": "stream",
     "text": [
      "3/3 [==============================] - 0s 71ms/step - loss: 10.2473 - accuracy: 0.3056 - val_loss: 12.3237 - val_accuracy: 0.2222\n",
      "Epoch 230/250\n",
      "3/3 [==============================] - 0s 78ms/step - loss: 18.9214 - accuracy: 0.3333 - val_loss: 7.0172 - val_accuracy: 0.2778\n",
      "Epoch 231/250\n",
      "3/3 [==============================] - 0s 73ms/step - loss: 9.1774 - accuracy: 0.3194 - val_loss: 19.9747 - val_accuracy: 0.2222\n",
      "Epoch 232/250\n",
      "3/3 [==============================] - 0s 70ms/step - loss: 11.8589 - accuracy: 0.2083 - val_loss: 5.0048 - val_accuracy: 0.5000\n",
      "Epoch 233/250\n",
      "3/3 [==============================] - 0s 71ms/step - loss: 8.1966 - accuracy: 0.3750 - val_loss: 32.8749 - val_accuracy: 0.5000\n",
      "Epoch 234/250\n",
      "3/3 [==============================] - 0s 70ms/step - loss: 20.9221 - accuracy: 0.5000 - val_loss: 26.0329 - val_accuracy: 0.2778\n",
      "Epoch 235/250\n",
      "3/3 [==============================] - 0s 75ms/step - loss: 19.1728 - accuracy: 0.3056 - val_loss: 27.5432 - val_accuracy: 0.5000\n",
      "Epoch 236/250\n",
      "3/3 [==============================] - 0s 73ms/step - loss: 29.1077 - accuracy: 0.2778 - val_loss: 26.5029 - val_accuracy: 0.2778\n",
      "Epoch 237/250\n",
      "3/3 [==============================] - 0s 71ms/step - loss: 20.6933 - accuracy: 0.3333 - val_loss: 29.9079 - val_accuracy: 0.2222\n",
      "Epoch 238/250\n",
      "3/3 [==============================] - 0s 70ms/step - loss: 19.0631 - accuracy: 0.3194 - val_loss: 21.1625 - val_accuracy: 0.5000\n",
      "Epoch 239/250\n",
      "3/3 [==============================] - 0s 75ms/step - loss: 29.9903 - accuracy: 0.2917 - val_loss: 37.3299 - val_accuracy: 0.2222\n",
      "Epoch 240/250\n",
      "3/3 [==============================] - 0s 77ms/step - loss: 34.8657 - accuracy: 0.3611 - val_loss: 26.7000 - val_accuracy: 0.2778\n",
      "Epoch 241/250\n",
      "3/3 [==============================] - 0s 75ms/step - loss: 19.8870 - accuracy: 0.3194 - val_loss: 8.3284 - val_accuracy: 0.5000\n",
      "Epoch 242/250\n",
      "3/3 [==============================] - 0s 73ms/step - loss: 11.7205 - accuracy: 0.3472 - val_loss: 21.9225 - val_accuracy: 0.2222\n",
      "Epoch 243/250\n",
      "3/3 [==============================] - 0s 71ms/step - loss: 11.0018 - accuracy: 0.2917 - val_loss: 10.8724 - val_accuracy: 0.5000\n",
      "Epoch 244/250\n",
      "3/3 [==============================] - 0s 76ms/step - loss: 12.4743 - accuracy: 0.2917 - val_loss: 23.2254 - val_accuracy: 0.2222\n",
      "Epoch 245/250\n",
      "3/3 [==============================] - 0s 72ms/step - loss: 13.7682 - accuracy: 0.3889 - val_loss: 14.0519 - val_accuracy: 0.2778\n",
      "Epoch 246/250\n",
      "3/3 [==============================] - 0s 71ms/step - loss: 12.4533 - accuracy: 0.3889 - val_loss: 12.4900 - val_accuracy: 0.2222\n",
      "Epoch 247/250\n",
      "3/3 [==============================] - 0s 70ms/step - loss: 9.8380 - accuracy: 0.3611 - val_loss: 21.9332 - val_accuracy: 0.2778\n",
      "Epoch 248/250\n",
      "3/3 [==============================] - 0s 70ms/step - loss: 13.0105 - accuracy: 0.3333 - val_loss: 15.8592 - val_accuracy: 0.2222\n",
      "Epoch 249/250\n",
      "3/3 [==============================] - 0s 77ms/step - loss: 18.9552 - accuracy: 0.3611 - val_loss: 12.1186 - val_accuracy: 0.5000\n",
      "Epoch 250/250\n",
      "3/3 [==============================] - 0s 72ms/step - loss: 13.8985 - accuracy: 0.3611 - val_loss: 32.9218 - val_accuracy: 0.2778\n"
     ]
    },
    {
     "data": {
      "text/plain": [
       "<keras.callbacks.History at 0x21531ab19a0>"
      ]
     },
     "execution_count": 108,
     "metadata": {},
     "output_type": "execute_result"
    }
   ],
   "source": [
    "model.fit(X_train, y_train, epochs=250, callbacks=[tb_callback], validation_data=(X_test,y_test))"
   ]
  },
  {
   "cell_type": "code",
   "execution_count": null,
   "metadata": {},
   "outputs": [],
   "source": [
    "model.summary()"
   ]
  },
  {
   "cell_type": "markdown",
   "metadata": {},
   "source": [
    "# Make Predictions"
   ]
  },
  {
   "cell_type": "code",
   "execution_count": null,
   "metadata": {},
   "outputs": [],
   "source": [
    "res = model.predict(X_test)"
   ]
  },
  {
   "cell_type": "code",
   "execution_count": null,
   "metadata": {},
   "outputs": [],
   "source": [
    "actions[np.argmax(res[4])]"
   ]
  },
  {
   "cell_type": "code",
   "execution_count": null,
   "metadata": {},
   "outputs": [],
   "source": [
    "actions[np.argmax(y_test[4])]"
   ]
  },
  {
   "cell_type": "markdown",
   "metadata": {},
   "source": [
    "# Save Weights"
   ]
  },
  {
   "cell_type": "code",
   "execution_count": null,
   "metadata": {},
   "outputs": [],
   "source": [
    "model.save('action.h5')"
   ]
  },
  {
   "cell_type": "code",
   "execution_count": null,
   "metadata": {},
   "outputs": [],
   "source": [
    "model.load_weights('action.h5')"
   ]
  },
  {
   "cell_type": "markdown",
   "metadata": {},
   "source": [
    "# Evaluation using Confusion Matrix and Accuracy"
   ]
  },
  {
   "cell_type": "code",
   "execution_count": null,
   "metadata": {},
   "outputs": [],
   "source": [
    "from sklearn.metrics import multilabel_confusion_matrix, accuracy_score"
   ]
  },
  {
   "cell_type": "code",
   "execution_count": null,
   "metadata": {},
   "outputs": [],
   "source": [
    "yhat = model.predict(X_test)"
   ]
  },
  {
   "cell_type": "code",
   "execution_count": null,
   "metadata": {},
   "outputs": [],
   "source": [
    "ytrue = np.argmax(y_test, axis=1).tolist()\n",
    "yhat = np.argmax(yhat, axis=1).tolist()"
   ]
  },
  {
   "cell_type": "code",
   "execution_count": null,
   "metadata": {},
   "outputs": [],
   "source": [
    "multilabel_confusion_matrix(ytrue, yhat)"
   ]
  },
  {
   "cell_type": "code",
   "execution_count": null,
   "metadata": {},
   "outputs": [],
   "source": [
    "accuracy_score(ytrue, yhat)"
   ]
  },
  {
   "cell_type": "markdown",
   "metadata": {},
   "source": [
    "# Test in Real Time"
   ]
  },
  {
   "cell_type": "code",
   "execution_count": null,
   "metadata": {},
   "outputs": [],
   "source": [
    "# 1. New detection variables\n",
    "sequence = []\n",
    "sentence = []\n",
    "threshold = 0.9\n",
    "\n",
    "cap = cv2.VideoCapture(0)\n",
    "\n",
    "# Set mediapipe model \n",
    "with mp_holistic.Holistic(min_detection_confidence=0.5, min_tracking_confidence=0.5) as holistic:\n",
    "    while cap.isOpened():\n",
    "\n",
    "        # Read feed\n",
    "        ret, frame = cap.read()\n",
    "\n",
    "        # Make detections\n",
    "        image, results = mediapipe_detection(frame, holistic)\n",
    "        print(results)\n",
    "        \n",
    "        # Draw landmarks\n",
    "        draw_styled_landmarks(image, results)\n",
    "        \n",
    "        # 2. Prediction logic\n",
    "        keypoints = extract_keypoints(results)\n",
    "#         sequence.insert(0,keypoints)\n",
    "#         sequence = sequence[:30]\n",
    "        sequence.append(keypoints)\n",
    "        sequence = sequence[-30:]\n",
    "        \n",
    "        if len(sequence) == 30:\n",
    "            res = model.predict(np.expand_dims(sequence, axis=0))[0]\n",
    "            print(actions[np.argmax(res)])\n",
    "            \n",
    "            \n",
    "        #3. Viz logic\n",
    "            if res[np.argmax(res)] > threshold: \n",
    "                if len(sentence) > 0: \n",
    "                    if actions[np.argmax(res)] != sentence[-1]:\n",
    "                        sentence.append(actions[np.argmax(res)])\n",
    "                else:\n",
    "                    sentence.append(actions[np.argmax(res)])\n",
    "\n",
    "            if len(sentence) > 5: \n",
    "                sentence = sentence[-5:]\n",
    "            \n",
    "        cv2.rectangle(image, (0,0), (640, 40), (245, 117, 16), -1)\n",
    "        cv2.putText(image, ' '.join(sentqqqence), (3,30), \n",
    "                       cv2.FONT_HERSHEY_SIMPLEX, 1, (255, 255, 255), 2, cv2.LINE_AA)\n",
    "        \n",
    "        # Show to screen\n",
    "        cv2.imshow('OpenCV Feed', image)\n",
    "\n",
    "        # Break gracefully\n",
    "        if cv2.waitKey(10) & 0xFF == ord('q'):\n",
    "            break\n",
    "    cap.release()\n",
    "    cv2.destroyAllWindows()"
   ]
  },
  {
   "cell_type": "code",
   "execution_count": null,
   "metadata": {},
   "outputs": [],
   "source": [
    "cap.release()\n",
    "cv2.destroyAllWindows()"
   ]
  },
  {
   "cell_type": "code",
   "execution_count": null,
   "metadata": {},
   "outputs": [],
   "source": []
  }
 ],
 "metadata": {
  "colab": {
   "provenance": []
  },
  "kernelspec": {
   "display_name": "Python 3 (ipykernel)",
   "language": "python",
   "name": "python3"
  },
  "language_info": {
   "codemirror_mode": {
    "name": "ipython",
    "version": 3
   },
   "file_extension": ".py",
   "mimetype": "text/x-python",
   "name": "python",
   "nbconvert_exporter": "python",
   "pygments_lexer": "ipython3",
   "version": "3.9.12"
  }
 },
 "nbformat": 4,
 "nbformat_minor": 1
}
