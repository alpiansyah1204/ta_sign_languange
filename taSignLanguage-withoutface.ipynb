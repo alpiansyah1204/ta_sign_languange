{
 "cells": [
  {
   "cell_type": "markdown",
   "metadata": {
    "id": "6trd5WRsSAwN"
   },
   "source": [
    "# Install and Import property"
   ]
  },
  {
   "cell_type": "code",
   "execution_count": 1,
   "metadata": {
    "colab": {
     "base_uri": "https://localhost:8080/"
    },
    "id": "F28o2iV6PzcT",
    "outputId": "6de42c22-f9e8-4917-9f8a-12ff4fda9d07"
   },
   "outputs": [
    {
     "name": "stdout",
     "output_type": "stream",
     "text": [
      "Requirement already satisfied: tensorflow in c:\\users\\alpian\\anaconda3\\lib\\site-packages (2.9.1)\n",
      "Requirement already satisfied: opencv-python in c:\\users\\alpian\\anaconda3\\lib\\site-packages (4.6.0.66)\n",
      "Requirement already satisfied: mediapipe in c:\\users\\alpian\\anaconda3\\lib\\site-packages (0.8.11)\n",
      "Requirement already satisfied: sklearn in c:\\users\\alpian\\anaconda3\\lib\\site-packages (0.0)\n",
      "Requirement already satisfied: matplotlib in c:\\users\\alpian\\anaconda3\\lib\\site-packages (3.5.1)\n",
      "Requirement already satisfied: gast<=0.4.0,>=0.2.1 in c:\\users\\alpian\\anaconda3\\lib\\site-packages (from tensorflow) (0.4.0)\n",
      "Requirement already satisfied: flatbuffers<2,>=1.12 in c:\\users\\alpian\\anaconda3\\lib\\site-packages (from tensorflow) (1.12)\n",
      "Requirement already satisfied: tensorboard<2.10,>=2.9 in c:\\users\\alpian\\anaconda3\\lib\\site-packages (from tensorflow) (2.9.0)\n",
      "Requirement already satisfied: h5py>=2.9.0 in c:\\users\\alpian\\anaconda3\\lib\\site-packages (from tensorflow) (3.6.0)\n",
      "Requirement already satisfied: tensorflow-io-gcs-filesystem>=0.23.1 in c:\\users\\alpian\\anaconda3\\lib\\site-packages (from tensorflow) (0.26.0)\n",
      "Requirement already satisfied: termcolor>=1.1.0 in c:\\users\\alpian\\anaconda3\\lib\\site-packages (from tensorflow) (1.1.0)\n",
      "Requirement already satisfied: keras-preprocessing>=1.1.1 in c:\\users\\alpian\\anaconda3\\lib\\site-packages (from tensorflow) (1.1.2)\n",
      "Requirement already satisfied: six>=1.12.0 in c:\\users\\alpian\\anaconda3\\lib\\site-packages (from tensorflow) (1.16.0)\n",
      "Requirement already satisfied: keras<2.10.0,>=2.9.0rc0 in c:\\users\\alpian\\anaconda3\\lib\\site-packages (from tensorflow) (2.9.0)\n",
      "Requirement already satisfied: libclang>=13.0.0 in c:\\users\\alpian\\anaconda3\\lib\\site-packages (from tensorflow) (14.0.1)\n",
      "Requirement already satisfied: grpcio<2.0,>=1.24.3 in c:\\users\\alpian\\anaconda3\\lib\\site-packages (from tensorflow) (1.42.0)\n",
      "Requirement already satisfied: tensorflow-estimator<2.10.0,>=2.9.0rc0 in c:\\users\\alpian\\anaconda3\\lib\\site-packages (from tensorflow) (2.9.0)\n",
      "Requirement already satisfied: protobuf<3.20,>=3.9.2 in c:\\users\\alpian\\anaconda3\\lib\\site-packages (from tensorflow) (3.19.1)\n",
      "Requirement already satisfied: google-pasta>=0.1.1 in c:\\users\\alpian\\anaconda3\\lib\\site-packages (from tensorflow) (0.2.0)\n",
      "Requirement already satisfied: typing-extensions>=3.6.6 in c:\\users\\alpian\\anaconda3\\lib\\site-packages (from tensorflow) (4.1.1)\n",
      "Requirement already satisfied: setuptools in c:\\users\\alpian\\anaconda3\\lib\\site-packages (from tensorflow) (61.2.0)\n",
      "Requirement already satisfied: wrapt>=1.11.0 in c:\\users\\alpian\\anaconda3\\lib\\site-packages (from tensorflow) (1.12.1)\n",
      "Requirement already satisfied: packaging in c:\\users\\alpian\\anaconda3\\lib\\site-packages (from tensorflow) (21.3)\n",
      "Requirement already satisfied: opt-einsum>=2.3.2 in c:\\users\\alpian\\anaconda3\\lib\\site-packages (from tensorflow) (3.3.0)\n",
      "Requirement already satisfied: numpy>=1.20 in c:\\users\\alpian\\anaconda3\\lib\\site-packages (from tensorflow) (1.21.5)\n",
      "Requirement already satisfied: astunparse>=1.6.0 in c:\\users\\alpian\\anaconda3\\lib\\site-packages (from tensorflow) (1.6.3)\n",
      "Requirement already satisfied: absl-py>=1.0.0 in c:\\users\\alpian\\anaconda3\\lib\\site-packages (from tensorflow) (1.0.0)\n",
      "Requirement already satisfied: attrs>=19.1.0 in c:\\users\\alpian\\anaconda3\\lib\\site-packages (from mediapipe) (21.4.0)\n",
      "Requirement already satisfied: opencv-contrib-python in c:\\users\\alpian\\anaconda3\\lib\\site-packages (from mediapipe) (4.6.0.66)\n",
      "Requirement already satisfied: scikit-learn in c:\\users\\alpian\\anaconda3\\lib\\site-packages (from sklearn) (1.0.2)\n",
      "Requirement already satisfied: fonttools>=4.22.0 in c:\\users\\alpian\\anaconda3\\lib\\site-packages (from matplotlib) (4.25.0)\n",
      "Requirement already satisfied: kiwisolver>=1.0.1 in c:\\users\\alpian\\anaconda3\\lib\\site-packages (from matplotlib) (1.3.2)\n",
      "Requirement already satisfied: pyparsing>=2.2.1 in c:\\users\\alpian\\anaconda3\\lib\\site-packages (from matplotlib) (3.0.4)\n",
      "Requirement already satisfied: cycler>=0.10 in c:\\users\\alpian\\anaconda3\\lib\\site-packages (from matplotlib) (0.11.0)\n",
      "Requirement already satisfied: python-dateutil>=2.7 in c:\\users\\alpian\\anaconda3\\lib\\site-packages (from matplotlib) (2.8.2)\n",
      "Requirement already satisfied: pillow>=6.2.0 in c:\\users\\alpian\\anaconda3\\lib\\site-packages (from matplotlib) (9.0.1)\n",
      "Requirement already satisfied: wheel<1.0,>=0.23.0 in c:\\users\\alpian\\anaconda3\\lib\\site-packages (from astunparse>=1.6.0->tensorflow) (0.37.1)\n",
      "Requirement already satisfied: requests<3,>=2.21.0 in c:\\users\\alpian\\anaconda3\\lib\\site-packages (from tensorboard<2.10,>=2.9->tensorflow) (2.27.1)\n",
      "Requirement already satisfied: google-auth-oauthlib<0.5,>=0.4.1 in c:\\users\\alpian\\anaconda3\\lib\\site-packages (from tensorboard<2.10,>=2.9->tensorflow) (0.4.6)\n",
      "Requirement already satisfied: tensorboard-data-server<0.7.0,>=0.6.0 in c:\\users\\alpian\\anaconda3\\lib\\site-packages (from tensorboard<2.10,>=2.9->tensorflow) (0.6.1)\n",
      "Requirement already satisfied: werkzeug>=1.0.1 in c:\\users\\alpian\\anaconda3\\lib\\site-packages (from tensorboard<2.10,>=2.9->tensorflow) (2.0.3)\n",
      "Requirement already satisfied: markdown>=2.6.8 in c:\\users\\alpian\\anaconda3\\lib\\site-packages (from tensorboard<2.10,>=2.9->tensorflow) (3.3.4)\n",
      "Requirement already satisfied: tensorboard-plugin-wit>=1.6.0 in c:\\users\\alpian\\anaconda3\\lib\\site-packages (from tensorboard<2.10,>=2.9->tensorflow) (1.8.1)\n",
      "Requirement already satisfied: google-auth<3,>=1.6.3 in c:\\users\\alpian\\anaconda3\\lib\\site-packages (from tensorboard<2.10,>=2.9->tensorflow) (1.33.0)\n",
      "Requirement already satisfied: pyasn1-modules>=0.2.1 in c:\\users\\alpian\\anaconda3\\lib\\site-packages (from google-auth<3,>=1.6.3->tensorboard<2.10,>=2.9->tensorflow) (0.2.8)\n",
      "Requirement already satisfied: cachetools<5.0,>=2.0.0 in c:\\users\\alpian\\anaconda3\\lib\\site-packages (from google-auth<3,>=1.6.3->tensorboard<2.10,>=2.9->tensorflow) (4.2.2)\n",
      "Requirement already satisfied: rsa<5,>=3.1.4 in c:\\users\\alpian\\anaconda3\\lib\\site-packages (from google-auth<3,>=1.6.3->tensorboard<2.10,>=2.9->tensorflow) (4.7.2)\n",
      "Requirement already satisfied: requests-oauthlib>=0.7.0 in c:\\users\\alpian\\anaconda3\\lib\\site-packages (from google-auth-oauthlib<0.5,>=0.4.1->tensorboard<2.10,>=2.9->tensorflow) (1.3.1)\n",
      "Requirement already satisfied: pyasn1<0.5.0,>=0.4.6 in c:\\users\\alpian\\anaconda3\\lib\\site-packages (from pyasn1-modules>=0.2.1->google-auth<3,>=1.6.3->tensorboard<2.10,>=2.9->tensorflow) (0.4.8)\n",
      "Requirement already satisfied: idna<4,>=2.5 in c:\\users\\alpian\\anaconda3\\lib\\site-packages (from requests<3,>=2.21.0->tensorboard<2.10,>=2.9->tensorflow) (3.3)\n",
      "Requirement already satisfied: certifi>=2017.4.17 in c:\\users\\alpian\\anaconda3\\lib\\site-packages (from requests<3,>=2.21.0->tensorboard<2.10,>=2.9->tensorflow) (2021.10.8)\n",
      "Requirement already satisfied: charset-normalizer~=2.0.0 in c:\\users\\alpian\\anaconda3\\lib\\site-packages (from requests<3,>=2.21.0->tensorboard<2.10,>=2.9->tensorflow) (2.0.4)\n",
      "Requirement already satisfied: urllib3<1.27,>=1.21.1 in c:\\users\\alpian\\anaconda3\\lib\\site-packages (from requests<3,>=2.21.0->tensorboard<2.10,>=2.9->tensorflow) (1.26.9)\n",
      "Requirement already satisfied: oauthlib>=3.0.0 in c:\\users\\alpian\\anaconda3\\lib\\site-packages (from requests-oauthlib>=0.7.0->google-auth-oauthlib<0.5,>=0.4.1->tensorboard<2.10,>=2.9->tensorflow) (3.2.0)\n",
      "Requirement already satisfied: joblib>=0.11 in c:\\users\\alpian\\anaconda3\\lib\\site-packages (from scikit-learn->sklearn) (1.1.0)\n",
      "Requirement already satisfied: scipy>=1.1.0 in c:\\users\\alpian\\anaconda3\\lib\\site-packages (from scikit-learn->sklearn) (1.7.3)\n",
      "Requirement already satisfied: threadpoolctl>=2.0.0 in c:\\users\\alpian\\anaconda3\\lib\\site-packages (from scikit-learn->sklearn) (2.2.0)\n"
     ]
    },
    {
     "name": "stderr",
     "output_type": "stream",
     "text": [
      "WARNING: Ignoring invalid distribution -pencv-python (c:\\users\\alpian\\anaconda3\\lib\\site-packages)\n",
      "WARNING: Ignoring invalid distribution -pencv-python (c:\\users\\alpian\\anaconda3\\lib\\site-packages)\n",
      "WARNING: Ignoring invalid distribution -pencv-python (c:\\users\\alpian\\anaconda3\\lib\\site-packages)\n",
      "WARNING: Ignoring invalid distribution -pencv-python (c:\\users\\alpian\\anaconda3\\lib\\site-packages)\n",
      "WARNING: Ignoring invalid distribution -pencv-python (c:\\users\\alpian\\anaconda3\\lib\\site-packages)\n",
      "WARNING: Ignoring invalid distribution -pencv-python (c:\\users\\alpian\\anaconda3\\lib\\site-packages)\n"
     ]
    }
   ],
   "source": [
    "!pip install tensorflow opencv-python mediapipe sklearn matplotlib"
   ]
  },
  {
   "cell_type": "code",
   "execution_count": 2,
   "metadata": {
    "id": "ZY9hTiMNP3Rm"
   },
   "outputs": [],
   "source": [
    "import cv2\n",
    "import numpy as np\n",
    "import os\n",
    "from matplotlib import pyplot as plt\n",
    "import time\n",
    "import mediapipe as mp"
   ]
  },
  {
   "cell_type": "markdown",
   "metadata": {
    "id": "ea0g5g2XSN44"
   },
   "source": [
    "# Making key point using Open CV"
   ]
  },
  {
   "cell_type": "code",
   "execution_count": 3,
   "metadata": {},
   "outputs": [],
   "source": [
    "mp_holistic = mp.solutions.holistic # Holistic model\n",
    "mp_drawing = mp.solutions.drawing_utils # Drawing utilities"
   ]
  },
  {
   "cell_type": "code",
   "execution_count": 4,
   "metadata": {},
   "outputs": [],
   "source": [
    "def mediapipe_detection(image, model):\n",
    "    image = cv2.cvtColor(image,cv2.COLOR_BGR2RGB) # COLOR CONVERSION BGR 2 RGB\n",
    "    image.flags.writeable = False                  # Image is no longer writeable\n",
    "    results = model.process(image)                 # Make prediction\n",
    "    image.flags.writeable = True                   # Image is now writeable \n",
    "    image = cv2.cvtColor(image, cv2.COLOR_RGB2BGR) # COLOR COVERSION RGB 2 BGR\n",
    "    return image, results"
   ]
  },
  {
   "cell_type": "code",
   "execution_count": 5,
   "metadata": {},
   "outputs": [],
   "source": [
    "def draw_landmarks(image, results):\n",
    "    mp_drawing.draw_landmarks(image, results.face_landmarks, mp_holistic.FACEMESH_CONTOURS) # Draw face connections\n",
    "    mp_drawing.draw_landmarks(image, results.pose_landmarks, mp_holistic.POSE_CONNECTIONS) # Draw pose connections\n",
    "    mp_drawing.draw_landmarks(image, results.left_hand_landmarks, mp_holistic.HAND_CONNECTIONS) # Draw left hand connections\n",
    "    mp_drawing.draw_landmarks(image, results.right_hand_landmarks, mp_holistic.HAND_CONNECTIONS) # Draw right hand connections"
   ]
  },
  {
   "cell_type": "code",
   "execution_count": null,
   "metadata": {},
   "outputs": [],
   "source": [
    "mp_holistic??"
   ]
  },
  {
   "cell_type": "code",
   "execution_count": 6,
   "metadata": {},
   "outputs": [],
   "source": [
    "def draw_styled_landmarks(image, results):\n",
    "\n",
    "    # Draw pose connections\n",
    "    mp_drawing.draw_landmarks(image, results.pose_landmarks, mp_holistic.POSE_CONNECTIONS,\n",
    "                             mp_drawing.DrawingSpec(color=(80,22,10), thickness=2, circle_radius=4), \n",
    "                             mp_drawing.DrawingSpec(color=(80,44,121), thickness=2, circle_radius=2)\n",
    "                             ) \n",
    "    # Draw left hand connections\n",
    "    mp_drawing.draw_landmarks(image, results.left_hand_landmarks, mp_holistic.HAND_CONNECTIONS, \n",
    "                             mp_drawing.DrawingSpec(color=(121,22,76), thickness=2, circle_radius=4), \n",
    "                             mp_drawing.DrawingSpec(color=(121,44,250), thickness=2, circle_radius=2)\n",
    "                             ) \n",
    "    # Draw right hand connections  \n",
    "    mp_drawing.draw_landmarks(image, results.right_hand_landmarks, mp_holistic.HAND_CONNECTIONS, \n",
    "                             mp_drawing.DrawingSpec(color=(245,117,66), thickness=2, circle_radius=4), \n",
    "                             mp_drawing.DrawingSpec(color=(245,66,230), thickness=2, circle_radius=2)\n",
    "                             ) "
   ]
  },
  {
   "cell_type": "code",
   "execution_count": 9,
   "metadata": {
    "id": "uMNKXX9SR-8R"
   },
   "outputs": [
    {
     "name": "stdout",
     "output_type": "stream",
     "text": [
      "<class 'mediapipe.python.solution_base.SolutionOutputs'>\n",
      "<class 'mediapipe.python.solution_base.SolutionOutputs'>\n",
      "<class 'mediapipe.python.solution_base.SolutionOutputs'>\n",
      "<class 'mediapipe.python.solution_base.SolutionOutputs'>\n",
      "<class 'mediapipe.python.solution_base.SolutionOutputs'>\n",
      "<class 'mediapipe.python.solution_base.SolutionOutputs'>\n",
      "<class 'mediapipe.python.solution_base.SolutionOutputs'>\n",
      "<class 'mediapipe.python.solution_base.SolutionOutputs'>\n",
      "<class 'mediapipe.python.solution_base.SolutionOutputs'>\n",
      "<class 'mediapipe.python.solution_base.SolutionOutputs'>\n",
      "<class 'mediapipe.python.solution_base.SolutionOutputs'>\n",
      "<class 'mediapipe.python.solution_base.SolutionOutputs'>\n",
      "<class 'mediapipe.python.solution_base.SolutionOutputs'>\n",
      "<class 'mediapipe.python.solution_base.SolutionOutputs'>\n",
      "<class 'mediapipe.python.solution_base.SolutionOutputs'>\n",
      "<class 'mediapipe.python.solution_base.SolutionOutputs'>\n",
      "<class 'mediapipe.python.solution_base.SolutionOutputs'>\n",
      "<class 'mediapipe.python.solution_base.SolutionOutputs'>\n",
      "<class 'mediapipe.python.solution_base.SolutionOutputs'>\n",
      "<class 'mediapipe.python.solution_base.SolutionOutputs'>\n",
      "<class 'mediapipe.python.solution_base.SolutionOutputs'>\n",
      "<class 'mediapipe.python.solution_base.SolutionOutputs'>\n",
      "<class 'mediapipe.python.solution_base.SolutionOutputs'>\n",
      "<class 'mediapipe.python.solution_base.SolutionOutputs'>\n",
      "<class 'mediapipe.python.solution_base.SolutionOutputs'>\n",
      "<class 'mediapipe.python.solution_base.SolutionOutputs'>\n",
      "<class 'mediapipe.python.solution_base.SolutionOutputs'>\n",
      "<class 'mediapipe.python.solution_base.SolutionOutputs'>\n",
      "<class 'mediapipe.python.solution_base.SolutionOutputs'>\n",
      "<class 'mediapipe.python.solution_base.SolutionOutputs'>\n",
      "<class 'mediapipe.python.solution_base.SolutionOutputs'>\n",
      "<class 'mediapipe.python.solution_base.SolutionOutputs'>\n",
      "<class 'mediapipe.python.solution_base.SolutionOutputs'>\n",
      "<class 'mediapipe.python.solution_base.SolutionOutputs'>\n",
      "<class 'mediapipe.python.solution_base.SolutionOutputs'>\n",
      "<class 'mediapipe.python.solution_base.SolutionOutputs'>\n",
      "<class 'mediapipe.python.solution_base.SolutionOutputs'>\n",
      "<class 'mediapipe.python.solution_base.SolutionOutputs'>\n",
      "<class 'mediapipe.python.solution_base.SolutionOutputs'>\n",
      "<class 'mediapipe.python.solution_base.SolutionOutputs'>\n",
      "<class 'mediapipe.python.solution_base.SolutionOutputs'>\n",
      "<class 'mediapipe.python.solution_base.SolutionOutputs'>\n",
      "<class 'mediapipe.python.solution_base.SolutionOutputs'>\n",
      "<class 'mediapipe.python.solution_base.SolutionOutputs'>\n",
      "<class 'mediapipe.python.solution_base.SolutionOutputs'>\n",
      "<class 'mediapipe.python.solution_base.SolutionOutputs'>\n",
      "<class 'mediapipe.python.solution_base.SolutionOutputs'>\n",
      "<class 'mediapipe.python.solution_base.SolutionOutputs'>\n",
      "<class 'mediapipe.python.solution_base.SolutionOutputs'>\n",
      "<class 'mediapipe.python.solution_base.SolutionOutputs'>\n",
      "<class 'mediapipe.python.solution_base.SolutionOutputs'>\n",
      "<class 'mediapipe.python.solution_base.SolutionOutputs'>\n",
      "<class 'mediapipe.python.solution_base.SolutionOutputs'>\n",
      "<class 'mediapipe.python.solution_base.SolutionOutputs'>\n",
      "<class 'mediapipe.python.solution_base.SolutionOutputs'>\n",
      "<class 'mediapipe.python.solution_base.SolutionOutputs'>\n",
      "<class 'mediapipe.python.solution_base.SolutionOutputs'>\n",
      "<class 'mediapipe.python.solution_base.SolutionOutputs'>\n",
      "<class 'mediapipe.python.solution_base.SolutionOutputs'>\n",
      "<class 'mediapipe.python.solution_base.SolutionOutputs'>\n",
      "<class 'mediapipe.python.solution_base.SolutionOutputs'>\n",
      "<class 'mediapipe.python.solution_base.SolutionOutputs'>\n",
      "<class 'mediapipe.python.solution_base.SolutionOutputs'>\n",
      "<class 'mediapipe.python.solution_base.SolutionOutputs'>\n",
      "<class 'mediapipe.python.solution_base.SolutionOutputs'>\n",
      "<class 'mediapipe.python.solution_base.SolutionOutputs'>\n",
      "<class 'mediapipe.python.solution_base.SolutionOutputs'>\n",
      "<class 'mediapipe.python.solution_base.SolutionOutputs'>\n",
      "<class 'mediapipe.python.solution_base.SolutionOutputs'>\n",
      "<class 'mediapipe.python.solution_base.SolutionOutputs'>\n",
      "<class 'mediapipe.python.solution_base.SolutionOutputs'>\n",
      "<class 'mediapipe.python.solution_base.SolutionOutputs'>\n",
      "<class 'mediapipe.python.solution_base.SolutionOutputs'>\n",
      "<class 'mediapipe.python.solution_base.SolutionOutputs'>\n",
      "<class 'mediapipe.python.solution_base.SolutionOutputs'>\n",
      "<class 'mediapipe.python.solution_base.SolutionOutputs'>\n",
      "<class 'mediapipe.python.solution_base.SolutionOutputs'>\n",
      "<class 'mediapipe.python.solution_base.SolutionOutputs'>\n",
      "<class 'mediapipe.python.solution_base.SolutionOutputs'>\n",
      "<class 'mediapipe.python.solution_base.SolutionOutputs'>\n",
      "<class 'mediapipe.python.solution_base.SolutionOutputs'>\n",
      "<class 'mediapipe.python.solution_base.SolutionOutputs'>\n",
      "<class 'mediapipe.python.solution_base.SolutionOutputs'>\n",
      "<class 'mediapipe.python.solution_base.SolutionOutputs'>\n",
      "<class 'mediapipe.python.solution_base.SolutionOutputs'>\n",
      "<class 'mediapipe.python.solution_base.SolutionOutputs'>\n",
      "<class 'mediapipe.python.solution_base.SolutionOutputs'>\n",
      "<class 'mediapipe.python.solution_base.SolutionOutputs'>\n",
      "<class 'mediapipe.python.solution_base.SolutionOutputs'>\n",
      "<class 'mediapipe.python.solution_base.SolutionOutputs'>\n"
     ]
    }
   ],
   "source": [
    "cap = cv2.VideoCapture(0)\n",
    "# Set mediapipe model \n",
    "with mp_holistic.Holistic(min_detection_confidence=0.5, min_tracking_confidence=0.5) as holistic:\n",
    "    while cap.isOpened():\n",
    "\n",
    "        # Read feed\n",
    "        ret, frame = cap.read()\n",
    "\n",
    "        # Make detections\n",
    "        image, results = mediapipe_detection(frame, holistic)\n",
    "        print(results)\n",
    "        \n",
    "        # Draw landmarks\n",
    "        draw_styled_landmarks(image, results)\n",
    "\n",
    "        # Show to screen\n",
    "        cv2.imshow('OpenCV Feed', image)\n",
    "\n",
    "        # Break gracefully\n",
    "        if cv2.waitKey(10) & 0xFF == ord('q'):\n",
    "            break\n",
    "    cap.release()\n",
    "    cv2.destroyAllWindows()"
   ]
  },
  {
   "cell_type": "code",
   "execution_count": 10,
   "metadata": {},
   "outputs": [],
   "source": [
    "cap.release()\n",
    "cv2.destroyAllWindows()"
   ]
  },
  {
   "cell_type": "code",
   "execution_count": null,
   "metadata": {},
   "outputs": [],
   "source": [
    "cv2.cvtColor??"
   ]
  },
  {
   "cell_type": "code",
   "execution_count": null,
   "metadata": {
    "id": "0CCPzcJ2TsW9"
   },
   "outputs": [],
   "source": [
    "draw_landmarks(frame, results)"
   ]
  },
  {
   "cell_type": "code",
   "execution_count": null,
   "metadata": {},
   "outputs": [],
   "source": [
    "mp.python.solutions.holistic?"
   ]
  },
  {
   "cell_type": "code",
   "execution_count": null,
   "metadata": {
    "scrolled": true
   },
   "outputs": [],
   "source": [
    "plt.imshow(cv2.cvtColor(frame, cv2.COLOR_BGR2RGB))"
   ]
  },
  {
   "cell_type": "markdown",
   "metadata": {},
   "source": [
    "# Extract keypoint"
   ]
  },
  {
   "cell_type": "code",
   "execution_count": null,
   "metadata": {},
   "outputs": [],
   "source": [
    "len(results.left_hand_landmarks.landmark)"
   ]
  },
  {
   "cell_type": "code",
   "execution_count": null,
   "metadata": {},
   "outputs": [],
   "source": [
    "results.left_hand_landmarks.landmark[0]"
   ]
  },
  {
   "cell_type": "code",
   "execution_count": null,
   "metadata": {},
   "outputs": [],
   "source": [
    "len(results.face_landmarks.landmark)"
   ]
  },
  {
   "cell_type": "code",
   "execution_count": null,
   "metadata": {},
   "outputs": [],
   "source": [
    "results.face_landmarks.landmark[0]"
   ]
  },
  {
   "cell_type": "code",
   "execution_count": null,
   "metadata": {},
   "outputs": [],
   "source": [
    "pose = np.array([[res.x, res.y, res.z, res.visibility] for res in results.pose_landmarks.landmark]).flatten() if results.pose_landmarks else np.zeros(132)\n",
    "face = np.array([[res.x, res.y, res.z] for res in results.face_landmarks.landmark]).flatten() if results.face_landmarks else np.zeros(1404)\n",
    "lh = np.array([[res.x, res.y, res.z] for res in results.left_hand_landmarks.landmark]).flatten() if results.left_hand_landmarks else np.zeros(21*3)\n",
    "rh = np.array([[res.x, res.y, res.z] for res in results.right_hand_landmarks.landmark]).flatten() if results.right_hand_landmarks else np.zeros(21*3)"
   ]
  },
  {
   "cell_type": "code",
   "execution_count": 15,
   "metadata": {},
   "outputs": [],
   "source": [
    "def extract_keypoints(results):\n",
    "    pose = np.array([[res.x, res.y, res.z, res.visibility] for res in results.pose_landmarks.landmark]).flatten() if results.pose_landmarks else np.zeros(33*4)\n",
    "    face = np.array([[res.x, res.y, res.z] for res in results.face_landmarks.landmark]).flatten() if results.face_landmarks else np.zeros(468*3)\n",
    "    lh = np.array([[res.x, res.y, res.z] for res in results.left_hand_landmarks.landmark]).flatten() if results.left_hand_landmarks else np.zeros(21*3)\n",
    "    rh = np.array([[res.x, res.y, res.z] for res in results.right_hand_landmarks.landmark]).flatten() if results.right_hand_landmarks else np.zeros(21*3)\n",
    "    return np.concatenate([pose, lh, rh])"
   ]
  },
  {
   "cell_type": "code",
   "execution_count": null,
   "metadata": {},
   "outputs": [],
   "source": [
    "result_test = extract_keypoints(results)"
   ]
  },
  {
   "cell_type": "code",
   "execution_count": null,
   "metadata": {},
   "outputs": [],
   "source": [
    "result_test"
   ]
  },
  {
   "cell_type": "markdown",
   "metadata": {},
   "source": [
    "# Setup Folders for Collection"
   ]
  },
  {
   "cell_type": "code",
   "execution_count": 47,
   "metadata": {},
   "outputs": [],
   "source": [
    "# Path for exported data, numpy arrays\n",
    "\n",
    "DATA_PATH = os.path.join('C:\\\\Users\\\\alpian\\\\taSignLanguage','MP_Data_kota_whface')\n",
    "\n",
    "# Actions that we try to detect\n",
    "actions = np.array(['maaf','tolong', 'terimakasih'])\n",
    "\n",
    "# Thirty videos worth of data\n",
    "no_sequences = 30\n",
    "\n",
    "# Videos are going to be 30 frames in length\n",
    "sequence_length = 30\n",
    "\n",
    "# Folder start\n",
    "start_folder = 30"
   ]
  },
  {
   "cell_type": "code",
   "execution_count": 48,
   "metadata": {},
   "outputs": [],
   "source": [
    "for action in actions: \n",
    "    for sequence in range(no_sequences):\n",
    "        try: \n",
    "            os.makedirs(os.path.join(DATA_PATH, action, str(sequence)))\n",
    "        except:\n",
    "            pass"
   ]
  },
  {
   "cell_type": "code",
   "execution_count": 49,
   "metadata": {},
   "outputs": [
    {
     "data": {
      "text/plain": [
       "'C:\\\\Users\\\\alpian\\\\taSignLanguage'"
      ]
     },
     "execution_count": 49,
     "metadata": {},
     "output_type": "execute_result"
    }
   ],
   "source": [
    "pwd"
   ]
  },
  {
   "cell_type": "markdown",
   "metadata": {},
   "source": [
    "# Collect Keypoint Values for Training and Testing"
   ]
  },
  {
   "cell_type": "code",
   "execution_count": 52,
   "metadata": {},
   "outputs": [],
   "source": [
    "cap = cv2.VideoCapture(0)\n",
    "# Set mediapipe model \n",
    "with mp_holistic.Holistic(min_detection_confidence=0.5, min_tracking_confidence=0.5) as holistic:\n",
    "    \n",
    "    # NEW LOOP\n",
    "    # Loop through actions\n",
    "    for action in actions:\n",
    "        # Loop through sequences aka videos\n",
    "        for sequence in range(no_sequences):\n",
    "            # Loop through video length aka sequence length\n",
    "            for frame_num in range(sequence_length):\n",
    "\n",
    "                # Read feed\n",
    "                ret, frame = cap.read()\n",
    "\n",
    "                # Make detections\n",
    "                image, results = mediapipe_detection(frame, holistic)\n",
    "#                 print(results)\n",
    "\n",
    "                # Draw landmarks\n",
    "                draw_styled_landmarks(image, results)\n",
    "                \n",
    "                # NEW Apply wait logic\n",
    "                if frame_num == 0: \n",
    "                    cv2.putText(image, 'STARTING COLLECTION', (120,200), \n",
    "                               cv2.FONT_HERSHEY_SIMPLEX, 1, (0,255, 0), 4, cv2.LINE_AA)\n",
    "                    cv2.putText(image, 'Collecting frames for {} Video Number {}'.format(action, sequence), (15,12), \n",
    "                               cv2.FONT_HERSHEY_SIMPLEX, 0.5, (0, 0, 255), 1, cv2.LINE_AA)\n",
    "                    # Show to screen\n",
    "                    cv2.imshow('OpenCV Feed', image)\n",
    "                    cv2.waitKey(2000)\n",
    "                else: \n",
    "                    cv2.putText(image, 'Collecting frames for {} Video Number {}'.format(action, sequence), (15,12), \n",
    "                               cv2.FONT_HERSHEY_SIMPLEX, 0.5, (0, 0, 255), 1, cv2.LINE_AA)\n",
    "                    # Show to screen\n",
    "                    cv2.imshow('OpenCV Feed', image)\n",
    "                \n",
    "                # NEW Export keypoints\n",
    "                keypoints = extract_keypoints(results)\n",
    "                npy_path = os.path.join(DATA_PATH, action, str(sequence), str(frame_num))\n",
    "                np.save(npy_path, keypoints)\n",
    "\n",
    "                # Break gracefully\n",
    "                if cv2.waitKey(10) & 0xFF == ord('q'):\n",
    "                    break\n",
    "                    \n",
    "    cap.release()\n",
    "    cv2.destroyAllWindows()"
   ]
  },
  {
   "cell_type": "code",
   "execution_count": null,
   "metadata": {},
   "outputs": [],
   "source": [
    "# cap = cv2.VideoCapture(0)\n",
    "# # Set mediapipe model \n",
    "# with mp_holistic.Holistic(min_detection_confidence=0.5, min_tracking_confidence=0.5) as holistic:\n",
    "    \n",
    "#     # NEW LOOP\n",
    "#     # Loop through actions\n",
    "\n",
    "#     # Loop through sequences aka videos\n",
    "#     for sequence in range(no_sequences):\n",
    "#         # Loop through video length aka sequence length\n",
    "#         for frame_num in range(sequence_length):\n",
    "\n",
    "#             # Read feed\n",
    "#             ret, frame = cap.read()\n",
    "\n",
    "#             # Make detections\n",
    "#             image, results = mediapipe_detection(frame, holistic)\n",
    "# #                 print(results)\n",
    "\n",
    "#             # Draw landmarks\n",
    "#             draw_styled_landmarks(image, results)\n",
    "\n",
    "#             # NEW Apply wait logic\n",
    "#             if frame_num == 0: \n",
    "#                 cv2.putText(image, 'STARTING COLLECTION', (120,200), \n",
    "#                            cv2.FONT_HERSHEY_SIMPLEX, 1, (0,255, 0), 4, cv2.LINE_AA)\n",
    "#                 cv2.putText(image, 'Collecting frames for {} Video Number {}'.format('terimakasih', sequence), (15,12), \n",
    "#                            cv2.FONT_HERSHEY_SIMPLEX, 0.5, (0, 0, 255), 1, cv2.LINE_AA)\n",
    "#                 # Show to screen\n",
    "#                 cv2.imshow('OpenCV Feed', image)\n",
    "#                 cv2.waitKey(2000)\n",
    "#             else: \n",
    "#                 cv2.putText(image, 'Collecting frames for {} Video Number {}'.format('terimakasih', sequence), (15,12), \n",
    "#                            cv2.FONT_HERSHEY_SIMPLEX, 0.5, (0, 0, 255), 1, cv2.LINE_AA)\n",
    "#                 # Show to screen\n",
    "#                 cv2.imshow('OpenCV Feed', image)\n",
    "\n",
    "#             # NEW Export keypoints\n",
    "#             keypoints = extract_keypoints(results)\n",
    "#             npy_path = os.path.join(DATA_PATH,'terimakasih' , str(sequence), str(frame_num))\n",
    "#             np.save(npy_path, keypoints)\n",
    "\n",
    "#             # Break gracefully\n",
    "#             if cv2.waitKey(10) & 0xFF == ord('q'):\n",
    "#                 break\n",
    "                    \n",
    "#     cap.release()\n",
    "#     cv2.destroyAllWindows()"
   ]
  },
  {
   "cell_type": "code",
   "execution_count": 53,
   "metadata": {},
   "outputs": [],
   "source": [
    "cap.release()\n",
    "cv2.destroyAllWindows()"
   ]
  },
  {
   "cell_type": "markdown",
   "metadata": {},
   "source": [
    "# Preprocess Data and Create Labels and Features"
   ]
  },
  {
   "cell_type": "code",
   "execution_count": 54,
   "metadata": {},
   "outputs": [],
   "source": [
    "from sklearn.model_selection import train_test_split\n",
    "from tensorflow.keras.utils import to_categorical"
   ]
  },
  {
   "cell_type": "code",
   "execution_count": 55,
   "metadata": {},
   "outputs": [],
   "source": [
    "label_map = {label:num for num, label in enumerate(actions)}"
   ]
  },
  {
   "cell_type": "code",
   "execution_count": 56,
   "metadata": {},
   "outputs": [
    {
     "data": {
      "text/plain": [
       "{'maaf': 0, 'tolong': 1, 'terimakasih': 2}"
      ]
     },
     "execution_count": 56,
     "metadata": {},
     "output_type": "execute_result"
    }
   ],
   "source": [
    "label_map"
   ]
  },
  {
   "cell_type": "code",
   "execution_count": 58,
   "metadata": {},
   "outputs": [],
   "source": [
    "sequences, labels = [], []\n",
    "for action in actions:\n",
    "    for sequence in np.array(os.listdir(os.path.join(DATA_PATH, action))).astype(int):\n",
    "        window = []\n",
    "        for frame_num in range(sequence_length):\n",
    "            res = np.load(os.path.join(DATA_PATH, action, str(sequence), \"{}.npy\".format(frame_num)))\n",
    "            window.append(res)\n",
    "        sequences.append(window)\n",
    "        labels.append(label_map[action])"
   ]
  },
  {
   "cell_type": "code",
   "execution_count": 59,
   "metadata": {},
   "outputs": [
    {
     "data": {
      "text/plain": [
       "(90, 30, 258)"
      ]
     },
     "execution_count": 59,
     "metadata": {},
     "output_type": "execute_result"
    }
   ],
   "source": [
    "np.array(sequences).shape"
   ]
  },
  {
   "cell_type": "code",
   "execution_count": 60,
   "metadata": {},
   "outputs": [],
   "source": [
    "X = np.array(sequences)"
   ]
  },
  {
   "cell_type": "code",
   "execution_count": 61,
   "metadata": {},
   "outputs": [],
   "source": [
    "y = to_categorical(labels).astype(int)"
   ]
  },
  {
   "cell_type": "code",
   "execution_count": null,
   "metadata": {},
   "outputs": [],
   "source": []
  },
  {
   "cell_type": "code",
   "execution_count": 62,
   "metadata": {},
   "outputs": [],
   "source": [
    "X_train, X_test, y_train, y_test = train_test_split(X, y, test_size=0.2)"
   ]
  },
  {
   "cell_type": "markdown",
   "metadata": {},
   "source": [
    "# Build and Train LSTM Neural Network"
   ]
  },
  {
   "cell_type": "code",
   "execution_count": 63,
   "metadata": {},
   "outputs": [],
   "source": [
    "from tensorflow.keras.models import Sequential\n",
    "from tensorflow.keras.layers import LSTM, Dense\n",
    "from tensorflow.keras.callbacks import TensorBoard, ModelCheckpoint"
   ]
  },
  {
   "cell_type": "code",
   "execution_count": 64,
   "metadata": {},
   "outputs": [],
   "source": [
    "log_dir = os.path.join('Logs')\n",
    "tb_callback = TensorBoard(log_dir=log_dir)"
   ]
  },
  {
   "cell_type": "code",
   "execution_count": 70,
   "metadata": {},
   "outputs": [],
   "source": [
    "model = Sequential()\n",
    "model.add(LSTM(64, return_sequences=True, activation='relu', input_shape=(30,258)))\n",
    "model.add(LSTM(128, return_sequences=True, activation='relu'))\n",
    "model.add(LSTM(64, return_sequences=False, activation='relu'))\n",
    "model.add(Dense(64, activation='relu'))\n",
    "model.add(Dense(32, activation='relu'))\n",
    "model.add(Dense(actions.shape[0], activation='softmax'))"
   ]
  },
  {
   "cell_type": "code",
   "execution_count": 71,
   "metadata": {},
   "outputs": [],
   "source": [
    "# filepath = 'my_best_model.hdf5'\n",
    "# checkpoint = ModelCheckpoint(filepath=filepath, \n",
    "#                              monitor='val_loss',\n",
    "#                              verbose=1, \n",
    "#                              save_best_only=True,\n",
    "#                              mode='min')\n",
    "# callbacks = [checkpoint]"
   ]
  },
  {
   "cell_type": "code",
   "execution_count": 72,
   "metadata": {},
   "outputs": [],
   "source": [
    "model.compile(optimizer='Adam', loss='categorical_crossentropy', metrics=['accuracy'])"
   ]
  },
  {
   "cell_type": "code",
   "execution_count": 73,
   "metadata": {},
   "outputs": [],
   "source": [
    "# history = model.fit(X_train, y_train, epochs=500, callbacks=callbacks,validation_data=(X_test,y_test))"
   ]
  },
  {
   "cell_type": "code",
   "execution_count": 74,
   "metadata": {},
   "outputs": [
    {
     "name": "stdout",
     "output_type": "stream",
     "text": [
      "Epoch 1/200\n",
      "3/3 [==============================] - 7s 458ms/step - loss: 1.1052 - accuracy: 0.2917 - val_loss: 1.0813 - val_accuracy: 0.4444\n",
      "Epoch 2/200\n",
      "3/3 [==============================] - 0s 56ms/step - loss: 1.0858 - accuracy: 0.4722 - val_loss: 1.0610 - val_accuracy: 0.5556\n",
      "Epoch 3/200\n",
      "3/3 [==============================] - 0s 56ms/step - loss: 0.9645 - accuracy: 0.4583 - val_loss: 0.9132 - val_accuracy: 0.2222\n",
      "Epoch 4/200\n",
      "3/3 [==============================] - 0s 58ms/step - loss: 0.7266 - accuracy: 0.5139 - val_loss: 0.8197 - val_accuracy: 0.6667\n",
      "Epoch 5/200\n",
      "3/3 [==============================] - 0s 53ms/step - loss: 0.6739 - accuracy: 0.6667 - val_loss: 0.7641 - val_accuracy: 0.6667\n",
      "Epoch 6/200\n",
      "3/3 [==============================] - 0s 55ms/step - loss: 0.6259 - accuracy: 0.6667 - val_loss: 0.5945 - val_accuracy: 0.6667\n",
      "Epoch 7/200\n",
      "3/3 [==============================] - 0s 56ms/step - loss: 0.5602 - accuracy: 0.6667 - val_loss: 0.5024 - val_accuracy: 0.6667\n",
      "Epoch 8/200\n",
      "3/3 [==============================] - 0s 55ms/step - loss: 0.4502 - accuracy: 0.6667 - val_loss: 0.3902 - val_accuracy: 0.6667\n",
      "Epoch 9/200\n",
      "3/3 [==============================] - 0s 58ms/step - loss: 0.3029 - accuracy: 0.7917 - val_loss: 0.0481 - val_accuracy: 1.0000\n",
      "Epoch 10/200\n",
      "3/3 [==============================] - 0s 54ms/step - loss: 0.0739 - accuracy: 0.9861 - val_loss: 8.1305 - val_accuracy: 0.5556\n",
      "Epoch 11/200\n",
      "3/3 [==============================] - 0s 57ms/step - loss: 7.2438 - accuracy: 0.5833 - val_loss: 3.1826 - val_accuracy: 0.5556\n",
      "Epoch 12/200\n",
      "3/3 [==============================] - 0s 58ms/step - loss: 1.7169 - accuracy: 0.6944 - val_loss: 1.0521 - val_accuracy: 0.5556\n",
      "Epoch 13/200\n",
      "3/3 [==============================] - 0s 54ms/step - loss: 0.7513 - accuracy: 0.6944 - val_loss: 0.8149 - val_accuracy: 0.5556\n",
      "Epoch 14/200\n",
      "3/3 [==============================] - 0s 56ms/step - loss: 0.6530 - accuracy: 0.6944 - val_loss: 0.7731 - val_accuracy: 0.5556\n",
      "Epoch 15/200\n",
      "3/3 [==============================] - 0s 56ms/step - loss: 0.6282 - accuracy: 0.7361 - val_loss: 0.7430 - val_accuracy: 0.8333\n",
      "Epoch 16/200\n",
      "3/3 [==============================] - 0s 55ms/step - loss: 0.6066 - accuracy: 0.7500 - val_loss: 0.6832 - val_accuracy: 0.6667\n",
      "Epoch 17/200\n",
      "3/3 [==============================] - 0s 57ms/step - loss: 0.5551 - accuracy: 0.6667 - val_loss: 0.5253 - val_accuracy: 0.6667\n",
      "Epoch 18/200\n",
      "3/3 [==============================] - 0s 53ms/step - loss: 0.4380 - accuracy: 0.6667 - val_loss: 0.4124 - val_accuracy: 0.6667\n",
      "Epoch 19/200\n",
      "3/3 [==============================] - 0s 55ms/step - loss: 0.3474 - accuracy: 0.7083 - val_loss: 0.1953 - val_accuracy: 1.0000\n",
      "Epoch 20/200\n",
      "3/3 [==============================] - 0s 56ms/step - loss: 0.1652 - accuracy: 1.0000 - val_loss: 0.4155 - val_accuracy: 0.8889\n",
      "Epoch 21/200\n",
      "3/3 [==============================] - 0s 58ms/step - loss: 0.1857 - accuracy: 0.9306 - val_loss: 0.3209 - val_accuracy: 0.7778\n",
      "Epoch 22/200\n",
      "3/3 [==============================] - 0s 57ms/step - loss: 0.2099 - accuracy: 0.9583 - val_loss: 0.3959 - val_accuracy: 0.8889\n",
      "Epoch 23/200\n",
      "3/3 [==============================] - 0s 56ms/step - loss: 0.2736 - accuracy: 0.9444 - val_loss: 0.4111 - val_accuracy: 0.7778\n",
      "Epoch 24/200\n",
      "3/3 [==============================] - 0s 57ms/step - loss: 0.1534 - accuracy: 0.9583 - val_loss: 0.3216 - val_accuracy: 0.8333\n",
      "Epoch 25/200\n",
      "3/3 [==============================] - 0s 55ms/step - loss: 0.1516 - accuracy: 0.9444 - val_loss: 0.0758 - val_accuracy: 1.0000\n",
      "Epoch 26/200\n",
      "3/3 [==============================] - 0s 58ms/step - loss: 0.0648 - accuracy: 0.9861 - val_loss: 9.8662e-04 - val_accuracy: 1.0000\n",
      "Epoch 27/200\n",
      "3/3 [==============================] - 0s 56ms/step - loss: 0.0585 - accuracy: 0.9722 - val_loss: 17.5657 - val_accuracy: 0.2222\n",
      "Epoch 28/200\n",
      "3/3 [==============================] - 0s 56ms/step - loss: 5.2956 - accuracy: 0.7222 - val_loss: 0.5510 - val_accuracy: 0.6111\n",
      "Epoch 29/200\n",
      "3/3 [==============================] - 0s 57ms/step - loss: 0.4622 - accuracy: 0.7083 - val_loss: 0.7149 - val_accuracy: 0.7778\n",
      "Epoch 30/200\n",
      "3/3 [==============================] - 0s 53ms/step - loss: 1.1512 - accuracy: 0.8056 - val_loss: 0.5525 - val_accuracy: 0.8889\n",
      "Epoch 31/200\n",
      "3/3 [==============================] - 0s 58ms/step - loss: 0.5079 - accuracy: 0.9028 - val_loss: 2.1161 - val_accuracy: 0.5000\n",
      "Epoch 32/200\n",
      "3/3 [==============================] - 0s 54ms/step - loss: 0.8155 - accuracy: 0.6806 - val_loss: 0.6129 - val_accuracy: 0.5556\n",
      "Epoch 33/200\n",
      "3/3 [==============================] - 0s 58ms/step - loss: 0.4591 - accuracy: 0.6944 - val_loss: 0.6267 - val_accuracy: 0.5556\n",
      "Epoch 34/200\n",
      "3/3 [==============================] - 0s 55ms/step - loss: 0.4658 - accuracy: 0.6944 - val_loss: 0.6077 - val_accuracy: 0.5556\n",
      "Epoch 35/200\n",
      "3/3 [==============================] - 0s 54ms/step - loss: 0.4531 - accuracy: 0.6944 - val_loss: 0.5069 - val_accuracy: 0.7778\n",
      "Epoch 36/200\n",
      "3/3 [==============================] - 0s 58ms/step - loss: 0.3828 - accuracy: 0.9167 - val_loss: 0.3783 - val_accuracy: 0.8333\n",
      "Epoch 37/200\n",
      "3/3 [==============================] - 0s 58ms/step - loss: 0.3019 - accuracy: 0.9167 - val_loss: 0.2799 - val_accuracy: 0.8889\n",
      "Epoch 38/200\n",
      "3/3 [==============================] - 0s 59ms/step - loss: 0.2576 - accuracy: 0.9306 - val_loss: 1.0768 - val_accuracy: 0.5556\n",
      "Epoch 39/200\n",
      "3/3 [==============================] - 0s 54ms/step - loss: 0.9617 - accuracy: 0.6944 - val_loss: 0.9335 - val_accuracy: 0.5556\n",
      "Epoch 40/200\n",
      "3/3 [==============================] - 0s 52ms/step - loss: 0.6064 - accuracy: 0.6944 - val_loss: 0.6473 - val_accuracy: 0.5556\n",
      "Epoch 41/200\n",
      "3/3 [==============================] - 0s 56ms/step - loss: 0.4962 - accuracy: 0.7083 - val_loss: 0.5485 - val_accuracy: 0.6667\n",
      "Epoch 42/200\n",
      "3/3 [==============================] - 0s 53ms/step - loss: 5.7403 - accuracy: 0.6389 - val_loss: 2.9941 - val_accuracy: 0.2778\n",
      "Epoch 43/200\n",
      "3/3 [==============================] - 0s 56ms/step - loss: 1.8563 - accuracy: 0.5833 - val_loss: 0.5021 - val_accuracy: 0.6667\n",
      "Epoch 44/200\n",
      "3/3 [==============================] - 0s 56ms/step - loss: 0.3933 - accuracy: 0.8333 - val_loss: 0.3805 - val_accuracy: 0.6667\n",
      "Epoch 45/200\n",
      "3/3 [==============================] - 0s 58ms/step - loss: 0.3398 - accuracy: 0.7083 - val_loss: 0.4745 - val_accuracy: 0.6667\n",
      "Epoch 46/200\n",
      "3/3 [==============================] - 0s 59ms/step - loss: 0.3561 - accuracy: 0.7917 - val_loss: 0.1996 - val_accuracy: 0.9444\n",
      "Epoch 47/200\n",
      "3/3 [==============================] - 0s 62ms/step - loss: 6.0295 - accuracy: 0.7917 - val_loss: 42.7266 - val_accuracy: 0.6111\n",
      "Epoch 48/200\n",
      "3/3 [==============================] - 0s 61ms/step - loss: 45.9372 - accuracy: 0.5278 - val_loss: 18.0404 - val_accuracy: 0.3333\n",
      "Epoch 49/200\n",
      "3/3 [==============================] - 0s 57ms/step - loss: 26.7379 - accuracy: 0.2639 - val_loss: 2.6000 - val_accuracy: 0.6111\n",
      "Epoch 50/200\n",
      "3/3 [==============================] - 0s 58ms/step - loss: 3.2070 - accuracy: 0.6528 - val_loss: 15.0003 - val_accuracy: 0.2222\n",
      "Epoch 51/200\n",
      "3/3 [==============================] - 0s 59ms/step - loss: 23.6548 - accuracy: 0.3472 - val_loss: 125.3084 - val_accuracy: 0.5000\n",
      "Epoch 52/200\n",
      "3/3 [==============================] - 0s 56ms/step - loss: 69.3044 - accuracy: 0.4583 - val_loss: 54.6716 - val_accuracy: 0.1111\n",
      "Epoch 53/200\n",
      "3/3 [==============================] - 0s 56ms/step - loss: 52.7060 - accuracy: 0.2639 - val_loss: 62.2119 - val_accuracy: 0.0556\n",
      "Epoch 54/200\n",
      "3/3 [==============================] - 0s 53ms/step - loss: 57.3852 - accuracy: 0.2639 - val_loss: 50.0449 - val_accuracy: 0.2222\n",
      "Epoch 55/200\n",
      "3/3 [==============================] - 0s 54ms/step - loss: 37.2146 - accuracy: 0.4028 - val_loss: 14.5607 - val_accuracy: 0.5000\n",
      "Epoch 56/200\n",
      "3/3 [==============================] - 0s 55ms/step - loss: 14.1651 - accuracy: 0.3472 - val_loss: 7.9274 - val_accuracy: 0.5000\n",
      "Epoch 57/200\n",
      "3/3 [==============================] - 0s 61ms/step - loss: 7.5749 - accuracy: 0.6250 - val_loss: 84.2865 - val_accuracy: 0.2778\n",
      "Epoch 58/200\n",
      "3/3 [==============================] - 0s 59ms/step - loss: 43.6353 - accuracy: 0.4722 - val_loss: 3.6555 - val_accuracy: 0.3889\n"
     ]
    },
    {
     "name": "stdout",
     "output_type": "stream",
     "text": [
      "Epoch 59/200\n",
      "3/3 [==============================] - 0s 55ms/step - loss: 3.8154 - accuracy: 0.4861 - val_loss: 8.4308 - val_accuracy: 0.3333\n",
      "Epoch 60/200\n",
      "3/3 [==============================] - 0s 56ms/step - loss: 8.1366 - accuracy: 0.3889 - val_loss: 4.0346 - val_accuracy: 0.3333\n",
      "Epoch 61/200\n",
      "3/3 [==============================] - 0s 56ms/step - loss: 3.8599 - accuracy: 0.3750 - val_loss: 5.2046 - val_accuracy: 0.3889\n",
      "Epoch 62/200\n",
      "3/3 [==============================] - 0s 59ms/step - loss: 5.4156 - accuracy: 0.4861 - val_loss: 7.2835 - val_accuracy: 0.2222\n",
      "Epoch 63/200\n",
      "3/3 [==============================] - 0s 57ms/step - loss: 4.2238 - accuracy: 0.2778 - val_loss: 3.3997 - val_accuracy: 0.2222\n",
      "Epoch 64/200\n",
      "3/3 [==============================] - 0s 54ms/step - loss: 5.1342 - accuracy: 0.2639 - val_loss: 5.6781 - val_accuracy: 0.2222\n",
      "Epoch 65/200\n",
      "3/3 [==============================] - 0s 55ms/step - loss: 4.8411 - accuracy: 0.3333 - val_loss: 1.1915 - val_accuracy: 0.5556\n",
      "Epoch 66/200\n",
      "3/3 [==============================] - 0s 54ms/step - loss: 4.2256 - accuracy: 0.3889 - val_loss: 4.2063 - val_accuracy: 0.2222\n",
      "Epoch 67/200\n",
      "3/3 [==============================] - 0s 58ms/step - loss: 3.5139 - accuracy: 0.3333 - val_loss: 2.0853 - val_accuracy: 0.6111\n",
      "Epoch 68/200\n",
      "3/3 [==============================] - 0s 56ms/step - loss: 2.2533 - accuracy: 0.4861 - val_loss: 2.9419 - val_accuracy: 0.3889\n",
      "Epoch 69/200\n",
      "3/3 [==============================] - 0s 53ms/step - loss: 1.9596 - accuracy: 0.3611 - val_loss: 1.5105 - val_accuracy: 0.5000\n",
      "Epoch 70/200\n",
      "3/3 [==============================] - 0s 53ms/step - loss: 1.3344 - accuracy: 0.6250 - val_loss: 1.4675 - val_accuracy: 0.6111\n",
      "Epoch 71/200\n",
      "3/3 [==============================] - 0s 54ms/step - loss: 1.5352 - accuracy: 0.5278 - val_loss: 0.7006 - val_accuracy: 0.5556\n",
      "Epoch 72/200\n",
      "3/3 [==============================] - 0s 55ms/step - loss: 0.7162 - accuracy: 0.5694 - val_loss: 1.7702 - val_accuracy: 0.3889\n",
      "Epoch 73/200\n",
      "3/3 [==============================] - 0s 56ms/step - loss: 0.9993 - accuracy: 0.6111 - val_loss: 0.4874 - val_accuracy: 0.7222\n",
      "Epoch 74/200\n",
      "3/3 [==============================] - 0s 56ms/step - loss: 0.5505 - accuracy: 0.6806 - val_loss: 0.4560 - val_accuracy: 0.8333\n",
      "Epoch 75/200\n",
      "3/3 [==============================] - 0s 52ms/step - loss: 0.3722 - accuracy: 0.8056 - val_loss: 0.4143 - val_accuracy: 0.8333\n",
      "Epoch 76/200\n",
      "3/3 [==============================] - 0s 55ms/step - loss: 0.3402 - accuracy: 0.8750 - val_loss: 1.2707 - val_accuracy: 0.5556\n",
      "Epoch 77/200\n",
      "3/3 [==============================] - 0s 58ms/step - loss: 0.6004 - accuracy: 0.6944 - val_loss: 1.6144 - val_accuracy: 0.6667\n",
      "Epoch 78/200\n",
      "3/3 [==============================] - 0s 54ms/step - loss: 1.0995 - accuracy: 0.7361 - val_loss: 5.5690 - val_accuracy: 0.5556\n",
      "Epoch 79/200\n",
      "3/3 [==============================] - 0s 56ms/step - loss: 1.9795 - accuracy: 0.6528 - val_loss: 1.7389 - val_accuracy: 0.6667\n",
      "Epoch 80/200\n",
      "3/3 [==============================] - 0s 54ms/step - loss: 1.6630 - accuracy: 0.6944 - val_loss: 1.6352 - val_accuracy: 0.4444\n",
      "Epoch 81/200\n",
      "3/3 [==============================] - 0s 56ms/step - loss: 1.4059 - accuracy: 0.5556 - val_loss: 69.0802 - val_accuracy: 0.2222\n",
      "Epoch 82/200\n",
      "3/3 [==============================] - 0s 56ms/step - loss: 15.0230 - accuracy: 0.5972 - val_loss: 1.1365 - val_accuracy: 0.4444\n",
      "Epoch 83/200\n",
      "3/3 [==============================] - 0s 55ms/step - loss: 0.8984 - accuracy: 0.5833 - val_loss: 0.6127 - val_accuracy: 0.7222\n",
      "Epoch 84/200\n",
      "3/3 [==============================] - 0s 55ms/step - loss: 0.6724 - accuracy: 0.7639 - val_loss: 0.9125 - val_accuracy: 0.6111\n",
      "Epoch 85/200\n",
      "3/3 [==============================] - 0s 58ms/step - loss: 1.0526 - accuracy: 0.6111 - val_loss: 0.6896 - val_accuracy: 0.6111\n",
      "Epoch 86/200\n",
      "3/3 [==============================] - 0s 55ms/step - loss: 0.9576 - accuracy: 0.5417 - val_loss: 2.2955 - val_accuracy: 0.2778\n",
      "Epoch 87/200\n",
      "3/3 [==============================] - 0s 55ms/step - loss: 1.6056 - accuracy: 0.5833 - val_loss: 2.1737 - val_accuracy: 0.5556\n",
      "Epoch 88/200\n",
      "3/3 [==============================] - 0s 59ms/step - loss: 1.4569 - accuracy: 0.5556 - val_loss: 0.6790 - val_accuracy: 0.7222\n",
      "Epoch 89/200\n",
      "3/3 [==============================] - 0s 62ms/step - loss: 0.6204 - accuracy: 0.7083 - val_loss: 1.7988 - val_accuracy: 0.5556\n",
      "Epoch 90/200\n",
      "3/3 [==============================] - 0s 59ms/step - loss: 0.9124 - accuracy: 0.6111 - val_loss: 1.7481 - val_accuracy: 0.6667\n",
      "Epoch 91/200\n",
      "3/3 [==============================] - 0s 60ms/step - loss: 1.5845 - accuracy: 0.6667 - val_loss: 0.3976 - val_accuracy: 0.8889\n",
      "Epoch 92/200\n",
      "3/3 [==============================] - 0s 61ms/step - loss: 1.0385 - accuracy: 0.7361 - val_loss: 1.2574 - val_accuracy: 0.5556\n",
      "Epoch 93/200\n",
      "3/3 [==============================] - 0s 56ms/step - loss: 0.5316 - accuracy: 0.7917 - val_loss: 1.5042 - val_accuracy: 0.6667\n",
      "Epoch 94/200\n",
      "3/3 [==============================] - 0s 59ms/step - loss: 1.5120 - accuracy: 0.6389 - val_loss: 0.4827 - val_accuracy: 0.8889\n",
      "Epoch 95/200\n",
      "3/3 [==============================] - 0s 58ms/step - loss: 0.8048 - accuracy: 0.8056 - val_loss: 0.9297 - val_accuracy: 0.5556\n",
      "Epoch 96/200\n",
      "3/3 [==============================] - 0s 59ms/step - loss: 0.6887 - accuracy: 0.6806 - val_loss: 1.3979 - val_accuracy: 0.6667\n",
      "Epoch 97/200\n",
      "3/3 [==============================] - 0s 57ms/step - loss: 1.1249 - accuracy: 0.6389 - val_loss: 0.6988 - val_accuracy: 0.6111\n",
      "Epoch 98/200\n",
      "3/3 [==============================] - 0s 58ms/step - loss: 0.7648 - accuracy: 0.6944 - val_loss: 0.9841 - val_accuracy: 0.5556\n",
      "Epoch 99/200\n",
      "3/3 [==============================] - 0s 60ms/step - loss: 0.5135 - accuracy: 0.7639 - val_loss: 0.6754 - val_accuracy: 0.6667\n",
      "Epoch 100/200\n",
      "3/3 [==============================] - 0s 58ms/step - loss: 0.5760 - accuracy: 0.6944 - val_loss: 0.4506 - val_accuracy: 0.7778\n",
      "Epoch 101/200\n",
      "3/3 [==============================] - 0s 59ms/step - loss: 0.4142 - accuracy: 0.7917 - val_loss: 0.2709 - val_accuracy: 0.9444\n",
      "Epoch 102/200\n",
      "3/3 [==============================] - 0s 65ms/step - loss: 0.4142 - accuracy: 0.7639 - val_loss: 0.4541 - val_accuracy: 0.7222\n",
      "Epoch 103/200\n",
      "3/3 [==============================] - 0s 60ms/step - loss: 0.4268 - accuracy: 0.7500 - val_loss: 0.5425 - val_accuracy: 0.6111\n",
      "Epoch 104/200\n",
      "3/3 [==============================] - 0s 58ms/step - loss: 0.3515 - accuracy: 0.7917 - val_loss: 0.3148 - val_accuracy: 0.8333\n",
      "Epoch 105/200\n",
      "3/3 [==============================] - 0s 60ms/step - loss: 0.2855 - accuracy: 0.8889 - val_loss: 0.3412 - val_accuracy: 0.8889\n",
      "Epoch 106/200\n",
      "3/3 [==============================] - 0s 62ms/step - loss: 0.2397 - accuracy: 0.8889 - val_loss: 0.2992 - val_accuracy: 0.8889\n",
      "Epoch 107/200\n",
      "3/3 [==============================] - 0s 58ms/step - loss: 0.1979 - accuracy: 0.9028 - val_loss: 0.1877 - val_accuracy: 0.9444\n",
      "Epoch 108/200\n",
      "3/3 [==============================] - 0s 60ms/step - loss: 0.1923 - accuracy: 0.9028 - val_loss: 0.1422 - val_accuracy: 0.9444\n",
      "Epoch 109/200\n",
      "3/3 [==============================] - 0s 62ms/step - loss: 0.1813 - accuracy: 0.8889 - val_loss: 0.1253 - val_accuracy: 1.0000\n",
      "Epoch 110/200\n",
      "3/3 [==============================] - 0s 58ms/step - loss: 0.1119 - accuracy: 0.9583 - val_loss: 0.6433 - val_accuracy: 0.7778\n",
      "Epoch 111/200\n",
      "3/3 [==============================] - 0s 55ms/step - loss: 0.4394 - accuracy: 0.7917 - val_loss: 0.1449 - val_accuracy: 0.9444\n",
      "Epoch 112/200\n",
      "3/3 [==============================] - 0s 54ms/step - loss: 0.2279 - accuracy: 0.8889 - val_loss: 0.1577 - val_accuracy: 0.9444\n",
      "Epoch 113/200\n",
      "3/3 [==============================] - 0s 53ms/step - loss: 0.1630 - accuracy: 0.9306 - val_loss: 0.2686 - val_accuracy: 0.8889\n",
      "Epoch 114/200\n",
      "3/3 [==============================] - 0s 58ms/step - loss: 0.1712 - accuracy: 0.9583 - val_loss: 0.5220 - val_accuracy: 0.8333\n",
      "Epoch 115/200\n",
      "3/3 [==============================] - 0s 54ms/step - loss: 0.3129 - accuracy: 0.8889 - val_loss: 0.3343 - val_accuracy: 0.8333\n",
      "Epoch 116/200\n",
      "3/3 [==============================] - 0s 52ms/step - loss: 0.2071 - accuracy: 0.9444 - val_loss: 0.4226 - val_accuracy: 0.7222\n"
     ]
    },
    {
     "name": "stdout",
     "output_type": "stream",
     "text": [
      "Epoch 117/200\n",
      "3/3 [==============================] - 0s 55ms/step - loss: 0.3375 - accuracy: 0.7917 - val_loss: 0.2329 - val_accuracy: 0.8333\n",
      "Epoch 118/200\n",
      "3/3 [==============================] - 0s 54ms/step - loss: 0.2504 - accuracy: 0.8611 - val_loss: 0.3814 - val_accuracy: 0.7778\n",
      "Epoch 119/200\n",
      "3/3 [==============================] - 0s 53ms/step - loss: 0.2049 - accuracy: 0.9167 - val_loss: 0.7226 - val_accuracy: 0.6667\n",
      "Epoch 120/200\n",
      "3/3 [==============================] - 0s 52ms/step - loss: 0.3517 - accuracy: 0.8056 - val_loss: 0.3661 - val_accuracy: 0.8333\n",
      "Epoch 121/200\n",
      "3/3 [==============================] - 0s 55ms/step - loss: 0.2692 - accuracy: 0.8750 - val_loss: 0.2043 - val_accuracy: 0.9444\n",
      "Epoch 122/200\n",
      "3/3 [==============================] - 0s 55ms/step - loss: 0.1698 - accuracy: 0.9444 - val_loss: 0.3426 - val_accuracy: 0.8889\n",
      "Epoch 123/200\n",
      "3/3 [==============================] - 0s 54ms/step - loss: 0.5000 - accuracy: 0.8750 - val_loss: 8.1361 - val_accuracy: 0.4444\n",
      "Epoch 124/200\n",
      "3/3 [==============================] - 0s 53ms/step - loss: 5.4865 - accuracy: 0.3889 - val_loss: 4.1437 - val_accuracy: 0.2778\n",
      "Epoch 125/200\n",
      "3/3 [==============================] - 0s 54ms/step - loss: 4.7796 - accuracy: 0.3611 - val_loss: 2.8286 - val_accuracy: 0.5556\n",
      "Epoch 126/200\n",
      "3/3 [==============================] - 0s 58ms/step - loss: 1.9443 - accuracy: 0.4444 - val_loss: 4.3829 - val_accuracy: 0.3333\n",
      "Epoch 127/200\n",
      "3/3 [==============================] - 0s 59ms/step - loss: 3.3165 - accuracy: 0.4167 - val_loss: 1.9659 - val_accuracy: 0.3333\n",
      "Epoch 128/200\n",
      "3/3 [==============================] - 0s 56ms/step - loss: 1.9051 - accuracy: 0.4583 - val_loss: 0.6485 - val_accuracy: 0.7222\n",
      "Epoch 129/200\n",
      "3/3 [==============================] - 0s 55ms/step - loss: 0.8736 - accuracy: 0.6806 - val_loss: 1.1270 - val_accuracy: 0.5000\n",
      "Epoch 130/200\n",
      "3/3 [==============================] - 0s 52ms/step - loss: 1.0001 - accuracy: 0.5972 - val_loss: 0.7033 - val_accuracy: 0.6111\n",
      "Epoch 131/200\n",
      "3/3 [==============================] - 0s 55ms/step - loss: 0.7254 - accuracy: 0.7083 - val_loss: 1.0454 - val_accuracy: 0.5000\n",
      "Epoch 132/200\n",
      "3/3 [==============================] - 0s 55ms/step - loss: 0.7996 - accuracy: 0.6111 - val_loss: 0.6218 - val_accuracy: 0.7222\n",
      "Epoch 133/200\n",
      "3/3 [==============================] - 0s 54ms/step - loss: 0.8314 - accuracy: 0.7083 - val_loss: 1.3589 - val_accuracy: 0.5000\n",
      "Epoch 134/200\n",
      "3/3 [==============================] - 0s 51ms/step - loss: 1.7787 - accuracy: 0.4861 - val_loss: 2.2840 - val_accuracy: 0.5000\n",
      "Epoch 135/200\n",
      "3/3 [==============================] - 0s 57ms/step - loss: 1.6221 - accuracy: 0.6111 - val_loss: 0.9764 - val_accuracy: 0.5556\n",
      "Epoch 136/200\n",
      "3/3 [==============================] - 0s 54ms/step - loss: 0.6213 - accuracy: 0.6806 - val_loss: 0.7685 - val_accuracy: 0.6111\n",
      "Epoch 137/200\n",
      "3/3 [==============================] - 0s 55ms/step - loss: 0.9141 - accuracy: 0.5139 - val_loss: 2.0490 - val_accuracy: 0.5556\n",
      "Epoch 138/200\n",
      "3/3 [==============================] - 0s 54ms/step - loss: 1.2297 - accuracy: 0.6528 - val_loss: 1.8186 - val_accuracy: 0.3889\n",
      "Epoch 139/200\n",
      "3/3 [==============================] - 0s 54ms/step - loss: 1.4164 - accuracy: 0.5972 - val_loss: 1.1200 - val_accuracy: 0.5556\n",
      "Epoch 140/200\n",
      "3/3 [==============================] - 0s 56ms/step - loss: 0.9410 - accuracy: 0.6667 - val_loss: 0.4359 - val_accuracy: 0.7222\n",
      "Epoch 141/200\n",
      "3/3 [==============================] - 0s 51ms/step - loss: 0.4615 - accuracy: 0.7222 - val_loss: 1.0301 - val_accuracy: 0.5556\n",
      "Epoch 142/200\n",
      "3/3 [==============================] - 0s 56ms/step - loss: 0.7109 - accuracy: 0.6667 - val_loss: 0.6613 - val_accuracy: 0.5556\n",
      "Epoch 143/200\n",
      "3/3 [==============================] - 0s 55ms/step - loss: 0.6671 - accuracy: 0.6528 - val_loss: 0.3141 - val_accuracy: 0.8333\n",
      "Epoch 144/200\n",
      "3/3 [==============================] - 0s 54ms/step - loss: 0.4316 - accuracy: 0.7083 - val_loss: 0.6383 - val_accuracy: 0.7222\n",
      "Epoch 145/200\n",
      "3/3 [==============================] - 0s 56ms/step - loss: 0.6792 - accuracy: 0.6944 - val_loss: 1.6317 - val_accuracy: 0.5556\n",
      "Epoch 146/200\n",
      "3/3 [==============================] - 0s 58ms/step - loss: 1.1156 - accuracy: 0.7222 - val_loss: 0.9277 - val_accuracy: 0.6667\n",
      "Epoch 147/200\n",
      "3/3 [==============================] - 0s 53ms/step - loss: 0.8935 - accuracy: 0.7083 - val_loss: 0.9570 - val_accuracy: 0.5556\n",
      "Epoch 148/200\n",
      "3/3 [==============================] - 0s 53ms/step - loss: 0.5748 - accuracy: 0.7500 - val_loss: 1.1450 - val_accuracy: 0.6667\n",
      "Epoch 149/200\n",
      "3/3 [==============================] - 0s 58ms/step - loss: 1.1765 - accuracy: 0.6667 - val_loss: 1.1282 - val_accuracy: 0.5556\n",
      "Epoch 150/200\n",
      "3/3 [==============================] - 0s 57ms/step - loss: 0.6910 - accuracy: 0.7361 - val_loss: 0.7190 - val_accuracy: 0.7778\n",
      "Epoch 151/200\n",
      "3/3 [==============================] - 0s 53ms/step - loss: 0.7886 - accuracy: 0.7222 - val_loss: 0.6819 - val_accuracy: 0.5556\n",
      "Epoch 152/200\n",
      "3/3 [==============================] - 0s 63ms/step - loss: 0.6663 - accuracy: 0.7639 - val_loss: 0.4030 - val_accuracy: 0.8333\n",
      "Epoch 153/200\n",
      "3/3 [==============================] - 0s 58ms/step - loss: 0.5234 - accuracy: 0.7500 - val_loss: 0.3369 - val_accuracy: 0.8889\n",
      "Epoch 154/200\n",
      "3/3 [==============================] - 0s 57ms/step - loss: 0.4861 - accuracy: 0.7500 - val_loss: 0.3301 - val_accuracy: 0.8889\n",
      "Epoch 155/200\n",
      "3/3 [==============================] - 0s 56ms/step - loss: 0.5339 - accuracy: 0.8056 - val_loss: 0.3124 - val_accuracy: 0.8889\n",
      "Epoch 156/200\n",
      "3/3 [==============================] - 0s 53ms/step - loss: 0.4408 - accuracy: 0.7639 - val_loss: 0.2557 - val_accuracy: 0.9444\n",
      "Epoch 157/200\n",
      "3/3 [==============================] - 0s 55ms/step - loss: 0.3117 - accuracy: 0.8472 - val_loss: 0.2293 - val_accuracy: 0.8889\n",
      "Epoch 158/200\n",
      "3/3 [==============================] - 0s 55ms/step - loss: 0.3344 - accuracy: 0.8056 - val_loss: 0.2482 - val_accuracy: 0.8889\n",
      "Epoch 159/200\n",
      "3/3 [==============================] - 0s 56ms/step - loss: 0.3089 - accuracy: 0.8889 - val_loss: 0.2123 - val_accuracy: 0.8889\n",
      "Epoch 160/200\n",
      "3/3 [==============================] - 0s 56ms/step - loss: 0.2160 - accuracy: 0.9306 - val_loss: 0.2732 - val_accuracy: 0.8889\n",
      "Epoch 161/200\n",
      "3/3 [==============================] - 0s 55ms/step - loss: 0.2030 - accuracy: 0.9306 - val_loss: 0.2342 - val_accuracy: 0.9444\n",
      "Epoch 162/200\n",
      "3/3 [==============================] - 0s 52ms/step - loss: 0.2734 - accuracy: 0.8333 - val_loss: 0.2236 - val_accuracy: 0.9444\n",
      "Epoch 163/200\n",
      "3/3 [==============================] - 0s 58ms/step - loss: 0.1817 - accuracy: 0.9167 - val_loss: 0.2063 - val_accuracy: 0.9444\n",
      "Epoch 164/200\n",
      "3/3 [==============================] - 0s 56ms/step - loss: 0.2003 - accuracy: 0.9028 - val_loss: 0.3141 - val_accuracy: 0.8889\n",
      "Epoch 165/200\n",
      "3/3 [==============================] - 0s 52ms/step - loss: 0.2046 - accuracy: 0.9306 - val_loss: 0.2116 - val_accuracy: 0.8889\n",
      "Epoch 166/200\n",
      "3/3 [==============================] - 0s 59ms/step - loss: 0.2304 - accuracy: 0.9167 - val_loss: 0.2164 - val_accuracy: 0.9444\n",
      "Epoch 167/200\n",
      "3/3 [==============================] - 0s 55ms/step - loss: 0.2186 - accuracy: 0.9167 - val_loss: 0.2532 - val_accuracy: 0.9444\n",
      "Epoch 168/200\n",
      "3/3 [==============================] - 0s 53ms/step - loss: 0.2397 - accuracy: 0.9028 - val_loss: 0.1745 - val_accuracy: 0.9444\n",
      "Epoch 169/200\n",
      "3/3 [==============================] - 0s 57ms/step - loss: 0.1628 - accuracy: 0.9444 - val_loss: 0.2868 - val_accuracy: 0.9444\n",
      "Epoch 170/200\n",
      "3/3 [==============================] - 0s 54ms/step - loss: 0.1816 - accuracy: 0.9444 - val_loss: 0.1999 - val_accuracy: 0.9444\n",
      "Epoch 171/200\n",
      "3/3 [==============================] - 0s 54ms/step - loss: 0.2494 - accuracy: 0.9028 - val_loss: 0.4364 - val_accuracy: 0.7778\n",
      "Epoch 172/200\n",
      "3/3 [==============================] - 0s 54ms/step - loss: 0.2536 - accuracy: 0.8889 - val_loss: 0.1462 - val_accuracy: 0.9444\n",
      "Epoch 173/200\n",
      "3/3 [==============================] - 0s 55ms/step - loss: 0.1537 - accuracy: 0.9306 - val_loss: 0.1993 - val_accuracy: 0.9444\n",
      "Epoch 174/200\n",
      "3/3 [==============================] - 0s 56ms/step - loss: 0.1270 - accuracy: 0.9583 - val_loss: 0.5457 - val_accuracy: 0.7222\n"
     ]
    },
    {
     "name": "stdout",
     "output_type": "stream",
     "text": [
      "Epoch 175/200\n",
      "3/3 [==============================] - 0s 54ms/step - loss: 0.2363 - accuracy: 0.8889 - val_loss: 0.3084 - val_accuracy: 0.8889\n",
      "Epoch 176/200\n",
      "3/3 [==============================] - 0s 54ms/step - loss: 0.2432 - accuracy: 0.9167 - val_loss: 0.1932 - val_accuracy: 0.9444\n",
      "Epoch 177/200\n",
      "3/3 [==============================] - 0s 55ms/step - loss: 0.1133 - accuracy: 0.9722 - val_loss: 0.1816 - val_accuracy: 0.9444\n",
      "Epoch 178/200\n",
      "3/3 [==============================] - 0s 54ms/step - loss: 0.1141 - accuracy: 0.9722 - val_loss: 0.1873 - val_accuracy: 0.9444\n",
      "Epoch 179/200\n",
      "3/3 [==============================] - 0s 59ms/step - loss: 0.1130 - accuracy: 0.9722 - val_loss: 0.1710 - val_accuracy: 0.8889\n",
      "Epoch 180/200\n",
      "3/3 [==============================] - 0s 57ms/step - loss: 0.1421 - accuracy: 0.9306 - val_loss: 0.1957 - val_accuracy: 0.9444\n",
      "Epoch 181/200\n",
      "3/3 [==============================] - 0s 53ms/step - loss: 0.1175 - accuracy: 0.9583 - val_loss: 0.1727 - val_accuracy: 0.8889\n",
      "Epoch 182/200\n",
      "3/3 [==============================] - 0s 56ms/step - loss: 0.1551 - accuracy: 0.9583 - val_loss: 0.1813 - val_accuracy: 0.9444\n",
      "Epoch 183/200\n",
      "3/3 [==============================] - 0s 55ms/step - loss: 0.1453 - accuracy: 0.9444 - val_loss: 0.1934 - val_accuracy: 0.9444\n",
      "Epoch 184/200\n",
      "3/3 [==============================] - 0s 54ms/step - loss: 0.1479 - accuracy: 0.9444 - val_loss: 0.2993 - val_accuracy: 0.8333\n",
      "Epoch 185/200\n",
      "3/3 [==============================] - 0s 184ms/step - loss: 0.2714 - accuracy: 0.8750 - val_loss: 0.3737 - val_accuracy: 0.8889\n",
      "Epoch 186/200\n",
      "3/3 [==============================] - 0s 54ms/step - loss: 0.3016 - accuracy: 0.8750 - val_loss: 0.1719 - val_accuracy: 0.9444\n",
      "Epoch 187/200\n",
      "3/3 [==============================] - 0s 56ms/step - loss: 0.1418 - accuracy: 0.9444 - val_loss: 0.1965 - val_accuracy: 0.8889\n",
      "Epoch 188/200\n",
      "3/3 [==============================] - 0s 57ms/step - loss: 0.2717 - accuracy: 0.9167 - val_loss: 0.2158 - val_accuracy: 0.8889\n",
      "Epoch 189/200\n",
      "3/3 [==============================] - 0s 59ms/step - loss: 0.2059 - accuracy: 0.9306 - val_loss: 0.2193 - val_accuracy: 0.8889\n",
      "Epoch 190/200\n",
      "3/3 [==============================] - 0s 57ms/step - loss: 0.1076 - accuracy: 0.9583 - val_loss: 0.1652 - val_accuracy: 0.8889\n",
      "Epoch 191/200\n",
      "3/3 [==============================] - 0s 57ms/step - loss: 0.0998 - accuracy: 0.9722 - val_loss: 0.6383 - val_accuracy: 0.8333\n",
      "Epoch 192/200\n",
      "3/3 [==============================] - 0s 60ms/step - loss: 0.1500 - accuracy: 0.9306 - val_loss: 0.5438 - val_accuracy: 0.8333\n",
      "Epoch 193/200\n",
      "3/3 [==============================] - 0s 55ms/step - loss: 0.4580 - accuracy: 0.8056 - val_loss: 1.8712 - val_accuracy: 0.5556\n",
      "Epoch 194/200\n",
      "3/3 [==============================] - 0s 57ms/step - loss: 0.8235 - accuracy: 0.6944 - val_loss: 1.0093 - val_accuracy: 0.6667\n",
      "Epoch 195/200\n",
      "3/3 [==============================] - 0s 57ms/step - loss: 0.6895 - accuracy: 0.7778 - val_loss: 1.4125 - val_accuracy: 0.5556\n",
      "Epoch 196/200\n",
      "3/3 [==============================] - 0s 59ms/step - loss: 0.5755 - accuracy: 0.7917 - val_loss: 0.2743 - val_accuracy: 0.8889\n",
      "Epoch 197/200\n",
      "3/3 [==============================] - 0s 57ms/step - loss: 0.1666 - accuracy: 0.9306 - val_loss: 0.4511 - val_accuracy: 0.8333\n",
      "Epoch 198/200\n",
      "3/3 [==============================] - 0s 56ms/step - loss: 0.1615 - accuracy: 0.9306 - val_loss: 0.2844 - val_accuracy: 0.8889\n",
      "Epoch 199/200\n",
      "3/3 [==============================] - 0s 57ms/step - loss: 0.2536 - accuracy: 0.9306 - val_loss: 0.1604 - val_accuracy: 0.8889\n",
      "Epoch 200/200\n",
      "3/3 [==============================] - 0s 58ms/step - loss: 0.1895 - accuracy: 0.9583 - val_loss: 0.4467 - val_accuracy: 0.8333\n"
     ]
    }
   ],
   "source": [
    "history = model.fit(X_train, y_train, epochs=200, callbacks=[tb_callback], validation_data=(X_test,y_test))"
   ]
  },
  {
   "cell_type": "code",
   "execution_count": 75,
   "metadata": {},
   "outputs": [
    {
     "name": "stdout",
     "output_type": "stream",
     "text": [
      "Model: \"sequential_2\"\n",
      "_________________________________________________________________\n",
      " Layer (type)                Output Shape              Param #   \n",
      "=================================================================\n",
      " lstm_6 (LSTM)               (None, 30, 64)            82688     \n",
      "                                                                 \n",
      " lstm_7 (LSTM)               (None, 30, 128)           98816     \n",
      "                                                                 \n",
      " lstm_8 (LSTM)               (None, 64)                49408     \n",
      "                                                                 \n",
      " dense_6 (Dense)             (None, 64)                4160      \n",
      "                                                                 \n",
      " dense_7 (Dense)             (None, 32)                2080      \n",
      "                                                                 \n",
      " dense_8 (Dense)             (None, 3)                 99        \n",
      "                                                                 \n",
      "=================================================================\n",
      "Total params: 237,251\n",
      "Trainable params: 237,251\n",
      "Non-trainable params: 0\n",
      "_________________________________________________________________\n"
     ]
    }
   ],
   "source": [
    "model.summary()"
   ]
  },
  {
   "cell_type": "code",
   "execution_count": 76,
   "metadata": {},
   "outputs": [
    {
     "data": {
      "image/png": "[encoded data removed]",
      "text/plain": [
       "<Figure size 432x288 with 1 Axes>"
      ]
     },
     "metadata": {
      "needs_background": "light"
     },
     "output_type": "display_data"
    }
   ],
   "source": [
    "plt.plot(history.history['loss'], label='Training Loss')\n",
    "plt.plot(history.history['val_loss'], label='Validation Loss')\n",
    "plt.legend()\n",
    "plt.xlabel('Epochs')\n",
    "plt.ylabel('Mean Squared Error')\n",
    "plt.savefig('model_training_history')\n",
    "plt.show()"
   ]
  },
  {
   "cell_type": "code",
   "execution_count": 77,
   "metadata": {},
   "outputs": [
    {
     "data": {
      "image/png": "[encoded data removed]",
      "text/plain": [
       "<Figure size 432x288 with 1 Axes>"
      ]
     },
     "metadata": {
      "needs_background": "light"
     },
     "output_type": "display_data"
    }
   ],
   "source": [
    "plt.plot(history.history['accuracy'], label='Training accuracy')\n",
    "plt.plot(history.history['val_accuracy'], label='Validation accuracy')\n",
    "plt.legend()\n",
    "plt.xlabel('Epochs')\n",
    "plt.ylabel('Accuracy ')\n",
    "plt.savefig('model_training_history_accuracy')\n",
    "plt.show()"
   ]
  },
  {
   "cell_type": "markdown",
   "metadata": {},
   "source": [
    "# Make Predictions"
   ]
  },
  {
   "cell_type": "code",
   "execution_count": 78,
   "metadata": {},
   "outputs": [
    {
     "name": "stdout",
     "output_type": "stream",
     "text": [
      "1/1 [==============================] - 1s 545ms/step\n"
     ]
    }
   ],
   "source": [
    "res = model.predict(X_test)"
   ]
  },
  {
   "cell_type": "code",
   "execution_count": 79,
   "metadata": {},
   "outputs": [
    {
     "data": {
      "text/plain": [
       "'tolong'"
      ]
     },
     "execution_count": 79,
     "metadata": {},
     "output_type": "execute_result"
    }
   ],
   "source": [
    "actions[np.argmax(res[1])]"
   ]
  },
  {
   "cell_type": "code",
   "execution_count": 80,
   "metadata": {},
   "outputs": [
    {
     "data": {
      "text/plain": [
       "'tolong'"
      ]
     },
     "execution_count": 80,
     "metadata": {},
     "output_type": "execute_result"
    }
   ],
   "source": [
    "actions[np.argmax(y_test[1])]"
   ]
  },
  {
   "cell_type": "markdown",
   "metadata": {},
   "source": [
    "# Save Weights"
   ]
  },
  {
   "cell_type": "code",
   "execution_count": null,
   "metadata": {},
   "outputs": [],
   "source": [
    "model.save('signLWithoutFace.h5')"
   ]
  },
  {
   "cell_type": "code",
   "execution_count": null,
   "metadata": {},
   "outputs": [],
   "source": [
    "model.load_weights('signLWithoutFace.h5')"
   ]
  },
  {
   "cell_type": "markdown",
   "metadata": {},
   "source": [
    "# Evaluation using Confusion Matrix and Accuracy"
   ]
  },
  {
   "cell_type": "code",
   "execution_count": 81,
   "metadata": {},
   "outputs": [],
   "source": [
    "from sklearn.metrics import multilabel_confusion_matrix, accuracy_score"
   ]
  },
  {
   "cell_type": "code",
   "execution_count": 82,
   "metadata": {},
   "outputs": [
    {
     "name": "stdout",
     "output_type": "stream",
     "text": [
      "1/1 [==============================] - 0s 29ms/step\n"
     ]
    }
   ],
   "source": [
    "yhat = model.predict(X_test)"
   ]
  },
  {
   "cell_type": "code",
   "execution_count": 83,
   "metadata": {},
   "outputs": [],
   "source": [
    "ytrue = np.argmax(y_test, axis=1).tolist()\n",
    "yhat = np.argmax(yhat, axis=1).tolist()"
   ]
  },
  {
   "cell_type": "code",
   "execution_count": 84,
   "metadata": {},
   "outputs": [
    {
     "data": {
      "text/plain": [
       "array([[[ 9,  3],\n",
       "        [ 0,  6]],\n",
       "\n",
       "       [[14,  0],\n",
       "        [ 0,  4]],\n",
       "\n",
       "       [[10,  0],\n",
       "        [ 3,  5]]], dtype=int64)"
      ]
     },
     "execution_count": 84,
     "metadata": {},
     "output_type": "execute_result"
    }
   ],
   "source": [
    "multilabel_confusion_matrix(ytrue, yhat)"
   ]
  },
  {
   "cell_type": "code",
   "execution_count": 85,
   "metadata": {},
   "outputs": [
    {
     "data": {
      "text/plain": [
       "0.8333333333333334"
      ]
     },
     "execution_count": 85,
     "metadata": {},
     "output_type": "execute_result"
    }
   ],
   "source": [
    "accuracy_score(ytrue, yhat)"
   ]
  },
  {
   "cell_type": "markdown",
   "metadata": {},
   "source": [
    "# Test in Real Time"
   ]
  },
  {
   "cell_type": "code",
   "execution_count": 86,
   "metadata": {},
   "outputs": [],
   "source": [
    "colors = [(245,117,16), (117,245,16), (16,117,245)]\n",
    "def prob_viz(res, actions, input_frame, colors):\n",
    "    output_frame = input_frame.copy()\n",
    "    for num, prob in enumerate(res):\n",
    "        cv2.rectangle(output_frame, (0,60+num*40), (int(prob*100), 90+num*40), colors[num], -1)\n",
    "        cv2.putText(output_frame, actions[num], (0, 85+num*40), cv2.FONT_HERSHEY_SIMPLEX, 1, (255,255,255), 2, cv2.LINE_AA)\n",
    "        \n",
    "    return output_frame"
   ]
  },
  {
   "cell_type": "code",
   "execution_count": 89,
   "metadata": {},
   "outputs": [
    {
     "name": "stdout",
     "output_type": "stream",
     "text": [
      "<class 'mediapipe.python.solution_base.SolutionOutputs'>\n",
      "<class 'mediapipe.python.solution_base.SolutionOutputs'>\n",
      "<class 'mediapipe.python.solution_base.SolutionOutputs'>\n",
      "<class 'mediapipe.python.solution_base.SolutionOutputs'>\n",
      "<class 'mediapipe.python.solution_base.SolutionOutputs'>\n",
      "<class 'mediapipe.python.solution_base.SolutionOutputs'>\n",
      "<class 'mediapipe.python.solution_base.SolutionOutputs'>\n",
      "<class 'mediapipe.python.solution_base.SolutionOutputs'>\n",
      "<class 'mediapipe.python.solution_base.SolutionOutputs'>\n",
      "<class 'mediapipe.python.solution_base.SolutionOutputs'>\n",
      "<class 'mediapipe.python.solution_base.SolutionOutputs'>\n",
      "<class 'mediapipe.python.solution_base.SolutionOutputs'>\n",
      "<class 'mediapipe.python.solution_base.SolutionOutputs'>\n",
      "<class 'mediapipe.python.solution_base.SolutionOutputs'>\n",
      "<class 'mediapipe.python.solution_base.SolutionOutputs'>\n",
      "<class 'mediapipe.python.solution_base.SolutionOutputs'>\n",
      "<class 'mediapipe.python.solution_base.SolutionOutputs'>\n",
      "<class 'mediapipe.python.solution_base.SolutionOutputs'>\n",
      "<class 'mediapipe.python.solution_base.SolutionOutputs'>\n",
      "<class 'mediapipe.python.solution_base.SolutionOutputs'>\n",
      "<class 'mediapipe.python.solution_base.SolutionOutputs'>\n",
      "<class 'mediapipe.python.solution_base.SolutionOutputs'>\n",
      "<class 'mediapipe.python.solution_base.SolutionOutputs'>\n",
      "<class 'mediapipe.python.solution_base.SolutionOutputs'>\n",
      "<class 'mediapipe.python.solution_base.SolutionOutputs'>\n",
      "<class 'mediapipe.python.solution_base.SolutionOutputs'>\n",
      "<class 'mediapipe.python.solution_base.SolutionOutputs'>\n",
      "<class 'mediapipe.python.solution_base.SolutionOutputs'>\n",
      "<class 'mediapipe.python.solution_base.SolutionOutputs'>\n",
      "<class 'mediapipe.python.solution_base.SolutionOutputs'>\n",
      "1/1 [==============================] - 0s 28ms/step\n",
      "maaf\n",
      "<class 'mediapipe.python.solution_base.SolutionOutputs'>\n",
      "1/1 [==============================] - 0s 23ms/step\n",
      "maaf\n",
      "<class 'mediapipe.python.solution_base.SolutionOutputs'>\n",
      "1/1 [==============================] - 0s 23ms/step\n",
      "maaf\n",
      "<class 'mediapipe.python.solution_base.SolutionOutputs'>\n",
      "1/1 [==============================] - 0s 23ms/step\n",
      "maaf\n",
      "<class 'mediapipe.python.solution_base.SolutionOutputs'>\n",
      "1/1 [==============================] - 0s 24ms/step\n",
      "maaf\n",
      "<class 'mediapipe.python.solution_base.SolutionOutputs'>\n",
      "1/1 [==============================] - 0s 28ms/step\n",
      "maaf\n",
      "<class 'mediapipe.python.solution_base.SolutionOutputs'>\n",
      "1/1 [==============================] - 0s 27ms/step\n",
      "maaf\n",
      "<class 'mediapipe.python.solution_base.SolutionOutputs'>\n",
      "1/1 [==============================] - 0s 25ms/step\n",
      "maaf\n",
      "<class 'mediapipe.python.solution_base.SolutionOutputs'>\n",
      "1/1 [==============================] - 0s 28ms/step\n",
      "maaf\n",
      "<class 'mediapipe.python.solution_base.SolutionOutputs'>\n",
      "1/1 [==============================] - 0s 26ms/step\n",
      "maaf\n",
      "<class 'mediapipe.python.solution_base.SolutionOutputs'>\n",
      "1/1 [==============================] - 0s 29ms/step\n",
      "maaf\n",
      "<class 'mediapipe.python.solution_base.SolutionOutputs'>\n",
      "1/1 [==============================] - 0s 23ms/step\n",
      "maaf\n",
      "<class 'mediapipe.python.solution_base.SolutionOutputs'>\n",
      "1/1 [==============================] - 0s 24ms/step\n",
      "maaf\n",
      "<class 'mediapipe.python.solution_base.SolutionOutputs'>\n",
      "1/1 [==============================] - 0s 23ms/step\n",
      "maaf\n",
      "<class 'mediapipe.python.solution_base.SolutionOutputs'>\n",
      "1/1 [==============================] - 0s 23ms/step\n",
      "maaf\n",
      "<class 'mediapipe.python.solution_base.SolutionOutputs'>\n",
      "1/1 [==============================] - 0s 21ms/step\n",
      "maaf\n",
      "<class 'mediapipe.python.solution_base.SolutionOutputs'>\n",
      "1/1 [==============================] - 0s 31ms/step\n",
      "maaf\n",
      "<class 'mediapipe.python.solution_base.SolutionOutputs'>\n",
      "1/1 [==============================] - 0s 22ms/step\n",
      "maaf\n",
      "<class 'mediapipe.python.solution_base.SolutionOutputs'>\n",
      "1/1 [==============================] - 0s 26ms/step\n",
      "maaf\n",
      "<class 'mediapipe.python.solution_base.SolutionOutputs'>\n",
      "1/1 [==============================] - 0s 23ms/step\n",
      "maaf\n",
      "<class 'mediapipe.python.solution_base.SolutionOutputs'>\n",
      "1/1 [==============================] - 0s 22ms/step\n",
      "maaf\n",
      "<class 'mediapipe.python.solution_base.SolutionOutputs'>\n",
      "1/1 [==============================] - 0s 29ms/step\n",
      "maaf\n",
      "<class 'mediapipe.python.solution_base.SolutionOutputs'>\n",
      "1/1 [==============================] - 0s 22ms/step\n",
      "maaf\n",
      "<class 'mediapipe.python.solution_base.SolutionOutputs'>\n",
      "1/1 [==============================] - 0s 26ms/step\n",
      "maaf\n",
      "<class 'mediapipe.python.solution_base.SolutionOutputs'>\n",
      "1/1 [==============================] - 0s 24ms/step\n",
      "maaf\n",
      "<class 'mediapipe.python.solution_base.SolutionOutputs'>\n",
      "1/1 [==============================] - 0s 21ms/step\n",
      "maaf\n",
      "<class 'mediapipe.python.solution_base.SolutionOutputs'>\n",
      "1/1 [==============================] - 0s 25ms/step\n",
      "maaf\n",
      "<class 'mediapipe.python.solution_base.SolutionOutputs'>\n",
      "1/1 [==============================] - 0s 20ms/step\n",
      "maaf\n",
      "<class 'mediapipe.python.solution_base.SolutionOutputs'>\n",
      "1/1 [==============================] - 0s 19ms/step\n",
      "maaf\n",
      "<class 'mediapipe.python.solution_base.SolutionOutputs'>\n",
      "1/1 [==============================] - 0s 22ms/step\n",
      "maaf\n",
      "<class 'mediapipe.python.solution_base.SolutionOutputs'>\n",
      "1/1 [==============================] - 0s 30ms/step\n",
      "maaf\n",
      "<class 'mediapipe.python.solution_base.SolutionOutputs'>\n",
      "1/1 [==============================] - 0s 24ms/step\n",
      "maaf\n",
      "<class 'mediapipe.python.solution_base.SolutionOutputs'>\n",
      "1/1 [==============================] - 0s 27ms/step\n",
      "maaf\n",
      "<class 'mediapipe.python.solution_base.SolutionOutputs'>\n",
      "1/1 [==============================] - 0s 28ms/step\n",
      "maaf\n",
      "<class 'mediapipe.python.solution_base.SolutionOutputs'>\n",
      "1/1 [==============================] - 0s 27ms/step\n",
      "maaf\n",
      "<class 'mediapipe.python.solution_base.SolutionOutputs'>\n",
      "1/1 [==============================] - 0s 22ms/step\n",
      "maaf\n",
      "<class 'mediapipe.python.solution_base.SolutionOutputs'>\n",
      "1/1 [==============================] - 0s 21ms/step\n",
      "maaf\n",
      "<class 'mediapipe.python.solution_base.SolutionOutputs'>\n",
      "1/1 [==============================] - 0s 21ms/step\n",
      "maaf\n",
      "<class 'mediapipe.python.solution_base.SolutionOutputs'>\n",
      "1/1 [==============================] - 0s 22ms/step\n",
      "maaf\n",
      "<class 'mediapipe.python.solution_base.SolutionOutputs'>\n",
      "1/1 [==============================] - 0s 19ms/step\n",
      "maaf\n",
      "<class 'mediapipe.python.solution_base.SolutionOutputs'>\n",
      "1/1 [==============================] - 0s 22ms/step\n",
      "maaf\n",
      "<class 'mediapipe.python.solution_base.SolutionOutputs'>\n",
      "1/1 [==============================] - 0s 27ms/step\n",
      "terimakasih\n",
      "<class 'mediapipe.python.solution_base.SolutionOutputs'>\n",
      "1/1 [==============================] - 0s 20ms/step\n",
      "maaf\n",
      "<class 'mediapipe.python.solution_base.SolutionOutputs'>\n",
      "1/1 [==============================] - 0s 23ms/step\n",
      "maaf\n",
      "<class 'mediapipe.python.solution_base.SolutionOutputs'>\n",
      "1/1 [==============================] - 0s 24ms/step\n",
      "maaf\n",
      "<class 'mediapipe.python.solution_base.SolutionOutputs'>\n",
      "1/1 [==============================] - 0s 20ms/step\n",
      "maaf\n",
      "<class 'mediapipe.python.solution_base.SolutionOutputs'>\n",
      "1/1 [==============================] - 0s 30ms/step\n",
      "maaf\n",
      "<class 'mediapipe.python.solution_base.SolutionOutputs'>\n",
      "1/1 [==============================] - 0s 24ms/step\n",
      "maaf\n",
      "<class 'mediapipe.python.solution_base.SolutionOutputs'>\n",
      "1/1 [==============================] - 0s 20ms/step\n",
      "maaf\n",
      "<class 'mediapipe.python.solution_base.SolutionOutputs'>\n",
      "1/1 [==============================] - 0s 22ms/step\n",
      "terimakasih\n",
      "<class 'mediapipe.python.solution_base.SolutionOutputs'>\n",
      "1/1 [==============================] - 0s 21ms/step\n",
      "maaf\n",
      "<class 'mediapipe.python.solution_base.SolutionOutputs'>\n",
      "1/1 [==============================] - 0s 22ms/step\n",
      "maaf\n",
      "<class 'mediapipe.python.solution_base.SolutionOutputs'>\n",
      "1/1 [==============================] - 0s 23ms/step\n",
      "terimakasih\n",
      "<class 'mediapipe.python.solution_base.SolutionOutputs'>\n",
      "1/1 [==============================] - 0s 26ms/step\n",
      "maaf\n",
      "<class 'mediapipe.python.solution_base.SolutionOutputs'>\n",
      "1/1 [==============================] - 0s 25ms/step\n",
      "maaf\n",
      "<class 'mediapipe.python.solution_base.SolutionOutputs'>\n",
      "1/1 [==============================] - 0s 26ms/step\n",
      "maaf\n",
      "<class 'mediapipe.python.solution_base.SolutionOutputs'>\n",
      "1/1 [==============================] - 0s 24ms/step\n",
      "maaf\n",
      "<class 'mediapipe.python.solution_base.SolutionOutputs'>\n"
     ]
    },
    {
     "name": "stdout",
     "output_type": "stream",
     "text": [
      "1/1 [==============================] - 0s 24ms/step\n",
      "maaf\n",
      "<class 'mediapipe.python.solution_base.SolutionOutputs'>\n",
      "1/1 [==============================] - 0s 23ms/step\n",
      "maaf\n",
      "<class 'mediapipe.python.solution_base.SolutionOutputs'>\n",
      "1/1 [==============================] - 0s 24ms/step\n",
      "maaf\n",
      "<class 'mediapipe.python.solution_base.SolutionOutputs'>\n",
      "1/1 [==============================] - 0s 20ms/step\n",
      "maaf\n",
      "<class 'mediapipe.python.solution_base.SolutionOutputs'>\n",
      "1/1 [==============================] - 0s 22ms/step\n",
      "maaf\n",
      "<class 'mediapipe.python.solution_base.SolutionOutputs'>\n",
      "1/1 [==============================] - 0s 21ms/step\n",
      "maaf\n",
      "<class 'mediapipe.python.solution_base.SolutionOutputs'>\n",
      "1/1 [==============================] - 0s 22ms/step\n",
      "maaf\n",
      "<class 'mediapipe.python.solution_base.SolutionOutputs'>\n",
      "1/1 [==============================] - 0s 26ms/step\n",
      "maaf\n",
      "<class 'mediapipe.python.solution_base.SolutionOutputs'>\n",
      "1/1 [==============================] - 0s 24ms/step\n",
      "maaf\n",
      "<class 'mediapipe.python.solution_base.SolutionOutputs'>\n",
      "1/1 [==============================] - 0s 27ms/step\n",
      "maaf\n",
      "<class 'mediapipe.python.solution_base.SolutionOutputs'>\n",
      "1/1 [==============================] - 0s 21ms/step\n",
      "maaf\n",
      "<class 'mediapipe.python.solution_base.SolutionOutputs'>\n",
      "1/1 [==============================] - 0s 22ms/step\n",
      "maaf\n",
      "<class 'mediapipe.python.solution_base.SolutionOutputs'>\n",
      "1/1 [==============================] - 0s 29ms/step\n",
      "maaf\n",
      "<class 'mediapipe.python.solution_base.SolutionOutputs'>\n",
      "1/1 [==============================] - 0s 21ms/step\n",
      "maaf\n",
      "<class 'mediapipe.python.solution_base.SolutionOutputs'>\n",
      "1/1 [==============================] - 0s 23ms/step\n",
      "maaf\n",
      "<class 'mediapipe.python.solution_base.SolutionOutputs'>\n",
      "1/1 [==============================] - 0s 23ms/step\n",
      "maaf\n",
      "<class 'mediapipe.python.solution_base.SolutionOutputs'>\n",
      "1/1 [==============================] - 0s 21ms/step\n",
      "maaf\n",
      "<class 'mediapipe.python.solution_base.SolutionOutputs'>\n",
      "1/1 [==============================] - 0s 22ms/step\n",
      "maaf\n",
      "<class 'mediapipe.python.solution_base.SolutionOutputs'>\n",
      "1/1 [==============================] - 0s 20ms/step\n",
      "maaf\n",
      "<class 'mediapipe.python.solution_base.SolutionOutputs'>\n",
      "1/1 [==============================] - 0s 21ms/step\n",
      "maaf\n",
      "<class 'mediapipe.python.solution_base.SolutionOutputs'>\n",
      "1/1 [==============================] - 0s 23ms/step\n",
      "maaf\n",
      "<class 'mediapipe.python.solution_base.SolutionOutputs'>\n",
      "1/1 [==============================] - 0s 24ms/step\n",
      "maaf\n",
      "<class 'mediapipe.python.solution_base.SolutionOutputs'>\n",
      "1/1 [==============================] - 0s 21ms/step\n",
      "maaf\n",
      "<class 'mediapipe.python.solution_base.SolutionOutputs'>\n",
      "1/1 [==============================] - 0s 46ms/step\n",
      "maaf\n",
      "<class 'mediapipe.python.solution_base.SolutionOutputs'>\n",
      "1/1 [==============================] - 0s 21ms/step\n",
      "terimakasih\n",
      "<class 'mediapipe.python.solution_base.SolutionOutputs'>\n",
      "1/1 [==============================] - 0s 22ms/step\n",
      "terimakasih\n",
      "<class 'mediapipe.python.solution_base.SolutionOutputs'>\n",
      "1/1 [==============================] - 0s 26ms/step\n",
      "terimakasih\n",
      "<class 'mediapipe.python.solution_base.SolutionOutputs'>\n",
      "1/1 [==============================] - 0s 21ms/step\n",
      "maaf\n",
      "<class 'mediapipe.python.solution_base.SolutionOutputs'>\n",
      "1/1 [==============================] - 0s 22ms/step\n",
      "maaf\n",
      "<class 'mediapipe.python.solution_base.SolutionOutputs'>\n",
      "1/1 [==============================] - 0s 23ms/step\n",
      "maaf\n",
      "<class 'mediapipe.python.solution_base.SolutionOutputs'>\n",
      "1/1 [==============================] - 0s 20ms/step\n",
      "maaf\n",
      "<class 'mediapipe.python.solution_base.SolutionOutputs'>\n",
      "1/1 [==============================] - 0s 20ms/step\n",
      "maaf\n",
      "<class 'mediapipe.python.solution_base.SolutionOutputs'>\n",
      "1/1 [==============================] - 0s 25ms/step\n",
      "maaf\n",
      "<class 'mediapipe.python.solution_base.SolutionOutputs'>\n",
      "1/1 [==============================] - 0s 20ms/step\n",
      "maaf\n",
      "<class 'mediapipe.python.solution_base.SolutionOutputs'>\n",
      "1/1 [==============================] - 0s 21ms/step\n",
      "maaf\n",
      "<class 'mediapipe.python.solution_base.SolutionOutputs'>\n",
      "1/1 [==============================] - 0s 24ms/step\n",
      "maaf\n",
      "<class 'mediapipe.python.solution_base.SolutionOutputs'>\n",
      "1/1 [==============================] - 0s 24ms/step\n",
      "maaf\n",
      "<class 'mediapipe.python.solution_base.SolutionOutputs'>\n",
      "1/1 [==============================] - 0s 20ms/step\n",
      "maaf\n",
      "<class 'mediapipe.python.solution_base.SolutionOutputs'>\n",
      "1/1 [==============================] - 0s 24ms/step\n",
      "maaf\n",
      "<class 'mediapipe.python.solution_base.SolutionOutputs'>\n",
      "1/1 [==============================] - 0s 23ms/step\n",
      "maaf\n",
      "<class 'mediapipe.python.solution_base.SolutionOutputs'>\n",
      "1/1 [==============================] - 0s 33ms/step\n",
      "maaf\n",
      "<class 'mediapipe.python.solution_base.SolutionOutputs'>\n",
      "1/1 [==============================] - 0s 26ms/step\n",
      "maaf\n",
      "<class 'mediapipe.python.solution_base.SolutionOutputs'>\n",
      "1/1 [==============================] - 0s 23ms/step\n",
      "maaf\n",
      "<class 'mediapipe.python.solution_base.SolutionOutputs'>\n",
      "1/1 [==============================] - 0s 22ms/step\n",
      "maaf\n",
      "<class 'mediapipe.python.solution_base.SolutionOutputs'>\n",
      "1/1 [==============================] - 0s 23ms/step\n",
      "maaf\n",
      "<class 'mediapipe.python.solution_base.SolutionOutputs'>\n",
      "1/1 [==============================] - 0s 25ms/step\n",
      "maaf\n",
      "<class 'mediapipe.python.solution_base.SolutionOutputs'>\n",
      "1/1 [==============================] - 0s 25ms/step\n",
      "maaf\n",
      "<class 'mediapipe.python.solution_base.SolutionOutputs'>\n",
      "1/1 [==============================] - 0s 25ms/step\n",
      "maaf\n",
      "<class 'mediapipe.python.solution_base.SolutionOutputs'>\n",
      "1/1 [==============================] - 0s 29ms/step\n",
      "maaf\n",
      "<class 'mediapipe.python.solution_base.SolutionOutputs'>\n",
      "1/1 [==============================] - 0s 26ms/step\n",
      "maaf\n",
      "<class 'mediapipe.python.solution_base.SolutionOutputs'>\n",
      "1/1 [==============================] - 0s 35ms/step\n",
      "maaf\n",
      "<class 'mediapipe.python.solution_base.SolutionOutputs'>\n",
      "1/1 [==============================] - 0s 26ms/step\n",
      "maaf\n",
      "<class 'mediapipe.python.solution_base.SolutionOutputs'>\n",
      "1/1 [==============================] - 0s 22ms/step\n",
      "maaf\n",
      "<class 'mediapipe.python.solution_base.SolutionOutputs'>\n",
      "1/1 [==============================] - 0s 22ms/step\n",
      "maaf\n",
      "<class 'mediapipe.python.solution_base.SolutionOutputs'>\n",
      "1/1 [==============================] - 0s 28ms/step\n",
      "maaf\n",
      "<class 'mediapipe.python.solution_base.SolutionOutputs'>\n",
      "1/1 [==============================] - 0s 24ms/step\n",
      "maaf\n",
      "<class 'mediapipe.python.solution_base.SolutionOutputs'>\n",
      "1/1 [==============================] - 0s 23ms/step\n",
      "maaf\n",
      "<class 'mediapipe.python.solution_base.SolutionOutputs'>\n",
      "1/1 [==============================] - 0s 23ms/step\n",
      "maaf\n",
      "<class 'mediapipe.python.solution_base.SolutionOutputs'>\n",
      "1/1 [==============================] - 0s 29ms/step\n",
      "maaf\n",
      "<class 'mediapipe.python.solution_base.SolutionOutputs'>\n",
      "1/1 [==============================] - 0s 23ms/step\n",
      "maaf\n",
      "<class 'mediapipe.python.solution_base.SolutionOutputs'>\n",
      "1/1 [==============================] - 0s 23ms/step\n",
      "maaf\n"
     ]
    }
   ],
   "source": [
    "# 1. New detection variables\n",
    "sequence = []\n",
    "sentence = []\n",
    "threshold = 0.87\n",
    "\n",
    "cap = cv2.VideoCapture(0)\n",
    "# Set mediapipe model \n",
    "with mp_holistic.Holistic(min_detection_confidence=0.5, min_tracking_confidence=0.5) as holistic:\n",
    "    while cap.isOpened():\n",
    "\n",
    "        # Read feed\n",
    "        ret, frame = cap.read()\n",
    "\n",
    "        # Make detections\n",
    "        image, results = mediapipe_detection(frame, holistic)\n",
    "        print(results)\n",
    "        \n",
    "        # Draw landmarks\n",
    "        draw_styled_landmarks(image, results)\n",
    "        \n",
    "        # 2. Prediction logic\n",
    "        keypoints = extract_keypoints(results)\n",
    "#         sequence.insert(0,keypoints)\n",
    "#         sequence = sequence[:30]\n",
    "        sequence.append(keypoints)\n",
    "        sequence = sequence[-30:]\n",
    "        \n",
    "        if len(sequence) == 30:\n",
    "            res = model.predict(np.expand_dims(sequence, axis=0))[0]\n",
    "            print(actions[np.argmax(res)])\n",
    "            \n",
    "            \n",
    "        #3. Viz logic\n",
    "            if res[np.argmax(res)] > threshold: \n",
    "                if len(sentence) > 0: \n",
    "                    if actions[np.argmax(res)] != sentence[-1]:\n",
    "                        sentence.append(actions[np.argmax(res)])\n",
    "                else:\n",
    "                    sentence.append(actions[np.argmax(res)])\n",
    "\n",
    "            if len(sentence) > 3: \n",
    "                sentence = sentence[-3:]\n",
    "\n",
    "            # Viz probabilities\n",
    "            image = prob_viz(res, actions, image, colors)\n",
    "            \n",
    "        cv2.rectangle(image, (0,0), (640, 40), (245, 117, 16), -1)\n",
    "        cv2.putText(image, ' '.join(sentence), (3,30), \n",
    "                       cv2.FONT_HERSHEY_SIMPLEX, 1, (255, 255, 255), 2, cv2.LINE_AA)\n",
    "        \n",
    "        # Show to screen\n",
    "        cv2.imshow('OpenCV Feed', image)\n",
    "\n",
    "        # Break gracefully\n",
    "        if cv2.waitKey(10) & 0xFF == ord('q'):\n",
    "            break\n",
    "    cap.release()\n",
    "    cv2.destroyAllWindows()"
   ]
  },
  {
   "cell_type": "code",
   "execution_count": null,
   "metadata": {},
   "outputs": [],
   "source": [
    "cap.release()\n",
    "cv2.destroyAllWindows()"
   ]
  },
  {
   "cell_type": "code",
   "execution_count": null,
   "metadata": {},
   "outputs": [],
   "source": []
  }
 ],
 "metadata": {
  "colab": {
   "provenance": []
  },
  "kernelspec": {
   "display_name": "Python 3 (ipykernel)",
   "language": "python",
   "name": "python3"
  },
  "language_info": {
   "codemirror_mode": {
    "name": "ipython",
    "version": 3
   },
   "file_extension": ".py",
   "mimetype": "text/x-python",
   "name": "python",
   "nbconvert_exporter": "python",
   "pygments_lexer": "ipython3",
   "version": "3.9.12"
  }
 },
 "nbformat": 4,
 "nbformat_minor": 1
}
