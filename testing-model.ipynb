{
 "cells": [
  {
   "cell_type": "markdown",
   "metadata": {
    "id": "6trd5WRsSAwN"
   },
   "source": [
    "# Install and Import property"
   ]
  },
  {
   "cell_type": "code",
   "execution_count": 1,
   "metadata": {
    "colab": {
     "base_uri": "https://localhost:8080/"
    },
    "id": "F28o2iV6PzcT",
    "outputId": "6de42c22-f9e8-4917-9f8a-12ff4fda9d07"
   },
   "outputs": [
    {
     "name": "stdout",
     "output_type": "stream",
     "text": [
      "Requirement already satisfied: tensorflow in c:\\users\\alpian\\anaconda3\\lib\\site-packages (2.9.1)\n",
      "Requirement already satisfied: opencv-python in c:\\users\\alpian\\anaconda3\\lib\\site-packages (4.6.0.66)\n",
      "Requirement already satisfied: mediapipe in c:\\users\\alpian\\anaconda3\\lib\\site-packages (0.8.11)\n",
      "Requirement already satisfied: sklearn in c:\\users\\alpian\\anaconda3\\lib\\site-packages (0.0)\n",
      "Requirement already satisfied: matplotlib in c:\\users\\alpian\\anaconda3\\lib\\site-packages (3.5.1)\n",
      "Requirement already satisfied: typing-extensions>=3.6.6 in c:\\users\\alpian\\anaconda3\\lib\\site-packages (from tensorflow) (4.1.1)\n",
      "Requirement already satisfied: libclang>=13.0.0 in c:\\users\\alpian\\anaconda3\\lib\\site-packages (from tensorflow) (14.0.1)\n",
      "Requirement already satisfied: gast<=0.4.0,>=0.2.1 in c:\\users\\alpian\\anaconda3\\lib\\site-packages (from tensorflow) (0.4.0)\n",
      "Requirement already satisfied: termcolor>=1.1.0 in c:\\users\\alpian\\anaconda3\\lib\\site-packages (from tensorflow) (1.1.0)\n",
      "Requirement already satisfied: tensorboard<2.10,>=2.9 in c:\\users\\alpian\\anaconda3\\lib\\site-packages (from tensorflow) (2.9.0)\n",
      "Requirement already satisfied: packaging in c:\\users\\alpian\\anaconda3\\lib\\site-packages (from tensorflow) (21.3)\n",
      "Requirement already satisfied: astunparse>=1.6.0 in c:\\users\\alpian\\anaconda3\\lib\\site-packages (from tensorflow) (1.6.3)\n",
      "Requirement already satisfied: setuptools in c:\\users\\alpian\\anaconda3\\lib\\site-packages (from tensorflow) (61.2.0)\n",
      "Requirement already satisfied: opt-einsum>=2.3.2 in c:\\users\\alpian\\anaconda3\\lib\\site-packages (from tensorflow) (3.3.0)\n",
      "Requirement already satisfied: six>=1.12.0 in c:\\users\\alpian\\anaconda3\\lib\\site-packages (from tensorflow) (1.16.0)\n",
      "Requirement already satisfied: tensorflow-estimator<2.10.0,>=2.9.0rc0 in c:\\users\\alpian\\anaconda3\\lib\\site-packages (from tensorflow) (2.9.0)\n",
      "Requirement already satisfied: h5py>=2.9.0 in c:\\users\\alpian\\anaconda3\\lib\\site-packages (from tensorflow) (3.6.0)\n",
      "Requirement already satisfied: numpy>=1.20 in c:\\users\\alpian\\anaconda3\\lib\\site-packages (from tensorflow) (1.21.5)\n",
      "Requirement already satisfied: absl-py>=1.0.0 in c:\\users\\alpian\\anaconda3\\lib\\site-packages (from tensorflow) (1.0.0)\n",
      "Requirement already satisfied: grpcio<2.0,>=1.24.3 in c:\\users\\alpian\\anaconda3\\lib\\site-packages (from tensorflow) (1.42.0)\n",
      "Requirement already satisfied: wrapt>=1.11.0 in c:\\users\\alpian\\anaconda3\\lib\\site-packages (from tensorflow) (1.12.1)\n",
      "Requirement already satisfied: keras-preprocessing>=1.1.1 in c:\\users\\alpian\\anaconda3\\lib\\site-packages (from tensorflow) (1.1.2)\n",
      "Requirement already satisfied: protobuf<3.20,>=3.9.2 in c:\\users\\alpian\\anaconda3\\lib\\site-packages (from tensorflow) (3.19.1)\n",
      "Requirement already satisfied: google-pasta>=0.1.1 in c:\\users\\alpian\\anaconda3\\lib\\site-packages (from tensorflow) (0.2.0)\n",
      "Requirement already satisfied: tensorflow-io-gcs-filesystem>=0.23.1 in c:\\users\\alpian\\anaconda3\\lib\\site-packages (from tensorflow) (0.26.0)\n",
      "Requirement already satisfied: flatbuffers<2,>=1.12 in c:\\users\\alpian\\anaconda3\\lib\\site-packages (from tensorflow) (1.12)\n",
      "Requirement already satisfied: keras<2.10.0,>=2.9.0rc0 in c:\\users\\alpian\\anaconda3\\lib\\site-packages (from tensorflow) (2.9.0)\n",
      "Requirement already satisfied: opencv-contrib-python in c:\\users\\alpian\\anaconda3\\lib\\site-packages (from mediapipe) (4.6.0.66)\n",
      "Requirement already satisfied: attrs>=19.1.0 in c:\\users\\alpian\\anaconda3\\lib\\site-packages (from mediapipe) (21.4.0)\n",
      "Requirement already satisfied: scikit-learn in c:\\users\\alpian\\anaconda3\\lib\\site-packages (from sklearn) (1.0.2)\n",
      "Requirement already satisfied: fonttools>=4.22.0 in c:\\users\\alpian\\anaconda3\\lib\\site-packages (from matplotlib) (4.25.0)\n",
      "Requirement already satisfied: kiwisolver>=1.0.1 in c:\\users\\alpian\\anaconda3\\lib\\site-packages (from matplotlib) (1.3.2)\n",
      "Requirement already satisfied: pyparsing>=2.2.1 in c:\\users\\alpian\\anaconda3\\lib\\site-packages (from matplotlib) (3.0.4)\n",
      "Requirement already satisfied: pillow>=6.2.0 in c:\\users\\alpian\\anaconda3\\lib\\site-packages (from matplotlib) (9.0.1)\n",
      "Requirement already satisfied: python-dateutil>=2.7 in c:\\users\\alpian\\anaconda3\\lib\\site-packages (from matplotlib) (2.8.2)\n",
      "Requirement already satisfied: cycler>=0.10 in c:\\users\\alpian\\anaconda3\\lib\\site-packages (from matplotlib) (0.11.0)\n",
      "Requirement already satisfied: wheel<1.0,>=0.23.0 in c:\\users\\alpian\\anaconda3\\lib\\site-packages (from astunparse>=1.6.0->tensorflow) (0.37.1)\n",
      "Requirement already satisfied: requests<3,>=2.21.0 in c:\\users\\alpian\\anaconda3\\lib\\site-packages (from tensorboard<2.10,>=2.9->tensorflow) (2.27.1)\n",
      "Requirement already satisfied: werkzeug>=1.0.1 in c:\\users\\alpian\\anaconda3\\lib\\site-packages (from tensorboard<2.10,>=2.9->tensorflow) (2.0.3)\n",
      "Requirement already satisfied: tensorboard-data-server<0.7.0,>=0.6.0 in c:\\users\\alpian\\anaconda3\\lib\\site-packages (from tensorboard<2.10,>=2.9->tensorflow) (0.6.1)\n",
      "Requirement already satisfied: google-auth-oauthlib<0.5,>=0.4.1 in c:\\users\\alpian\\anaconda3\\lib\\site-packages (from tensorboard<2.10,>=2.9->tensorflow) (0.4.6)\n",
      "Requirement already satisfied: markdown>=2.6.8 in c:\\users\\alpian\\anaconda3\\lib\\site-packages (from tensorboard<2.10,>=2.9->tensorflow) (3.3.4)\n",
      "Requirement already satisfied: tensorboard-plugin-wit>=1.6.0 in c:\\users\\alpian\\anaconda3\\lib\\site-packages (from tensorboard<2.10,>=2.9->tensorflow) (1.8.1)\n",
      "Requirement already satisfied: google-auth<3,>=1.6.3 in c:\\users\\alpian\\anaconda3\\lib\\site-packages (from tensorboard<2.10,>=2.9->tensorflow) (1.33.0)\n",
      "Requirement already satisfied: pyasn1-modules>=0.2.1 in c:\\users\\alpian\\anaconda3\\lib\\site-packages (from google-auth<3,>=1.6.3->tensorboard<2.10,>=2.9->tensorflow) (0.2.8)\n",
      "Requirement already satisfied: rsa<5,>=3.1.4 in c:\\users\\alpian\\anaconda3\\lib\\site-packages (from google-auth<3,>=1.6.3->tensorboard<2.10,>=2.9->tensorflow) (4.7.2)\n",
      "Requirement already satisfied: cachetools<5.0,>=2.0.0 in c:\\users\\alpian\\anaconda3\\lib\\site-packages (from google-auth<3,>=1.6.3->tensorboard<2.10,>=2.9->tensorflow) (4.2.2)\n",
      "Requirement already satisfied: requests-oauthlib>=0.7.0 in c:\\users\\alpian\\anaconda3\\lib\\site-packages (from google-auth-oauthlib<0.5,>=0.4.1->tensorboard<2.10,>=2.9->tensorflow) (1.3.1)\n",
      "Requirement already satisfied: pyasn1<0.5.0,>=0.4.6 in c:\\users\\alpian\\anaconda3\\lib\\site-packages (from pyasn1-modules>=0.2.1->google-auth<3,>=1.6.3->tensorboard<2.10,>=2.9->tensorflow) (0.4.8)\n",
      "Requirement already satisfied: idna<4,>=2.5 in c:\\users\\alpian\\anaconda3\\lib\\site-packages (from requests<3,>=2.21.0->tensorboard<2.10,>=2.9->tensorflow) (3.3)\n",
      "Requirement already satisfied: charset-normalizer~=2.0.0 in c:\\users\\alpian\\anaconda3\\lib\\site-packages (from requests<3,>=2.21.0->tensorboard<2.10,>=2.9->tensorflow) (2.0.4)\n",
      "Requirement already satisfied: urllib3<1.27,>=1.21.1 in c:\\users\\alpian\\anaconda3\\lib\\site-packages (from requests<3,>=2.21.0->tensorboard<2.10,>=2.9->tensorflow) (1.26.9)\n",
      "Requirement already satisfied: certifi>=2017.4.17 in c:\\users\\alpian\\anaconda3\\lib\\site-packages (from requests<3,>=2.21.0->tensorboard<2.10,>=2.9->tensorflow) (2021.10.8)\n",
      "Requirement already satisfied: oauthlib>=3.0.0 in c:\\users\\alpian\\anaconda3\\lib\\site-packages (from requests-oauthlib>=0.7.0->google-auth-oauthlib<0.5,>=0.4.1->tensorboard<2.10,>=2.9->tensorflow) (3.2.0)\n",
      "Requirement already satisfied: threadpoolctl>=2.0.0 in c:\\users\\alpian\\anaconda3\\lib\\site-packages (from scikit-learn->sklearn) (2.2.0)\n",
      "Requirement already satisfied: joblib>=0.11 in c:\\users\\alpian\\anaconda3\\lib\\site-packages (from scikit-learn->sklearn) (1.1.0)\n",
      "Requirement already satisfied: scipy>=1.1.0 in c:\\users\\alpian\\anaconda3\\lib\\site-packages (from scikit-learn->sklearn) (1.7.3)\n"
     ]
    },
    {
     "name": "stderr",
     "output_type": "stream",
     "text": [
      "WARNING: Ignoring invalid distribution -pencv-python (c:\\users\\alpian\\anaconda3\\lib\\site-packages)\n",
      "WARNING: Ignoring invalid distribution -pencv-python (c:\\users\\alpian\\anaconda3\\lib\\site-packages)\n",
      "WARNING: Ignoring invalid distribution -pencv-python (c:\\users\\alpian\\anaconda3\\lib\\site-packages)\n",
      "WARNING: Ignoring invalid distribution -pencv-python (c:\\users\\alpian\\anaconda3\\lib\\site-packages)\n",
      "WARNING: Ignoring invalid distribution -pencv-python (c:\\users\\alpian\\anaconda3\\lib\\site-packages)\n",
      "WARNING: Ignoring invalid distribution -pencv-python (c:\\users\\alpian\\anaconda3\\lib\\site-packages)\n"
     ]
    }
   ],
   "source": [
    "!pip install tensorflow opencv-python mediapipe sklearn matplotlib"
   ]
  },
  {
   "cell_type": "code",
   "execution_count": 2,
   "metadata": {
    "id": "ZY9hTiMNP3Rm"
   },
   "outputs": [],
   "source": [
    "import cv2\n",
    "import numpy as np\n",
    "import os\n",
    "from matplotlib import pyplot as plt\n",
    "import time\n",
    "import mediapipe as mp"
   ]
  },
  {
   "cell_type": "markdown",
   "metadata": {
    "id": "ea0g5g2XSN44"
   },
   "source": [
    "# Making key point using Open CV"
   ]
  },
  {
   "cell_type": "code",
   "execution_count": 3,
   "metadata": {},
   "outputs": [],
   "source": [
    "mp_holistic = mp.solutions.holistic # Holistic model\n",
    "mp_drawing = mp.solutions.drawing_utils # Drawing utilities"
   ]
  },
  {
   "cell_type": "code",
   "execution_count": 4,
   "metadata": {},
   "outputs": [],
   "source": [
    "def mediapipe_detection(image, model):\n",
    "    image = cv2.cvtColor(image,cv2.COLOR_BGR2RGB) # COLOR CONVERSION BGR 2 RGB\n",
    "    image.flags.writeable = False                  # Image is no longer writeable\n",
    "    results = model.process(image)                 # Make prediction\n",
    "    image.flags.writeable = True                   # Image is now writeable \n",
    "    image = cv2.cvtColor(image, cv2.COLOR_RGB2BGR) # COLOR COVERSION RGB 2 BGR\n",
    "    return image, results"
   ]
  },
  {
   "cell_type": "code",
   "execution_count": 5,
   "metadata": {},
   "outputs": [],
   "source": [
    "def draw_landmarks(image, results):\n",
    "    mp_drawing.draw_landmarks(image, results.face_landmarks, mp_holistic.FACEMESH_CONTOURS) # Draw face connections\n",
    "    mp_drawing.draw_landmarks(image, results.pose_landmarks, mp_holistic.POSE_CONNECTIONS) # Draw pose connections\n",
    "    mp_drawing.draw_landmarks(image, results.left_hand_landmarks, mp_holistic.HAND_CONNECTIONS) # Draw left hand connections\n",
    "    mp_drawing.draw_landmarks(image, results.right_hand_landmarks, mp_holistic.HAND_CONNECTIONS) # Draw right hand connections"
   ]
  },
  {
   "cell_type": "code",
   "execution_count": 6,
   "metadata": {},
   "outputs": [],
   "source": [
    "#mp_holistic??"
   ]
  },
  {
   "cell_type": "code",
   "execution_count": 7,
   "metadata": {},
   "outputs": [],
   "source": [
    "def draw_styled_landmarks(image, results):\n",
    "    # Draw face connections\n",
    "    mp_drawing.draw_landmarks(image, results.face_landmarks, mp_holistic.FACEMESH_CONTOURS, \n",
    "                             mp_drawing.DrawingSpec(color=(80,110,10), thickness=1, circle_radius=1), \n",
    "                             mp_drawing.DrawingSpec(color=(80,256,121), thickness=1, circle_radius=1)\n",
    "                             ) \n",
    "    # Draw pose connections\n",
    "    mp_drawing.draw_landmarks(image, results.pose_landmarks, mp_holistic.POSE_CONNECTIONS,\n",
    "                             mp_drawing.DrawingSpec(color=(80,22,10), thickness=2, circle_radius=4), \n",
    "                             mp_drawing.DrawingSpec(color=(80,44,121), thickness=2, circle_radius=2)\n",
    "                             ) \n",
    "    # Draw left hand connections\n",
    "    mp_drawing.draw_landmarks(image, results.left_hand_landmarks, mp_holistic.HAND_CONNECTIONS, \n",
    "                             mp_drawing.DrawingSpec(color=(121,22,76), thickness=2, circle_radius=4), \n",
    "                             mp_drawing.DrawingSpec(color=(121,44,250), thickness=2, circle_radius=2)\n",
    "                             ) \n",
    "    # Draw right hand connections  \n",
    "    mp_drawing.draw_landmarks(image, results.right_hand_landmarks, mp_holistic.HAND_CONNECTIONS, \n",
    "                             mp_drawing.DrawingSpec(color=(245,117,66), thickness=2, circle_radius=4), \n",
    "                             mp_drawing.DrawingSpec(color=(245,66,230), thickness=2, circle_radius=2)\n",
    "                             ) "
   ]
  },
  {
   "cell_type": "markdown",
   "metadata": {},
   "source": [
    "# Extract keypoint"
   ]
  },
  {
   "cell_type": "code",
   "execution_count": 8,
   "metadata": {},
   "outputs": [],
   "source": [
    "def extract_keypoints(results):\n",
    "    pose = np.array([[res.x, res.y, res.z, res.visibility] for res in results.pose_landmarks.landmark]).flatten() if results.pose_landmarks else np.zeros(33*4)\n",
    "    face = np.array([[res.x, res.y, res.z] for res in results.face_landmarks.landmark]).flatten() if results.face_landmarks else np.zeros(468*3)\n",
    "    lh = np.array([[res.x, res.y, res.z] for res in results.left_hand_landmarks.landmark]).flatten() if results.left_hand_landmarks else np.zeros(21*3)\n",
    "    rh = np.array([[res.x, res.y, res.z] for res in results.right_hand_landmarks.landmark]).flatten() if results.right_hand_landmarks else np.zeros(21*3)\n",
    "    return np.concatenate([pose, face, lh, rh])"
   ]
  },
  {
   "cell_type": "markdown",
   "metadata": {},
   "source": [
    "# Setup Folders for Collection"
   ]
  },
  {
   "cell_type": "code",
   "execution_count": 9,
   "metadata": {},
   "outputs": [],
   "source": [
    "# Path for exported data, numpy arrays\n",
    "\n",
    "DATA_PATH = os.path.join('C:\\\\Users\\\\alpian\\\\taSignLanguage','MP_Data')\n",
    "\n",
    "# Actions that we try to detect\n",
    "actions = np.array(['apa', 'dimana', 'kapan'])\n",
    "\n",
    "# Thirty videos worth of data\n",
    "no_sequences = 30\n",
    "\n",
    "# Videos are going to be 30 frames in length\n",
    "sequence_length = 30\n",
    "\n",
    "# Folder start\n",
    "start_folder = 30"
   ]
  },
  {
   "cell_type": "markdown",
   "metadata": {},
   "source": [
    "# Collect Keypoint Values for Training and Testing"
   ]
  },
  {
   "cell_type": "markdown",
   "metadata": {},
   "source": [
    "# Preprocess Data and Create Labels and Features"
   ]
  },
  {
   "cell_type": "code",
   "execution_count": 10,
   "metadata": {},
   "outputs": [],
   "source": [
    "from sklearn.model_selection import train_test_split\n",
    "from tensorflow.keras.utils import to_categorical"
   ]
  },
  {
   "cell_type": "code",
   "execution_count": 11,
   "metadata": {},
   "outputs": [],
   "source": [
    "label_map = {label:num for num, label in enumerate(actions)}"
   ]
  },
  {
   "cell_type": "code",
   "execution_count": 12,
   "metadata": {},
   "outputs": [
    {
     "data": {
      "text/plain": [
       "{'apa': 0, 'dimana': 1, 'kapan': 2}"
      ]
     },
     "execution_count": 12,
     "metadata": {},
     "output_type": "execute_result"
    }
   ],
   "source": [
    "label_map"
   ]
  },
  {
   "cell_type": "code",
   "execution_count": 13,
   "metadata": {},
   "outputs": [],
   "source": [
    "sequences, labels = [], []\n",
    "for action in actions:\n",
    "    for sequence in np.array(os.listdir(os.path.join(DATA_PATH, action))).astype(int):\n",
    "        window = []\n",
    "        for frame_num in range(sequence_length):\n",
    "            res = np.load(os.path.join(DATA_PATH, action, str(sequence), \"{}.npy\".format(frame_num)))\n",
    "            window.append(res)\n",
    "        sequences.append(window)\n",
    "        labels.append(label_map[action])"
   ]
  },
  {
   "cell_type": "code",
   "execution_count": 14,
   "metadata": {},
   "outputs": [
    {
     "data": {
      "text/plain": [
       "(90, 30, 1662)"
      ]
     },
     "execution_count": 14,
     "metadata": {},
     "output_type": "execute_result"
    }
   ],
   "source": [
    "np.array(sequences).shape"
   ]
  },
  {
   "cell_type": "code",
   "execution_count": 15,
   "metadata": {},
   "outputs": [],
   "source": [
    "X = np.array(sequences)"
   ]
  },
  {
   "cell_type": "code",
   "execution_count": 16,
   "metadata": {},
   "outputs": [],
   "source": [
    "y = to_categorical(labels).astype(int)"
   ]
  },
  {
   "cell_type": "code",
   "execution_count": null,
   "metadata": {},
   "outputs": [],
   "source": []
  },
  {
   "cell_type": "code",
   "execution_count": 17,
   "metadata": {},
   "outputs": [],
   "source": [
    "X_train, X_test, y_train, y_test = train_test_split(X, y, test_size=0.2)"
   ]
  },
  {
   "cell_type": "markdown",
   "metadata": {},
   "source": [
    "# Build and Train LSTM Neural Network"
   ]
  },
  {
   "cell_type": "code",
   "execution_count": 18,
   "metadata": {},
   "outputs": [],
   "source": [
    "from tensorflow.keras.models import Sequential\n",
    "from tensorflow.keras.layers import LSTM, Dense\n",
    "from tensorflow.keras.callbacks import TensorBoard"
   ]
  },
  {
   "cell_type": "code",
   "execution_count": 19,
   "metadata": {},
   "outputs": [],
   "source": [
    "log_dir = os.path.join('Logs')\n",
    "tb_callback = TensorBoard(log_dir=log_dir)"
   ]
  },
  {
   "cell_type": "code",
   "execution_count": 20,
   "metadata": {},
   "outputs": [],
   "source": [
    "model = Sequential()\n",
    "model.add(LSTM(64, return_sequences=True, activation='relu', input_shape=(30,1662)))\n",
    "model.add(LSTM(128, return_sequences=True, activation='relu'))\n",
    "model.add(LSTM(64, return_sequences=False, activation='relu'))\n",
    "model.add(Dense(64, activation='relu'))\n",
    "model.add(Dense(32, activation='relu'))\n",
    "model.add(Dense(actions.shape[0], activation='softmax'))"
   ]
  },
  {
   "cell_type": "code",
   "execution_count": 21,
   "metadata": {},
   "outputs": [],
   "source": [
    "model.compile(optimizer='Adam', loss='categorical_crossentropy', metrics=['accuracy'])"
   ]
  },
  {
   "cell_type": "code",
   "execution_count": 22,
   "metadata": {},
   "outputs": [
    {
     "name": "stdout",
     "output_type": "stream",
     "text": [
      "Epoch 1/250\n",
      "3/3 [==============================] - 6s 449ms/step - loss: 1.7484 - accuracy: 0.2778 - val_loss: 3.7264 - val_accuracy: 0.5000\n",
      "Epoch 2/250\n",
      "3/3 [==============================] - 0s 87ms/step - loss: 5.9427 - accuracy: 0.4444 - val_loss: 5.6937 - val_accuracy: 0.5000\n",
      "Epoch 3/250\n",
      "3/3 [==============================] - 0s 87ms/step - loss: 4.2837 - accuracy: 0.2917 - val_loss: 1.1073 - val_accuracy: 0.5000\n",
      "Epoch 4/250\n",
      "3/3 [==============================] - 0s 87ms/step - loss: 1.4735 - accuracy: 0.2917 - val_loss: 1.6054 - val_accuracy: 0.2778\n",
      "Epoch 5/250\n",
      "3/3 [==============================] - 0s 87ms/step - loss: 1.4542 - accuracy: 0.3194 - val_loss: 1.1947 - val_accuracy: 0.1667\n",
      "Epoch 6/250\n",
      "3/3 [==============================] - 0s 88ms/step - loss: 1.1227 - accuracy: 0.3611 - val_loss: 1.1293 - val_accuracy: 0.1667\n",
      "Epoch 7/250\n",
      "3/3 [==============================] - 0s 87ms/step - loss: 1.0830 - accuracy: 0.3750 - val_loss: 1.0922 - val_accuracy: 0.1667\n",
      "Epoch 8/250\n",
      "3/3 [==============================] - 0s 89ms/step - loss: 1.0860 - accuracy: 0.3889 - val_loss: 1.0546 - val_accuracy: 0.1667\n",
      "Epoch 9/250\n",
      "3/3 [==============================] - 0s 104ms/step - loss: 1.0453 - accuracy: 0.3611 - val_loss: 1.0206 - val_accuracy: 0.3889\n",
      "Epoch 10/250\n",
      "3/3 [==============================] - 0s 101ms/step - loss: 0.9912 - accuracy: 0.6250 - val_loss: 0.9703 - val_accuracy: 0.5000\n",
      "Epoch 11/250\n",
      "3/3 [==============================] - 0s 90ms/step - loss: 0.9125 - accuracy: 0.6944 - val_loss: 0.8354 - val_accuracy: 0.5000\n",
      "Epoch 12/250\n",
      "3/3 [==============================] - 0s 113ms/step - loss: 0.7754 - accuracy: 0.6528 - val_loss: 0.6182 - val_accuracy: 0.8333\n",
      "Epoch 13/250\n",
      "3/3 [==============================] - 0s 106ms/step - loss: 0.6299 - accuracy: 0.5972 - val_loss: 0.5584 - val_accuracy: 0.5000\n",
      "Epoch 14/250\n",
      "3/3 [==============================] - 0s 96ms/step - loss: 0.5119 - accuracy: 0.6944 - val_loss: 0.4999 - val_accuracy: 0.8333\n",
      "Epoch 15/250\n",
      "3/3 [==============================] - 0s 99ms/step - loss: 0.6683 - accuracy: 0.6528 - val_loss: 0.5487 - val_accuracy: 0.5000\n",
      "Epoch 16/250\n",
      "3/3 [==============================] - 0s 101ms/step - loss: 0.5111 - accuracy: 0.7083 - val_loss: 0.6160 - val_accuracy: 0.5000\n",
      "Epoch 17/250\n",
      "3/3 [==============================] - 0s 111ms/step - loss: 0.4951 - accuracy: 0.7083 - val_loss: 0.7983 - val_accuracy: 0.5000\n",
      "Epoch 18/250\n",
      "3/3 [==============================] - 0s 103ms/step - loss: 0.5424 - accuracy: 0.7083 - val_loss: 0.6258 - val_accuracy: 0.5000\n",
      "Epoch 19/250\n",
      "3/3 [==============================] - 0s 96ms/step - loss: 0.5076 - accuracy: 0.7083 - val_loss: 0.5879 - val_accuracy: 0.5000\n",
      "Epoch 20/250\n",
      "3/3 [==============================] - 0s 89ms/step - loss: 0.4980 - accuracy: 0.7083 - val_loss: 0.6776 - val_accuracy: 0.5000\n",
      "Epoch 21/250\n",
      "3/3 [==============================] - 0s 97ms/step - loss: 0.4970 - accuracy: 0.7083 - val_loss: 0.6083 - val_accuracy: 0.5000\n",
      "Epoch 22/250\n",
      "3/3 [==============================] - 0s 90ms/step - loss: 0.4668 - accuracy: 0.7083 - val_loss: 0.5004 - val_accuracy: 0.5000\n",
      "Epoch 23/250\n",
      "3/3 [==============================] - 0s 90ms/step - loss: 0.4652 - accuracy: 0.7083 - val_loss: 0.4695 - val_accuracy: 0.5000\n",
      "Epoch 24/250\n",
      "3/3 [==============================] - 0s 108ms/step - loss: 0.4635 - accuracy: 0.7361 - val_loss: 0.4792 - val_accuracy: 0.5000\n",
      "Epoch 25/250\n",
      "3/3 [==============================] - 0s 97ms/step - loss: 0.4516 - accuracy: 0.7083 - val_loss: 0.5573 - val_accuracy: 0.5000\n",
      "Epoch 26/250\n",
      "3/3 [==============================] - 0s 97ms/step - loss: 0.4541 - accuracy: 0.7083 - val_loss: 0.5873 - val_accuracy: 0.5000\n",
      "Epoch 27/250\n",
      "3/3 [==============================] - 0s 96ms/step - loss: 0.4489 - accuracy: 0.7083 - val_loss: 0.5048 - val_accuracy: 0.5000\n",
      "Epoch 28/250\n",
      "3/3 [==============================] - 0s 90ms/step - loss: 0.4407 - accuracy: 0.7083 - val_loss: 0.5126 - val_accuracy: 0.5000\n",
      "Epoch 29/250\n",
      "3/3 [==============================] - 0s 95ms/step - loss: 0.4368 - accuracy: 0.7083 - val_loss: 1.4148 - val_accuracy: 0.3333\n",
      "Epoch 30/250\n",
      "3/3 [==============================] - 0s 91ms/step - loss: 3.1840 - accuracy: 0.2917 - val_loss: 2.5155 - val_accuracy: 0.1111\n",
      "Epoch 31/250\n",
      "3/3 [==============================] - 0s 90ms/step - loss: 2.2852 - accuracy: 0.2917 - val_loss: 0.9918 - val_accuracy: 0.5000\n",
      "Epoch 32/250\n",
      "3/3 [==============================] - 0s 89ms/step - loss: 0.9843 - accuracy: 0.3611 - val_loss: 0.7772 - val_accuracy: 0.8333\n",
      "Epoch 33/250\n",
      "3/3 [==============================] - 0s 89ms/step - loss: 1.0934 - accuracy: 0.6389 - val_loss: 0.6747 - val_accuracy: 0.7778\n",
      "Epoch 34/250\n",
      "3/3 [==============================] - 0s 88ms/step - loss: 1.0389 - accuracy: 0.6250 - val_loss: 1.3159 - val_accuracy: 0.5000\n",
      "Epoch 35/250\n",
      "3/3 [==============================] - 0s 88ms/step - loss: 1.0785 - accuracy: 0.5000 - val_loss: 0.8750 - val_accuracy: 0.5000\n",
      "Epoch 36/250\n",
      "3/3 [==============================] - 0s 93ms/step - loss: 0.8251 - accuracy: 0.6667 - val_loss: 0.7779 - val_accuracy: 0.7222\n",
      "Epoch 37/250\n",
      "3/3 [==============================] - 0s 92ms/step - loss: 0.8248 - accuracy: 0.5972 - val_loss: 0.8649 - val_accuracy: 0.5000\n",
      "Epoch 38/250\n",
      "3/3 [==============================] - 0s 89ms/step - loss: 0.7690 - accuracy: 0.6944 - val_loss: 0.8242 - val_accuracy: 0.5000\n",
      "Epoch 39/250\n",
      "3/3 [==============================] - 0s 96ms/step - loss: 0.7111 - accuracy: 0.7083 - val_loss: 0.8310 - val_accuracy: 0.5000\n",
      "Epoch 40/250\n",
      "3/3 [==============================] - 0s 92ms/step - loss: 0.6105 - accuracy: 0.7083 - val_loss: 0.5159 - val_accuracy: 0.5556\n",
      "Epoch 41/250\n",
      "3/3 [==============================] - 0s 94ms/step - loss: 0.4848 - accuracy: 0.7222 - val_loss: 0.5758 - val_accuracy: 0.5000\n",
      "Epoch 42/250\n",
      "3/3 [==============================] - 0s 95ms/step - loss: 0.4878 - accuracy: 0.7083 - val_loss: 0.5777 - val_accuracy: 0.5000\n",
      "Epoch 43/250\n",
      "3/3 [==============================] - 0s 94ms/step - loss: 0.4230 - accuracy: 0.7083 - val_loss: 0.3805 - val_accuracy: 0.9444\n",
      "Epoch 44/250\n",
      "3/3 [==============================] - 0s 89ms/step - loss: 0.4308 - accuracy: 0.8194 - val_loss: 0.5238 - val_accuracy: 0.5000\n",
      "Epoch 45/250\n",
      "3/3 [==============================] - 0s 93ms/step - loss: 0.4038 - accuracy: 0.7361 - val_loss: 0.5090 - val_accuracy: 0.5000\n",
      "Epoch 46/250\n",
      "3/3 [==============================] - 0s 101ms/step - loss: 0.3967 - accuracy: 0.7500 - val_loss: 0.3176 - val_accuracy: 0.8333\n",
      "Epoch 47/250\n",
      "3/3 [==============================] - 0s 103ms/step - loss: 0.4630 - accuracy: 0.6667 - val_loss: 0.6859 - val_accuracy: 0.5000\n",
      "Epoch 48/250\n",
      "3/3 [==============================] - 0s 111ms/step - loss: 0.4120 - accuracy: 0.7083 - val_loss: 0.4217 - val_accuracy: 0.7222\n",
      "Epoch 49/250\n",
      "3/3 [==============================] - 0s 97ms/step - loss: 0.3776 - accuracy: 0.7361 - val_loss: 0.4279 - val_accuracy: 0.6667\n",
      "Epoch 50/250\n",
      "3/3 [==============================] - 0s 87ms/step - loss: 0.3828 - accuracy: 0.7917 - val_loss: 0.5097 - val_accuracy: 0.6667\n",
      "Epoch 51/250\n",
      "3/3 [==============================] - 0s 93ms/step - loss: 0.3576 - accuracy: 0.7639 - val_loss: 0.8805 - val_accuracy: 0.5000\n",
      "Epoch 52/250\n",
      "3/3 [==============================] - 0s 93ms/step - loss: 0.4355 - accuracy: 0.8056 - val_loss: 0.4631 - val_accuracy: 0.5556\n",
      "Epoch 53/250\n",
      "3/3 [==============================] - 0s 94ms/step - loss: 0.3717 - accuracy: 0.7222 - val_loss: 0.5722 - val_accuracy: 0.5000\n",
      "Epoch 54/250\n",
      "3/3 [==============================] - 0s 87ms/step - loss: 0.3301 - accuracy: 0.7778 - val_loss: 0.2776 - val_accuracy: 0.8889\n",
      "Epoch 55/250\n",
      "3/3 [==============================] - 0s 116ms/step - loss: 0.4180 - accuracy: 0.7778 - val_loss: 1.0712 - val_accuracy: 0.5000\n",
      "Epoch 56/250\n",
      "3/3 [==============================] - 0s 97ms/step - loss: 0.3770 - accuracy: 0.7917 - val_loss: 0.3266 - val_accuracy: 0.8333\n",
      "Epoch 57/250\n",
      "3/3 [==============================] - 0s 89ms/step - loss: 0.4050 - accuracy: 0.7222 - val_loss: 0.4276 - val_accuracy: 0.6667\n",
      "Epoch 58/250\n",
      "3/3 [==============================] - 0s 99ms/step - loss: 0.3034 - accuracy: 0.8056 - val_loss: 0.3002 - val_accuracy: 0.9444\n",
      "Epoch 59/250\n"
     ]
    },
    {
     "name": "stdout",
     "output_type": "stream",
     "text": [
      "3/3 [==============================] - 0s 93ms/step - loss: 0.2550 - accuracy: 0.9444 - val_loss: 0.4235 - val_accuracy: 0.7778\n",
      "Epoch 60/250\n",
      "3/3 [==============================] - 0s 96ms/step - loss: 0.2346 - accuracy: 0.9167 - val_loss: 0.4762 - val_accuracy: 0.7778\n",
      "Epoch 61/250\n",
      "3/3 [==============================] - 0s 97ms/step - loss: 0.2120 - accuracy: 0.9167 - val_loss: 0.2179 - val_accuracy: 1.0000\n",
      "Epoch 62/250\n",
      "3/3 [==============================] - 0s 105ms/step - loss: 0.1603 - accuracy: 0.9444 - val_loss: 0.1326 - val_accuracy: 0.9444\n",
      "Epoch 63/250\n",
      "3/3 [==============================] - 0s 89ms/step - loss: 1.7602 - accuracy: 0.7778 - val_loss: 9.3046 - val_accuracy: 0.1667\n",
      "Epoch 64/250\n",
      "3/3 [==============================] - 0s 94ms/step - loss: 5.6867 - accuracy: 0.3889 - val_loss: 0.8791 - val_accuracy: 0.6667\n",
      "Epoch 65/250\n",
      "3/3 [==============================] - 0s 88ms/step - loss: 1.2240 - accuracy: 0.5278 - val_loss: 1.7778 - val_accuracy: 0.1667\n",
      "Epoch 66/250\n",
      "3/3 [==============================] - 0s 90ms/step - loss: 1.6792 - accuracy: 0.2361 - val_loss: 1.7301 - val_accuracy: 0.5000\n",
      "Epoch 67/250\n",
      "3/3 [==============================] - 0s 87ms/step - loss: 1.0486 - accuracy: 0.4861 - val_loss: 0.7808 - val_accuracy: 0.5000\n",
      "Epoch 68/250\n",
      "3/3 [==============================] - 0s 90ms/step - loss: 0.7355 - accuracy: 0.6667 - val_loss: 0.6020 - val_accuracy: 0.8333\n",
      "Epoch 69/250\n",
      "3/3 [==============================] - 0s 85ms/step - loss: 0.6756 - accuracy: 0.6806 - val_loss: 1.6580 - val_accuracy: 0.5000\n",
      "Epoch 70/250\n",
      "3/3 [==============================] - 0s 87ms/step - loss: 0.9607 - accuracy: 0.6944 - val_loss: 0.8137 - val_accuracy: 0.5000\n",
      "Epoch 71/250\n",
      "3/3 [==============================] - 0s 86ms/step - loss: 0.5861 - accuracy: 0.6389 - val_loss: 0.5314 - val_accuracy: 0.5000\n",
      "Epoch 72/250\n",
      "3/3 [==============================] - 0s 87ms/step - loss: 0.5162 - accuracy: 0.6944 - val_loss: 0.5902 - val_accuracy: 0.5000\n",
      "Epoch 73/250\n",
      "3/3 [==============================] - 0s 83ms/step - loss: 0.4909 - accuracy: 0.7083 - val_loss: 0.6191 - val_accuracy: 0.5000\n",
      "Epoch 74/250\n",
      "3/3 [==============================] - 0s 86ms/step - loss: 0.4803 - accuracy: 0.7083 - val_loss: 0.6073 - val_accuracy: 0.5000\n",
      "Epoch 75/250\n",
      "3/3 [==============================] - 0s 92ms/step - loss: 0.4794 - accuracy: 0.7083 - val_loss: 0.5136 - val_accuracy: 0.5000\n",
      "Epoch 76/250\n",
      "3/3 [==============================] - 0s 91ms/step - loss: 0.4479 - accuracy: 0.7083 - val_loss: 0.6520 - val_accuracy: 0.5000\n",
      "Epoch 77/250\n",
      "3/3 [==============================] - 0s 86ms/step - loss: 0.4694 - accuracy: 0.7083 - val_loss: 0.5698 - val_accuracy: 0.5000\n",
      "Epoch 78/250\n",
      "3/3 [==============================] - 0s 87ms/step - loss: 0.4443 - accuracy: 0.7083 - val_loss: 0.4258 - val_accuracy: 0.8333\n",
      "Epoch 79/250\n",
      "3/3 [==============================] - 0s 91ms/step - loss: 0.4629 - accuracy: 0.6389 - val_loss: 0.4304 - val_accuracy: 0.8333\n",
      "Epoch 80/250\n",
      "3/3 [==============================] - 0s 87ms/step - loss: 0.4503 - accuracy: 0.7083 - val_loss: 0.5469 - val_accuracy: 0.5000\n",
      "Epoch 81/250\n",
      "3/3 [==============================] - 0s 88ms/step - loss: 0.4476 - accuracy: 0.7083 - val_loss: 0.5062 - val_accuracy: 0.5000\n",
      "Epoch 82/250\n",
      "3/3 [==============================] - 0s 85ms/step - loss: 0.4392 - accuracy: 0.7083 - val_loss: 0.5909 - val_accuracy: 0.5000\n",
      "Epoch 83/250\n",
      "3/3 [==============================] - 0s 101ms/step - loss: 0.5001 - accuracy: 0.7083 - val_loss: 0.5007 - val_accuracy: 0.5000\n",
      "Epoch 84/250\n",
      "3/3 [==============================] - 0s 93ms/step - loss: 0.4248 - accuracy: 0.7222 - val_loss: 0.3812 - val_accuracy: 0.8333\n",
      "Epoch 85/250\n",
      "3/3 [==============================] - 0s 99ms/step - loss: 0.5054 - accuracy: 0.6528 - val_loss: 0.4136 - val_accuracy: 0.8333\n",
      "Epoch 86/250\n",
      "3/3 [==============================] - 0s 91ms/step - loss: 0.4370 - accuracy: 0.6806 - val_loss: 0.5684 - val_accuracy: 0.5000\n",
      "Epoch 87/250\n",
      "3/3 [==============================] - 0s 89ms/step - loss: 0.4444 - accuracy: 0.7083 - val_loss: 0.5085 - val_accuracy: 0.5556\n",
      "Epoch 88/250\n",
      "3/3 [==============================] - 0s 92ms/step - loss: 0.4778 - accuracy: 0.7361 - val_loss: 0.5123 - val_accuracy: 0.5000\n",
      "Epoch 89/250\n",
      "3/3 [==============================] - 0s 88ms/step - loss: 0.4289 - accuracy: 0.7083 - val_loss: 0.4727 - val_accuracy: 0.5000\n",
      "Epoch 90/250\n",
      "3/3 [==============================] - 0s 88ms/step - loss: 0.4454 - accuracy: 0.7778 - val_loss: 0.5032 - val_accuracy: 0.5000\n",
      "Epoch 91/250\n",
      "3/3 [==============================] - 0s 87ms/step - loss: 0.4027 - accuracy: 0.7083 - val_loss: 0.3699 - val_accuracy: 1.0000\n",
      "Epoch 92/250\n",
      "3/3 [==============================] - 0s 83ms/step - loss: 0.6351 - accuracy: 0.7639 - val_loss: 1.1179 - val_accuracy: 0.1667\n",
      "Epoch 93/250\n",
      "3/3 [==============================] - 0s 89ms/step - loss: 0.8468 - accuracy: 0.5694 - val_loss: 0.7444 - val_accuracy: 0.8333\n",
      "Epoch 94/250\n",
      "3/3 [==============================] - 0s 87ms/step - loss: 0.8645 - accuracy: 0.6528 - val_loss: 0.7896 - val_accuracy: 0.8889\n",
      "Epoch 95/250\n",
      "3/3 [==============================] - 0s 88ms/step - loss: 0.8061 - accuracy: 0.7917 - val_loss: 0.6192 - val_accuracy: 1.0000\n",
      "Epoch 96/250\n",
      "3/3 [==============================] - 0s 89ms/step - loss: 0.6023 - accuracy: 0.8194 - val_loss: 0.4147 - val_accuracy: 1.0000\n",
      "Epoch 97/250\n",
      "3/3 [==============================] - 0s 90ms/step - loss: 0.4039 - accuracy: 0.9028 - val_loss: 0.7123 - val_accuracy: 0.5000\n",
      "Epoch 98/250\n",
      "3/3 [==============================] - 0s 84ms/step - loss: 0.4859 - accuracy: 0.7917 - val_loss: 0.3925 - val_accuracy: 0.8333\n",
      "Epoch 99/250\n",
      "3/3 [==============================] - 0s 84ms/step - loss: 0.6863 - accuracy: 0.6111 - val_loss: 0.4654 - val_accuracy: 0.5556\n",
      "Epoch 100/250\n",
      "3/3 [==============================] - 0s 88ms/step - loss: 0.3645 - accuracy: 0.8333 - val_loss: 0.3019 - val_accuracy: 0.8889\n",
      "Epoch 101/250\n",
      "3/3 [==============================] - 0s 84ms/step - loss: 0.3593 - accuracy: 0.8333 - val_loss: 0.3185 - val_accuracy: 0.8889\n",
      "Epoch 102/250\n",
      "3/3 [==============================] - 0s 86ms/step - loss: 0.2681 - accuracy: 0.8750 - val_loss: 0.1626 - val_accuracy: 0.9444\n",
      "Epoch 103/250\n",
      "3/3 [==============================] - 0s 87ms/step - loss: 0.2938 - accuracy: 0.8611 - val_loss: 1.2061 - val_accuracy: 0.5000\n",
      "Epoch 104/250\n",
      "3/3 [==============================] - 0s 87ms/step - loss: 0.4077 - accuracy: 0.7778 - val_loss: 0.3346 - val_accuracy: 0.9444\n",
      "Epoch 105/250\n",
      "3/3 [==============================] - 0s 83ms/step - loss: 0.3598 - accuracy: 0.8056 - val_loss: 0.3826 - val_accuracy: 0.6667\n",
      "Epoch 106/250\n",
      "3/3 [==============================] - 0s 88ms/step - loss: 0.2790 - accuracy: 0.9444 - val_loss: 0.1753 - val_accuracy: 0.8889\n",
      "Epoch 107/250\n",
      "3/3 [==============================] - 0s 95ms/step - loss: 0.3508 - accuracy: 0.8611 - val_loss: 2.0238 - val_accuracy: 0.5000\n",
      "Epoch 108/250\n",
      "3/3 [==============================] - 0s 97ms/step - loss: 0.7595 - accuracy: 0.7361 - val_loss: 0.2768 - val_accuracy: 0.8333\n",
      "Epoch 109/250\n",
      "3/3 [==============================] - 0s 89ms/step - loss: 0.7313 - accuracy: 0.6667 - val_loss: 0.4831 - val_accuracy: 0.8333\n",
      "Epoch 110/250\n",
      "3/3 [==============================] - 0s 89ms/step - loss: 0.5674 - accuracy: 0.6806 - val_loss: 0.6167 - val_accuracy: 0.5000\n",
      "Epoch 111/250\n",
      "3/3 [==============================] - 0s 87ms/step - loss: 0.5815 - accuracy: 0.6944 - val_loss: 0.6066 - val_accuracy: 0.5000\n",
      "Epoch 112/250\n",
      "3/3 [==============================] - 0s 91ms/step - loss: 0.5036 - accuracy: 0.7083 - val_loss: 0.6105 - val_accuracy: 0.5000\n",
      "Epoch 113/250\n",
      "3/3 [==============================] - 0s 91ms/step - loss: 0.4635 - accuracy: 0.7083 - val_loss: 0.5149 - val_accuracy: 0.5000\n",
      "Epoch 114/250\n",
      "3/3 [==============================] - 0s 90ms/step - loss: 0.3914 - accuracy: 0.8333 - val_loss: 0.3056 - val_accuracy: 0.8333\n",
      "Epoch 115/250\n",
      "3/3 [==============================] - 0s 91ms/step - loss: 0.4878 - accuracy: 0.6944 - val_loss: 0.6413 - val_accuracy: 0.5000\n",
      "Epoch 116/250\n",
      "3/3 [==============================] - 0s 90ms/step - loss: 0.4742 - accuracy: 0.7083 - val_loss: 0.5970 - val_accuracy: 0.5000\n",
      "Epoch 117/250\n"
     ]
    },
    {
     "name": "stdout",
     "output_type": "stream",
     "text": [
      "3/3 [==============================] - 0s 89ms/step - loss: 0.4538 - accuracy: 0.7083 - val_loss: 0.5052 - val_accuracy: 0.5000\n",
      "Epoch 118/250\n",
      "3/3 [==============================] - 0s 86ms/step - loss: 0.4220 - accuracy: 0.6944 - val_loss: 0.4532 - val_accuracy: 0.5000\n",
      "Epoch 119/250\n",
      "3/3 [==============================] - 0s 88ms/step - loss: 0.3671 - accuracy: 0.7917 - val_loss: 0.3847 - val_accuracy: 0.7222\n",
      "Epoch 120/250\n",
      "3/3 [==============================] - 0s 86ms/step - loss: 0.3285 - accuracy: 0.7917 - val_loss: 0.2991 - val_accuracy: 0.8333\n",
      "Epoch 121/250\n",
      "3/3 [==============================] - 0s 86ms/step - loss: 0.2069 - accuracy: 0.9167 - val_loss: 0.5525 - val_accuracy: 0.8333\n",
      "Epoch 122/250\n",
      "3/3 [==============================] - 0s 90ms/step - loss: 0.1612 - accuracy: 0.9444 - val_loss: 0.6635 - val_accuracy: 0.8333\n",
      "Epoch 123/250\n",
      "3/3 [==============================] - 0s 88ms/step - loss: 0.1413 - accuracy: 0.9444 - val_loss: 1.3199 - val_accuracy: 0.7778\n",
      "Epoch 124/250\n",
      "3/3 [==============================] - 0s 86ms/step - loss: 0.0874 - accuracy: 0.9722 - val_loss: 1.4026 - val_accuracy: 0.7222\n",
      "Epoch 125/250\n",
      "3/3 [==============================] - 0s 87ms/step - loss: 0.0456 - accuracy: 0.9861 - val_loss: 0.8977 - val_accuracy: 0.8333\n",
      "Epoch 126/250\n",
      "3/3 [==============================] - 0s 86ms/step - loss: 0.0506 - accuracy: 0.9861 - val_loss: 2.1263 - val_accuracy: 0.7222\n",
      "Epoch 127/250\n",
      "3/3 [==============================] - 0s 87ms/step - loss: 0.4323 - accuracy: 0.8889 - val_loss: 8.3277 - val_accuracy: 0.5000\n",
      "Epoch 128/250\n",
      "3/3 [==============================] - 0s 89ms/step - loss: 2.9651 - accuracy: 0.7083 - val_loss: 18.0711 - val_accuracy: 0.5000\n",
      "Epoch 129/250\n",
      "3/3 [==============================] - 0s 96ms/step - loss: 20.2776 - accuracy: 0.5000 - val_loss: 3.0632 - val_accuracy: 0.2778\n",
      "Epoch 130/250\n",
      "3/3 [==============================] - 0s 88ms/step - loss: 3.2597 - accuracy: 0.2639 - val_loss: 2.4157 - val_accuracy: 0.5000\n",
      "Epoch 131/250\n",
      "3/3 [==============================] - 0s 91ms/step - loss: 3.6891 - accuracy: 0.3056 - val_loss: 1.5319 - val_accuracy: 0.5000\n",
      "Epoch 132/250\n",
      "3/3 [==============================] - 0s 88ms/step - loss: 3.3075 - accuracy: 0.4722 - val_loss: 4.8554 - val_accuracy: 0.3889\n",
      "Epoch 133/250\n",
      "3/3 [==============================] - 0s 88ms/step - loss: 12.1208 - accuracy: 0.2639 - val_loss: 1.9231 - val_accuracy: 0.1111\n",
      "Epoch 134/250\n",
      "3/3 [==============================] - 0s 87ms/step - loss: 2.3738 - accuracy: 0.3889 - val_loss: 11.7016 - val_accuracy: 0.3889\n",
      "Epoch 135/250\n",
      "3/3 [==============================] - 0s 88ms/step - loss: 17.3708 - accuracy: 0.3889 - val_loss: 10.4808 - val_accuracy: 0.1667\n",
      "Epoch 136/250\n",
      "3/3 [==============================] - 0s 89ms/step - loss: 11.6441 - accuracy: 0.3056 - val_loss: 8.2806 - val_accuracy: 0.2778\n",
      "Epoch 137/250\n",
      "3/3 [==============================] - 0s 87ms/step - loss: 8.3057 - accuracy: 0.3611 - val_loss: 2.7825 - val_accuracy: 0.1111\n",
      "Epoch 138/250\n",
      "3/3 [==============================] - 0s 88ms/step - loss: 2.4576 - accuracy: 0.3889 - val_loss: 1.0934 - val_accuracy: 0.3333\n",
      "Epoch 139/250\n",
      "3/3 [==============================] - 0s 88ms/step - loss: 1.0753 - accuracy: 0.3333 - val_loss: 1.2020 - val_accuracy: 0.3333\n",
      "Epoch 140/250\n",
      "3/3 [==============================] - 0s 85ms/step - loss: 1.1228 - accuracy: 0.3333 - val_loss: 1.0337 - val_accuracy: 0.3333\n",
      "Epoch 141/250\n",
      "3/3 [==============================] - 0s 86ms/step - loss: 0.9249 - accuracy: 0.5694 - val_loss: 0.7900 - val_accuracy: 0.4444\n",
      "Epoch 142/250\n",
      "3/3 [==============================] - 0s 90ms/step - loss: 0.7549 - accuracy: 0.6667 - val_loss: 0.7697 - val_accuracy: 0.5000\n",
      "Epoch 143/250\n",
      "3/3 [==============================] - 0s 88ms/step - loss: 0.7565 - accuracy: 0.7083 - val_loss: 0.7425 - val_accuracy: 0.5000\n",
      "Epoch 144/250\n",
      "3/3 [==============================] - 0s 87ms/step - loss: 0.6679 - accuracy: 0.6944 - val_loss: 0.6828 - val_accuracy: 0.5000\n",
      "Epoch 145/250\n",
      "3/3 [==============================] - 0s 87ms/step - loss: 0.6151 - accuracy: 0.7222 - val_loss: 0.6387 - val_accuracy: 0.5000\n",
      "Epoch 146/250\n",
      "3/3 [==============================] - 0s 85ms/step - loss: 0.5087 - accuracy: 0.7083 - val_loss: 0.5586 - val_accuracy: 0.5000\n",
      "Epoch 147/250\n",
      "3/3 [==============================] - 0s 84ms/step - loss: 1.9540 - accuracy: 0.6667 - val_loss: 2.4177 - val_accuracy: 0.5000\n",
      "Epoch 148/250\n",
      "3/3 [==============================] - 0s 89ms/step - loss: 3.1294 - accuracy: 0.2917 - val_loss: 2.2469 - val_accuracy: 0.5000\n",
      "Epoch 149/250\n",
      "3/3 [==============================] - 0s 87ms/step - loss: 1.9377 - accuracy: 0.4444 - val_loss: 2.2471 - val_accuracy: 0.1667\n",
      "Epoch 150/250\n",
      "3/3 [==============================] - 0s 90ms/step - loss: 1.5141 - accuracy: 0.3750 - val_loss: 0.6119 - val_accuracy: 0.8333\n",
      "Epoch 151/250\n",
      "3/3 [==============================] - 0s 100ms/step - loss: 1.1031 - accuracy: 0.4583 - val_loss: 0.8869 - val_accuracy: 0.3333\n",
      "Epoch 152/250\n",
      "3/3 [==============================] - 0s 105ms/step - loss: 0.8846 - accuracy: 0.4444 - val_loss: 0.6058 - val_accuracy: 0.6111\n",
      "Epoch 153/250\n",
      "3/3 [==============================] - 0s 92ms/step - loss: 0.7303 - accuracy: 0.5833 - val_loss: 0.9569 - val_accuracy: 0.5000\n",
      "Epoch 154/250\n",
      "3/3 [==============================] - 0s 91ms/step - loss: 0.6438 - accuracy: 0.7361 - val_loss: 0.4837 - val_accuracy: 0.8333\n",
      "Epoch 155/250\n",
      "3/3 [==============================] - 0s 89ms/step - loss: 0.6037 - accuracy: 0.5833 - val_loss: 0.6873 - val_accuracy: 0.5000\n",
      "Epoch 156/250\n",
      "3/3 [==============================] - 0s 88ms/step - loss: 0.6984 - accuracy: 0.6806 - val_loss: 0.6296 - val_accuracy: 0.5000\n",
      "Epoch 157/250\n",
      "3/3 [==============================] - 0s 90ms/step - loss: 0.5039 - accuracy: 0.7639 - val_loss: 0.4614 - val_accuracy: 0.8889\n",
      "Epoch 158/250\n",
      "3/3 [==============================] - 0s 89ms/step - loss: 0.5162 - accuracy: 0.7222 - val_loss: 0.4883 - val_accuracy: 0.5000\n",
      "Epoch 159/250\n",
      "3/3 [==============================] - 0s 87ms/step - loss: 0.4864 - accuracy: 0.6806 - val_loss: 0.5142 - val_accuracy: 0.5000\n",
      "Epoch 160/250\n",
      "3/3 [==============================] - 0s 88ms/step - loss: 0.4938 - accuracy: 0.7083 - val_loss: 0.7260 - val_accuracy: 0.5000\n",
      "Epoch 161/250\n",
      "3/3 [==============================] - 0s 88ms/step - loss: 0.5008 - accuracy: 0.7083 - val_loss: 0.5209 - val_accuracy: 0.5000\n",
      "Epoch 162/250\n",
      "3/3 [==============================] - 0s 88ms/step - loss: 0.4577 - accuracy: 0.7083 - val_loss: 0.4536 - val_accuracy: 0.9444\n",
      "Epoch 163/250\n",
      "3/3 [==============================] - 0s 89ms/step - loss: 0.4826 - accuracy: 0.7083 - val_loss: 0.4426 - val_accuracy: 0.9444\n",
      "Epoch 164/250\n",
      "3/3 [==============================] - 0s 89ms/step - loss: 0.4757 - accuracy: 0.6944 - val_loss: 0.6518 - val_accuracy: 0.5000\n",
      "Epoch 165/250\n",
      "3/3 [==============================] - 0s 88ms/step - loss: 0.4868 - accuracy: 0.7083 - val_loss: 0.4883 - val_accuracy: 0.5000\n",
      "Epoch 166/250\n",
      "3/3 [==============================] - 0s 88ms/step - loss: 0.4746 - accuracy: 0.6944 - val_loss: 0.3922 - val_accuracy: 0.8333\n",
      "Epoch 167/250\n",
      "3/3 [==============================] - 0s 88ms/step - loss: 0.5234 - accuracy: 0.6250 - val_loss: 0.5210 - val_accuracy: 0.5000\n",
      "Epoch 168/250\n",
      "3/3 [==============================] - 0s 85ms/step - loss: 0.4571 - accuracy: 0.7083 - val_loss: 0.6529 - val_accuracy: 0.5000\n",
      "Epoch 169/250\n",
      "3/3 [==============================] - 0s 88ms/step - loss: 0.4819 - accuracy: 0.7083 - val_loss: 0.5917 - val_accuracy: 0.5000\n",
      "Epoch 170/250\n",
      "3/3 [==============================] - 0s 91ms/step - loss: 0.4542 - accuracy: 0.7083 - val_loss: 0.4820 - val_accuracy: 0.5000\n",
      "Epoch 171/250\n",
      "3/3 [==============================] - 0s 89ms/step - loss: 0.4456 - accuracy: 0.7083 - val_loss: 0.4799 - val_accuracy: 0.5000\n",
      "Epoch 172/250\n",
      "3/3 [==============================] - 0s 86ms/step - loss: 0.4406 - accuracy: 0.7083 - val_loss: 0.5169 - val_accuracy: 0.5000\n",
      "Epoch 173/250\n",
      "3/3 [==============================] - 0s 91ms/step - loss: 0.4375 - accuracy: 0.7222 - val_loss: 0.4346 - val_accuracy: 0.8333\n",
      "Epoch 174/250\n",
      "3/3 [==============================] - 0s 96ms/step - loss: 0.4273 - accuracy: 0.8333 - val_loss: 0.7730 - val_accuracy: 0.5000\n"
     ]
    },
    {
     "name": "stdout",
     "output_type": "stream",
     "text": [
      "Epoch 175/250\n",
      "3/3 [==============================] - 0s 95ms/step - loss: 0.5155 - accuracy: 0.7083 - val_loss: 0.6699 - val_accuracy: 0.5000\n",
      "Epoch 176/250\n",
      "3/3 [==============================] - 0s 87ms/step - loss: 0.4501 - accuracy: 0.7222 - val_loss: 0.4055 - val_accuracy: 0.8333\n",
      "Epoch 177/250\n",
      "3/3 [==============================] - 0s 93ms/step - loss: 0.4692 - accuracy: 0.6528 - val_loss: 0.4016 - val_accuracy: 0.8333\n",
      "Epoch 178/250\n",
      "3/3 [==============================] - 0s 84ms/step - loss: 0.4517 - accuracy: 0.6806 - val_loss: 0.5459 - val_accuracy: 0.5000\n",
      "Epoch 179/250\n",
      "3/3 [==============================] - 0s 87ms/step - loss: 0.4321 - accuracy: 0.7083 - val_loss: 0.6487 - val_accuracy: 0.5000\n",
      "Epoch 180/250\n",
      "3/3 [==============================] - 0s 86ms/step - loss: 0.4563 - accuracy: 0.7083 - val_loss: 0.5791 - val_accuracy: 0.5000\n",
      "Epoch 181/250\n",
      "3/3 [==============================] - 0s 97ms/step - loss: 0.4304 - accuracy: 0.6944 - val_loss: 0.4009 - val_accuracy: 0.9444\n",
      "Epoch 182/250\n",
      "3/3 [==============================] - 0s 85ms/step - loss: 0.4286 - accuracy: 0.8056 - val_loss: 0.4916 - val_accuracy: 0.5000\n",
      "Epoch 183/250\n",
      "3/3 [==============================] - 0s 89ms/step - loss: 0.4178 - accuracy: 0.7222 - val_loss: 0.3765 - val_accuracy: 0.9444\n",
      "Epoch 184/250\n",
      "3/3 [==============================] - 0s 89ms/step - loss: 0.4642 - accuracy: 0.6944 - val_loss: 0.3819 - val_accuracy: 0.9444\n",
      "Epoch 185/250\n",
      "3/3 [==============================] - 0s 85ms/step - loss: 0.4211 - accuracy: 0.8472 - val_loss: 0.5522 - val_accuracy: 0.5000\n",
      "Epoch 186/250\n",
      "3/3 [==============================] - 0s 92ms/step - loss: 0.4264 - accuracy: 0.7222 - val_loss: 0.4394 - val_accuracy: 0.7778\n",
      "Epoch 187/250\n",
      "3/3 [==============================] - 0s 87ms/step - loss: 0.4658 - accuracy: 0.6806 - val_loss: 0.5641 - val_accuracy: 0.5000\n",
      "Epoch 188/250\n",
      "3/3 [==============================] - 0s 89ms/step - loss: 0.4873 - accuracy: 0.7083 - val_loss: 0.7043 - val_accuracy: 0.5000\n",
      "Epoch 189/250\n",
      "3/3 [==============================] - 0s 88ms/step - loss: 0.4585 - accuracy: 0.6944 - val_loss: 0.3765 - val_accuracy: 0.8333\n",
      "Epoch 190/250\n",
      "3/3 [==============================] - 0s 87ms/step - loss: 0.5504 - accuracy: 0.6389 - val_loss: 0.3715 - val_accuracy: 0.8333\n",
      "Epoch 191/250\n",
      "3/3 [==============================] - 0s 88ms/step - loss: 0.4701 - accuracy: 0.6667 - val_loss: 0.5311 - val_accuracy: 0.5000\n",
      "Epoch 192/250\n",
      "3/3 [==============================] - 0s 87ms/step - loss: 0.4518 - accuracy: 0.7083 - val_loss: 0.7280 - val_accuracy: 0.5000\n",
      "Epoch 193/250\n",
      "3/3 [==============================] - 0s 85ms/step - loss: 0.4752 - accuracy: 0.7083 - val_loss: 0.5924 - val_accuracy: 0.5000\n",
      "Epoch 194/250\n",
      "3/3 [==============================] - 0s 87ms/step - loss: 0.4934 - accuracy: 0.7083 - val_loss: 0.6843 - val_accuracy: 0.5000\n",
      "Epoch 195/250\n",
      "3/3 [==============================] - 0s 83ms/step - loss: 0.4760 - accuracy: 0.7083 - val_loss: 0.6213 - val_accuracy: 0.5000\n",
      "Epoch 196/250\n",
      "3/3 [==============================] - 0s 93ms/step - loss: 0.4195 - accuracy: 0.7361 - val_loss: 0.3963 - val_accuracy: 0.8333\n",
      "Epoch 197/250\n",
      "3/3 [==============================] - 0s 92ms/step - loss: 0.4418 - accuracy: 0.6806 - val_loss: 0.3743 - val_accuracy: 0.8333\n",
      "Epoch 198/250\n",
      "3/3 [==============================] - 0s 88ms/step - loss: 0.4653 - accuracy: 0.6528 - val_loss: 0.4551 - val_accuracy: 0.5556\n",
      "Epoch 199/250\n",
      "3/3 [==============================] - 0s 86ms/step - loss: 0.4471 - accuracy: 0.7222 - val_loss: 0.5335 - val_accuracy: 0.5000\n",
      "Epoch 200/250\n",
      "3/3 [==============================] - 0s 86ms/step - loss: 0.4010 - accuracy: 0.8194 - val_loss: 0.3547 - val_accuracy: 0.8333\n",
      "Epoch 201/250\n",
      "3/3 [==============================] - 0s 87ms/step - loss: 0.4928 - accuracy: 0.6528 - val_loss: 0.3833 - val_accuracy: 0.8333\n",
      "Epoch 202/250\n",
      "3/3 [==============================] - 0s 91ms/step - loss: 0.4187 - accuracy: 0.7639 - val_loss: 0.5658 - val_accuracy: 0.5000\n",
      "Epoch 203/250\n",
      "3/3 [==============================] - 0s 91ms/step - loss: 0.4170 - accuracy: 0.7083 - val_loss: 0.5338 - val_accuracy: 0.5000\n",
      "Epoch 204/250\n",
      "3/3 [==============================] - 0s 84ms/step - loss: 0.4097 - accuracy: 0.7361 - val_loss: 0.5044 - val_accuracy: 0.5000\n",
      "Epoch 205/250\n",
      "3/3 [==============================] - 0s 85ms/step - loss: 0.4000 - accuracy: 0.7361 - val_loss: 0.4868 - val_accuracy: 0.5000\n",
      "Epoch 206/250\n",
      "3/3 [==============================] - 0s 88ms/step - loss: 0.4218 - accuracy: 0.7222 - val_loss: 0.4823 - val_accuracy: 0.5000\n",
      "Epoch 207/250\n",
      "3/3 [==============================] - 0s 86ms/step - loss: 0.4231 - accuracy: 0.7222 - val_loss: 0.5107 - val_accuracy: 0.5000\n",
      "Epoch 208/250\n",
      "3/3 [==============================] - 0s 86ms/step - loss: 0.4198 - accuracy: 0.7500 - val_loss: 0.3535 - val_accuracy: 0.8333\n",
      "Epoch 209/250\n",
      "3/3 [==============================] - 0s 87ms/step - loss: 0.4008 - accuracy: 0.8056 - val_loss: 0.7098 - val_accuracy: 0.5000\n",
      "Epoch 210/250\n",
      "3/3 [==============================] - 0s 84ms/step - loss: 0.4722 - accuracy: 0.7083 - val_loss: 0.7261 - val_accuracy: 0.5000\n",
      "Epoch 211/250\n",
      "3/3 [==============================] - 0s 85ms/step - loss: 0.4614 - accuracy: 0.7361 - val_loss: 0.3820 - val_accuracy: 0.8333\n",
      "Epoch 212/250\n",
      "3/3 [==============================] - 0s 89ms/step - loss: 0.4179 - accuracy: 0.7917 - val_loss: 0.4482 - val_accuracy: 0.6667\n",
      "Epoch 213/250\n",
      "3/3 [==============================] - 0s 89ms/step - loss: 0.3924 - accuracy: 0.7778 - val_loss: 0.6056 - val_accuracy: 0.5000\n",
      "Epoch 214/250\n",
      "3/3 [==============================] - 0s 83ms/step - loss: 0.4450 - accuracy: 0.7083 - val_loss: 0.5674 - val_accuracy: 0.5000\n",
      "Epoch 215/250\n",
      "3/3 [==============================] - 0s 91ms/step - loss: 0.3974 - accuracy: 0.7639 - val_loss: 0.3498 - val_accuracy: 0.8333\n",
      "Epoch 216/250\n",
      "3/3 [==============================] - 0s 91ms/step - loss: 0.4770 - accuracy: 0.6528 - val_loss: 0.3982 - val_accuracy: 0.9444\n",
      "Epoch 217/250\n",
      "3/3 [==============================] - 0s 88ms/step - loss: 0.3775 - accuracy: 0.8472 - val_loss: 0.7532 - val_accuracy: 0.5000\n",
      "Epoch 218/250\n",
      "3/3 [==============================] - 0s 91ms/step - loss: 0.4927 - accuracy: 0.7083 - val_loss: 0.6140 - val_accuracy: 0.5000\n",
      "Epoch 219/250\n",
      "3/3 [==============================] - 0s 93ms/step - loss: 0.3857 - accuracy: 0.7778 - val_loss: 0.3489 - val_accuracy: 0.8333\n",
      "Epoch 220/250\n",
      "3/3 [==============================] - 0s 90ms/step - loss: 0.5575 - accuracy: 0.6528 - val_loss: 0.3626 - val_accuracy: 0.8333\n",
      "Epoch 221/250\n",
      "3/3 [==============================] - 0s 90ms/step - loss: 0.4093 - accuracy: 0.7639 - val_loss: 0.6548 - val_accuracy: 0.5000\n",
      "Epoch 222/250\n",
      "3/3 [==============================] - 0s 105ms/step - loss: 0.5259 - accuracy: 0.7083 - val_loss: 0.6579 - val_accuracy: 0.5000\n",
      "Epoch 223/250\n",
      "3/3 [==============================] - 0s 88ms/step - loss: 0.4017 - accuracy: 0.7639 - val_loss: 0.3751 - val_accuracy: 0.8333\n",
      "Epoch 224/250\n",
      "3/3 [==============================] - 0s 92ms/step - loss: 0.4931 - accuracy: 0.6528 - val_loss: 0.3704 - val_accuracy: 0.8333\n",
      "Epoch 225/250\n",
      "3/3 [==============================] - 0s 88ms/step - loss: 0.5124 - accuracy: 0.6528 - val_loss: 0.4159 - val_accuracy: 0.8333\n",
      "Epoch 226/250\n",
      "3/3 [==============================] - 0s 87ms/step - loss: 0.4198 - accuracy: 0.7500 - val_loss: 0.5715 - val_accuracy: 0.5000\n",
      "Epoch 227/250\n",
      "3/3 [==============================] - 0s 85ms/step - loss: 0.4409 - accuracy: 0.7083 - val_loss: 0.6194 - val_accuracy: 0.5000\n",
      "Epoch 228/250\n",
      "3/3 [==============================] - 0s 87ms/step - loss: 0.4298 - accuracy: 0.7083 - val_loss: 0.4849 - val_accuracy: 0.5000\n",
      "Epoch 229/250\n",
      "3/3 [==============================] - 0s 86ms/step - loss: 0.4124 - accuracy: 0.8056 - val_loss: 0.4081 - val_accuracy: 0.8333\n",
      "Epoch 230/250\n",
      "3/3 [==============================] - 0s 85ms/step - loss: 0.4507 - accuracy: 0.6528 - val_loss: 0.3913 - val_accuracy: 0.8333\n",
      "Epoch 231/250\n",
      "3/3 [==============================] - 0s 86ms/step - loss: 0.4389 - accuracy: 0.6806 - val_loss: 0.4598 - val_accuracy: 0.5000\n",
      "Epoch 232/250\n",
      "3/3 [==============================] - 0s 87ms/step - loss: 0.4078 - accuracy: 0.7500 - val_loss: 0.5696 - val_accuracy: 0.5000\n"
     ]
    },
    {
     "name": "stdout",
     "output_type": "stream",
     "text": [
      "Epoch 233/250\n",
      "3/3 [==============================] - 0s 92ms/step - loss: 0.4309 - accuracy: 0.7083 - val_loss: 0.5112 - val_accuracy: 0.5000\n",
      "Epoch 234/250\n",
      "3/3 [==============================] - 0s 87ms/step - loss: 0.4021 - accuracy: 0.7500 - val_loss: 0.4193 - val_accuracy: 1.0000\n",
      "Epoch 235/250\n",
      "3/3 [==============================] - 0s 88ms/step - loss: 0.4116 - accuracy: 0.8333 - val_loss: 0.4040 - val_accuracy: 1.0000\n",
      "Epoch 236/250\n",
      "3/3 [==============================] - 0s 89ms/step - loss: 0.4000 - accuracy: 0.8750 - val_loss: 0.5302 - val_accuracy: 0.5000\n",
      "Epoch 237/250\n",
      "3/3 [==============================] - 0s 86ms/step - loss: 0.4034 - accuracy: 0.7222 - val_loss: 0.5346 - val_accuracy: 0.5000\n",
      "Epoch 238/250\n",
      "3/3 [==============================] - 0s 93ms/step - loss: 0.3931 - accuracy: 0.7500 - val_loss: 0.3630 - val_accuracy: 1.0000\n",
      "Epoch 239/250\n",
      "3/3 [==============================] - 0s 86ms/step - loss: 0.4043 - accuracy: 0.7917 - val_loss: 0.6329 - val_accuracy: 0.5000\n",
      "Epoch 240/250\n",
      "3/3 [==============================] - 0s 89ms/step - loss: 0.4414 - accuracy: 0.7083 - val_loss: 0.5703 - val_accuracy: 0.5000\n",
      "Epoch 241/250\n",
      "3/3 [==============================] - 0s 95ms/step - loss: 0.4018 - accuracy: 0.7222 - val_loss: 0.4126 - val_accuracy: 0.9444\n",
      "Epoch 242/250\n",
      "3/3 [==============================] - 0s 90ms/step - loss: 0.4137 - accuracy: 0.7917 - val_loss: 0.3487 - val_accuracy: 0.8333\n",
      "Epoch 243/250\n",
      "3/3 [==============================] - 0s 86ms/step - loss: 0.4624 - accuracy: 0.6528 - val_loss: 0.4279 - val_accuracy: 0.8333\n",
      "Epoch 244/250\n",
      "3/3 [==============================] - 0s 87ms/step - loss: 0.4203 - accuracy: 0.7500 - val_loss: 0.8329 - val_accuracy: 0.5000\n",
      "Epoch 245/250\n",
      "3/3 [==============================] - 0s 86ms/step - loss: 0.4910 - accuracy: 0.7083 - val_loss: 0.4279 - val_accuracy: 0.8333\n",
      "Epoch 246/250\n",
      "3/3 [==============================] - 0s 90ms/step - loss: 0.4005 - accuracy: 0.7917 - val_loss: 0.3495 - val_accuracy: 0.8333\n",
      "Epoch 247/250\n",
      "3/3 [==============================] - 0s 86ms/step - loss: 0.5416 - accuracy: 0.6528 - val_loss: 0.3734 - val_accuracy: 0.8333\n",
      "Epoch 248/250\n",
      "3/3 [==============================] - 0s 85ms/step - loss: 0.4339 - accuracy: 0.7500 - val_loss: 0.5917 - val_accuracy: 0.5000\n",
      "Epoch 249/250\n",
      "3/3 [==============================] - 0s 86ms/step - loss: 0.4205 - accuracy: 0.7083 - val_loss: 0.6415 - val_accuracy: 0.5000\n",
      "Epoch 250/250\n",
      "3/3 [==============================] - 0s 92ms/step - loss: 0.4293 - accuracy: 0.7083 - val_loss: 0.4937 - val_accuracy: 0.5000\n"
     ]
    },
    {
     "data": {
      "text/plain": [
       "<keras.callbacks.History at 0x267e85ccee0>"
      ]
     },
     "execution_count": 22,
     "metadata": {},
     "output_type": "execute_result"
    }
   ],
   "source": [
    "model.fit(X_train, y_train, epochs=250, callbacks=[tb_callback], validation_data=(X_test,y_test))"
   ]
  },
  {
   "cell_type": "code",
   "execution_count": 23,
   "metadata": {},
   "outputs": [
    {
     "name": "stdout",
     "output_type": "stream",
     "text": [
      "Model: \"sequential\"\n",
      "_________________________________________________________________\n",
      " Layer (type)                Output Shape              Param #   \n",
      "=================================================================\n",
      " lstm (LSTM)                 (None, 30, 64)            442112    \n",
      "                                                                 \n",
      " lstm_1 (LSTM)               (None, 30, 128)           98816     \n",
      "                                                                 \n",
      " lstm_2 (LSTM)               (None, 64)                49408     \n",
      "                                                                 \n",
      " dense (Dense)               (None, 64)                4160      \n",
      "                                                                 \n",
      " dense_1 (Dense)             (None, 32)                2080      \n",
      "                                                                 \n",
      " dense_2 (Dense)             (None, 3)                 99        \n",
      "                                                                 \n",
      "=================================================================\n",
      "Total params: 596,675\n",
      "Trainable params: 596,675\n",
      "Non-trainable params: 0\n",
      "_________________________________________________________________\n"
     ]
    }
   ],
   "source": [
    "model.summary()"
   ]
  },
  {
   "cell_type": "markdown",
   "metadata": {},
   "source": [
    "# Make Predictions"
   ]
  },
  {
   "cell_type": "code",
   "execution_count": 24,
   "metadata": {},
   "outputs": [
    {
     "name": "stdout",
     "output_type": "stream",
     "text": [
      "1/1 [==============================] - 1s 603ms/step\n"
     ]
    }
   ],
   "source": [
    "res = model.predict(X_test)"
   ]
  },
  {
   "cell_type": "code",
   "execution_count": 25,
   "metadata": {},
   "outputs": [
    {
     "data": {
      "text/plain": [
       "'kapan'"
      ]
     },
     "execution_count": 25,
     "metadata": {},
     "output_type": "execute_result"
    }
   ],
   "source": [
    "actions[np.argmax(res[4])]"
   ]
  },
  {
   "cell_type": "code",
   "execution_count": 26,
   "metadata": {},
   "outputs": [
    {
     "data": {
      "text/plain": [
       "'dimana'"
      ]
     },
     "execution_count": 26,
     "metadata": {},
     "output_type": "execute_result"
    }
   ],
   "source": [
    "actions[np.argmax(y_test[4])]"
   ]
  },
  {
   "cell_type": "markdown",
   "metadata": {},
   "source": [
    "# Save Weights"
   ]
  },
  {
   "cell_type": "code",
   "execution_count": 27,
   "metadata": {},
   "outputs": [],
   "source": [
    "model.save('action.h5')"
   ]
  },
  {
   "cell_type": "code",
   "execution_count": 28,
   "metadata": {},
   "outputs": [],
   "source": [
    "model.load_weights('action.h5')"
   ]
  },
  {
   "cell_type": "markdown",
   "metadata": {},
   "source": [
    "# Evaluation using Confusion Matrix and Accuracy"
   ]
  },
  {
   "cell_type": "code",
   "execution_count": 29,
   "metadata": {},
   "outputs": [],
   "source": [
    "from sklearn.metrics import multilabel_confusion_matrix, accuracy_score"
   ]
  },
  {
   "cell_type": "code",
   "execution_count": 30,
   "metadata": {},
   "outputs": [
    {
     "name": "stdout",
     "output_type": "stream",
     "text": [
      "1/1 [==============================] - 0s 34ms/step\n"
     ]
    }
   ],
   "source": [
    "yhat = model.predict(X_test)"
   ]
  },
  {
   "cell_type": "code",
   "execution_count": 31,
   "metadata": {},
   "outputs": [],
   "source": [
    "ytrue = np.argmax(y_test, axis=1).tolist()\n",
    "yhat = np.argmax(yhat, axis=1).tolist()"
   ]
  },
  {
   "cell_type": "code",
   "execution_count": 32,
   "metadata": {},
   "outputs": [
    {
     "data": {
      "text/plain": [
       "array([[[12,  0],\n",
       "        [ 0,  6]],\n",
       "\n",
       "       [[ 9,  0],\n",
       "        [ 9,  0]],\n",
       "\n",
       "       [[ 6,  9],\n",
       "        [ 0,  3]]], dtype=int64)"
      ]
     },
     "execution_count": 32,
     "metadata": {},
     "output_type": "execute_result"
    }
   ],
   "source": [
    "multilabel_confusion_matrix(ytrue, yhat)"
   ]
  },
  {
   "cell_type": "code",
   "execution_count": 33,
   "metadata": {},
   "outputs": [
    {
     "data": {
      "text/plain": [
       "0.5"
      ]
     },
     "execution_count": 33,
     "metadata": {},
     "output_type": "execute_result"
    }
   ],
   "source": [
    "accuracy_score(ytrue, yhat)"
   ]
  },
  {
   "cell_type": "markdown",
   "metadata": {},
   "source": [
    "# Test in Real Time"
   ]
  },
  {
   "cell_type": "code",
   "execution_count": 38,
   "metadata": {},
   "outputs": [
    {
     "ename": "error",
     "evalue": "OpenCV(4.6.0) D:\\a\\opencv-python\\opencv-python\\opencv\\modules\\imgproc\\src\\color.cpp:182: error: (-215:Assertion failed) !_src.empty() in function 'cv::cvtColor'\n",
     "output_type": "error",
     "traceback": [
      "\u001b[1;31m---------------------------------------------------------------------------\u001b[0m",
      "\u001b[1;31merror\u001b[0m                                     Traceback (most recent call last)",
      "Input \u001b[1;32mIn [38]\u001b[0m, in \u001b[0;36m<cell line: 9>\u001b[1;34m()\u001b[0m\n\u001b[0;32m     13\u001b[0m ret, frame \u001b[38;5;241m=\u001b[39m cap\u001b[38;5;241m.\u001b[39mread()\n\u001b[0;32m     15\u001b[0m \u001b[38;5;66;03m# Make detections\u001b[39;00m\n\u001b[1;32m---> 16\u001b[0m image, results \u001b[38;5;241m=\u001b[39m \u001b[43mmediapipe_detection\u001b[49m\u001b[43m(\u001b[49m\u001b[43mframe\u001b[49m\u001b[43m,\u001b[49m\u001b[43m \u001b[49m\u001b[43mholistic\u001b[49m\u001b[43m)\u001b[49m\n\u001b[0;32m     17\u001b[0m \u001b[38;5;28mprint\u001b[39m(results)\n\u001b[0;32m     19\u001b[0m \u001b[38;5;66;03m# Draw landmarks\u001b[39;00m\n",
      "Input \u001b[1;32mIn [4]\u001b[0m, in \u001b[0;36mmediapipe_detection\u001b[1;34m(image, model)\u001b[0m\n\u001b[0;32m      1\u001b[0m \u001b[38;5;28;01mdef\u001b[39;00m \u001b[38;5;21mmediapipe_detection\u001b[39m(image, model):\n\u001b[1;32m----> 2\u001b[0m     image \u001b[38;5;241m=\u001b[39m \u001b[43mcv2\u001b[49m\u001b[38;5;241;43m.\u001b[39;49m\u001b[43mcvtColor\u001b[49m\u001b[43m(\u001b[49m\u001b[43mimage\u001b[49m\u001b[43m,\u001b[49m\u001b[43mcv2\u001b[49m\u001b[38;5;241;43m.\u001b[39;49m\u001b[43mCOLOR_BGR2RGB\u001b[49m\u001b[43m)\u001b[49m \u001b[38;5;66;03m# COLOR CONVERSION BGR 2 RGB\u001b[39;00m\n\u001b[0;32m      3\u001b[0m     image\u001b[38;5;241m.\u001b[39mflags\u001b[38;5;241m.\u001b[39mwriteable \u001b[38;5;241m=\u001b[39m \u001b[38;5;28;01mFalse\u001b[39;00m                  \u001b[38;5;66;03m# Image is no longer writeable\u001b[39;00m\n\u001b[0;32m      4\u001b[0m     results \u001b[38;5;241m=\u001b[39m model\u001b[38;5;241m.\u001b[39mprocess(image)                 \u001b[38;5;66;03m# Make prediction\u001b[39;00m\n",
      "\u001b[1;31merror\u001b[0m: OpenCV(4.6.0) D:\\a\\opencv-python\\opencv-python\\opencv\\modules\\imgproc\\src\\color.cpp:182: error: (-215:Assertion failed) !_src.empty() in function 'cv::cvtColor'\n"
     ]
    }
   ],
   "source": [
    "# 1. New detection variables\n",
    "sequence = []\n",
    "sentence = []\n",
    "predictions = []\n",
    "threshold = 0.5\n",
    "\n",
    "cap = cv2.VideoCapture(0)\n",
    "# Set mediapipe model \n",
    "with mp_holistic.Holistic(min_detection_confidence=0.5, min_tracking_confidence=0.5) as holistic:\n",
    "    while cap.isOpened():\n",
    "\n",
    "        # Read feed\n",
    "        ret, frame = cap.read()\n",
    "\n",
    "        # Make detections\n",
    "        image, results = mediapipe_detection(frame, holistic)\n",
    "        print(results)\n",
    "        \n",
    "        # Draw landmarks\n",
    "        draw_styled_landmarks(image, results)\n",
    "        \n",
    "        # 2. Prediction logic\n",
    "        keypoints = extract_keypoints(results)\n",
    "        sequence.append(keypoints)\n",
    "        sequence = sequence[-30:]\n",
    "        \n",
    "        if len(sequence) == 30:\n",
    "            res = model.predict(np.expand_dims(sequence, axis=0))[0]\n",
    "            print(actions[np.argmax(res)])\n",
    "            predictions.append(np.argmax(res))\n",
    "            \n",
    "            \n",
    "        #3. Viz logic\n",
    "            if np.unique(predictions[-10:])[0]==np.argmax(res): \n",
    "                if res[np.argmax(res)] > threshold: \n",
    "                    \n",
    "                    if len(sentence) > 0: \n",
    "                        if actions[np.argmax(res)] != sentence[-1]:\n",
    "                            sentence.append(actions[np.argmax(res)])\n",
    "                    else:\n",
    "                        sentence.append(actions[np.argmax(res)])\n",
    "\n",
    "            if len(sentence) > 5: \n",
    "                sentence = sentence[-5:]\n",
    "\n",
    "        cv2.rectangle(image, (0,0), (640, 40), (245, 117, 16), -1)\n",
    "        cv2.putText(image, ' '.join(sentence), (3,30), \n",
    "                       cv2.FONT_HERSHEY_SIMPLEX, 1, (255, 255, 255), 2, cv2.LINE_AA)\n",
    "        \n",
    "        # Show to screen\n",
    "        cv2.imshow('OpenCV Feed', image)\n",
    "\n",
    "        # Break gracefully\n",
    "        if cv2.waitKey(10) & 0xFF == ord('q'):\n",
    "            break\n",
    "    cap.release()\n",
    "    cv2.destroyAllWindows()"
   ]
  },
  {
   "cell_type": "code",
   "execution_count": 39,
   "metadata": {},
   "outputs": [],
   "source": [
    "cap.release()\n",
    "cv2.destroyAllWindows()"
   ]
  },
  {
   "cell_type": "code",
   "execution_count": null,
   "metadata": {},
   "outputs": [],
   "source": []
  }
 ],
 "metadata": {
  "colab": {
   "provenance": []
  },
  "kernelspec": {
   "display_name": "Python 3 (ipykernel)",
   "language": "python",
   "name": "python3"
  },
  "language_info": {
   "codemirror_mode": {
    "name": "ipython",
    "version": 3
   },
   "file_extension": ".py",
   "mimetype": "text/x-python",
   "name": "python",
   "nbconvert_exporter": "python",
   "pygments_lexer": "ipython3",
   "version": "3.9.12"
  }
 },
 "nbformat": 4,
 "nbformat_minor": 1
}
